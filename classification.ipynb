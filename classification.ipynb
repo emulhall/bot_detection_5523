{
 "cells": [
  {
   "cell_type": "markdown",
   "metadata": {
    "id": "tlTGcVrTcj9j"
   },
   "source": [
    "List of classifiers to use"
   ]
  },
  {
   "cell_type": "markdown",
   "metadata": {
    "id": "Ko0P1iKQcm7H"
   },
   "source": [
    "\n",
    "\n",
    "1.   Decision Tree\n",
    "2.   Rule-based\n",
    "3.   Nearest Neighbors (kNN)\n",
    "4.   Naive Bayes\n",
    "5.   Support Vector Machine (SVM)\n",
    "6.   Neural Networks\n",
    "7.   Random Forest\n",
    "\n"
   ]
  },
  {
   "cell_type": "markdown",
   "metadata": {
    "id": "9wuB5XUZcCWQ"
   },
   "source": [
    "IMPORT, CLEAN, AND SPLIT DATASET INTO BALANCED AND UNBLANCED TRAIN AND TEST"
   ]
  },
  {
   "cell_type": "code",
   "execution_count": 3,
   "metadata": {
    "colab": {
     "base_uri": "https://localhost:8080/"
    },
    "id": "FAgoK903sw2O",
    "outputId": "e661c20e-f2f1-4678-bb9f-3303032a2b39"
   },
   "outputs": [],
   "source": [
    "import pandas as pd\n",
    "from sklearn.model_selection import train_test_split\n",
    "import math"
   ]
  },
  {
   "cell_type": "code",
   "execution_count": 4,
   "metadata": {
    "id": "dmmkePMVLXKg"
   },
   "outputs": [],
   "source": [
    "import numpy as np"
   ]
  },
  {
   "cell_type": "code",
   "execution_count": 5,
   "metadata": {
    "id": "bdCu2OR8r2YV"
   },
   "outputs": [],
   "source": [
    "train_u = pd.read_json('data/more_human_train.json')"
   ]
  },
  {
   "cell_type": "code",
   "execution_count": 6,
   "metadata": {
    "id": "rrP-1vJhsU4l"
   },
   "outputs": [],
   "source": [
    "test_u = pd.read_json('data/more_human_test.json')"
   ]
  },
  {
   "cell_type": "code",
   "execution_count": 7,
   "metadata": {
    "id": "8g47rgnJsW4N"
   },
   "outputs": [],
   "source": [
    "train_b = pd.read_json('data/bal_train.json')"
   ]
  },
  {
   "cell_type": "code",
   "execution_count": 8,
   "metadata": {
    "id": "SBXDFy38sYPa"
   },
   "outputs": [],
   "source": [
    "test_b = pd.read_json('data/bal_test.json')"
   ]
  },
  {
   "cell_type": "code",
   "execution_count": 9,
   "metadata": {
    "id": "L6cyNhEwtbtJ"
   },
   "outputs": [],
   "source": [
    "dataframes = [train_u, test_u, train_b, test_b]\n",
    "\n",
    "for dataframe in dataframes:\n",
    "  dataframe['bot'] = [1 if val=='bot' else 0 for val in dataframe['bot']]   # convert bot column from string to int (1 for bot, 0 for human)"
   ]
  },
  {
   "cell_type": "code",
   "execution_count": 10,
   "metadata": {
    "colab": {
     "base_uri": "https://localhost:8080/"
    },
    "id": "I4iWJUyLdZus",
    "outputId": "92d3b40a-cecb-4088-f9d1-16865f0468f5"
   },
   "outputs": [
    {
     "name": "stdout",
     "output_type": "stream",
     "text": [
      "<class 'pandas.core.frame.DataFrame'>\n",
      "Int64Index: 1317 entries, 10798 to 31227\n",
      "Data columns (total 10 columns):\n",
      " #   Column                        Non-Null Count  Dtype\n",
      "---  ------                        --------------  -----\n",
      " 0   verified                      1317 non-null   bool \n",
      " 1   geo_enabled                   1317 non-null   bool \n",
      " 2   profile_use_background_image  1317 non-null   bool \n",
      " 3   default_profile               1317 non-null   bool \n",
      " 4   followers_count               1317 non-null   int64\n",
      " 5   friends_count                 1317 non-null   int64\n",
      " 6   listed_count                  1317 non-null   int64\n",
      " 7   favourites_count              1317 non-null   int64\n",
      " 8   statuses_count                1317 non-null   int64\n",
      " 9   bot                           1317 non-null   int64\n",
      "dtypes: bool(4), int64(6)\n",
      "memory usage: 77.2 KB\n"
     ]
    }
   ],
   "source": [
    "train_u[train_u['bot']==1].info()"
   ]
  },
  {
   "cell_type": "code",
   "execution_count": 11,
   "metadata": {
    "colab": {
     "base_uri": "https://localhost:8080/"
    },
    "id": "vMAxxUFGd2Pp",
    "outputId": "6eebbbbc-440b-4d2d-bc54-3a41b0ae6640"
   },
   "outputs": [
    {
     "name": "stdout",
     "output_type": "stream",
     "text": [
      "<class 'pandas.core.frame.DataFrame'>\n",
      "Int64Index: 340 entries, 14744 to 43204\n",
      "Data columns (total 10 columns):\n",
      " #   Column                        Non-Null Count  Dtype\n",
      "---  ------                        --------------  -----\n",
      " 0   verified                      340 non-null    bool \n",
      " 1   geo_enabled                   340 non-null    bool \n",
      " 2   profile_use_background_image  340 non-null    bool \n",
      " 3   default_profile               340 non-null    bool \n",
      " 4   followers_count               340 non-null    int64\n",
      " 5   friends_count                 340 non-null    int64\n",
      " 6   listed_count                  340 non-null    int64\n",
      " 7   favourites_count              340 non-null    int64\n",
      " 8   statuses_count                340 non-null    int64\n",
      " 9   bot                           340 non-null    int64\n",
      "dtypes: bool(4), int64(6)\n",
      "memory usage: 19.9 KB\n"
     ]
    }
   ],
   "source": [
    "test_u[test_u['bot']==1].info()"
   ]
  },
  {
   "cell_type": "code",
   "execution_count": 12,
   "metadata": {
    "colab": {
     "base_uri": "https://localhost:8080/"
    },
    "id": "b75-0hGrtQSz",
    "outputId": "da1bb0b5-c7a9-411a-b759-6c4934918613"
   },
   "outputs": [
    {
     "name": "stdout",
     "output_type": "stream",
     "text": [
      "<class 'pandas.core.frame.DataFrame'>\n",
      "Int64Index: 1950 entries, 5103 to 43204\n",
      "Data columns (total 10 columns):\n",
      " #   Column                        Non-Null Count  Dtype\n",
      "---  ------                        --------------  -----\n",
      " 0   verified                      1950 non-null   bool \n",
      " 1   geo_enabled                   1950 non-null   bool \n",
      " 2   profile_use_background_image  1950 non-null   bool \n",
      " 3   default_profile               1950 non-null   bool \n",
      " 4   followers_count               1950 non-null   int64\n",
      " 5   friends_count                 1950 non-null   int64\n",
      " 6   listed_count                  1950 non-null   int64\n",
      " 7   favourites_count              1950 non-null   int64\n",
      " 8   statuses_count                1950 non-null   int64\n",
      " 9   bot                           1950 non-null   int64\n",
      "dtypes: bool(4), int64(6)\n",
      "memory usage: 114.3 KB\n"
     ]
    }
   ],
   "source": [
    "test_u.info()"
   ]
  },
  {
   "cell_type": "code",
   "execution_count": 13,
   "metadata": {
    "colab": {
     "base_uri": "https://localhost:8080/"
    },
    "id": "e6kjpA9Pc1aB",
    "outputId": "fc905ed1-88a1-4a0a-a129-93f4a8f635d8"
   },
   "outputs": [
    {
     "name": "stdout",
     "output_type": "stream",
     "text": [
      "<class 'pandas.core.frame.DataFrame'>\n",
      "Int64Index: 7799 entries, 5382 to 1901\n",
      "Data columns (total 10 columns):\n",
      " #   Column                        Non-Null Count  Dtype\n",
      "---  ------                        --------------  -----\n",
      " 0   verified                      7799 non-null   bool \n",
      " 1   geo_enabled                   7799 non-null   bool \n",
      " 2   profile_use_background_image  7799 non-null   bool \n",
      " 3   default_profile               7799 non-null   bool \n",
      " 4   followers_count               7799 non-null   int64\n",
      " 5   friends_count                 7799 non-null   int64\n",
      " 6   listed_count                  7799 non-null   int64\n",
      " 7   favourites_count              7799 non-null   int64\n",
      " 8   statuses_count                7799 non-null   int64\n",
      " 9   bot                           7799 non-null   int64\n",
      "dtypes: bool(4), int64(6)\n",
      "memory usage: 457.0 KB\n"
     ]
    }
   ],
   "source": [
    "train_u.info()"
   ]
  },
  {
   "cell_type": "code",
   "execution_count": 14,
   "metadata": {
    "colab": {
     "base_uri": "https://localhost:8080/"
    },
    "id": "3rDNt3gZc3Po",
    "outputId": "67ac1396-dcb3-4d41-9ceb-13365589df32"
   },
   "outputs": [
    {
     "name": "stdout",
     "output_type": "stream",
     "text": [
      "<class 'pandas.core.frame.DataFrame'>\n",
      "Int64Index: 3237 entries, 620 to 41206\n",
      "Data columns (total 10 columns):\n",
      " #   Column                        Non-Null Count  Dtype\n",
      "---  ------                        --------------  -----\n",
      " 0   verified                      3237 non-null   bool \n",
      " 1   geo_enabled                   3237 non-null   bool \n",
      " 2   profile_use_background_image  3237 non-null   bool \n",
      " 3   default_profile               3237 non-null   bool \n",
      " 4   followers_count               3237 non-null   int64\n",
      " 5   friends_count                 3237 non-null   int64\n",
      " 6   listed_count                  3237 non-null   int64\n",
      " 7   favourites_count              3237 non-null   int64\n",
      " 8   statuses_count                3237 non-null   int64\n",
      " 9   bot                           3237 non-null   int64\n",
      "dtypes: bool(4), int64(6)\n",
      "memory usage: 189.7 KB\n"
     ]
    }
   ],
   "source": [
    "test_b.info()"
   ]
  },
  {
   "cell_type": "code",
   "execution_count": 15,
   "metadata": {
    "colab": {
     "base_uri": "https://localhost:8080/"
    },
    "id": "EuNis7uXc4o6",
    "outputId": "99c052cc-c056-4ace-f9bf-21b26db40eed"
   },
   "outputs": [
    {
     "name": "stdout",
     "output_type": "stream",
     "text": [
      "<class 'pandas.core.frame.DataFrame'>\n",
      "Int64Index: 12947 entries, 6608 to 7525\n",
      "Data columns (total 10 columns):\n",
      " #   Column                        Non-Null Count  Dtype\n",
      "---  ------                        --------------  -----\n",
      " 0   verified                      12947 non-null  bool \n",
      " 1   geo_enabled                   12947 non-null  bool \n",
      " 2   profile_use_background_image  12947 non-null  bool \n",
      " 3   default_profile               12947 non-null  bool \n",
      " 4   followers_count               12947 non-null  int64\n",
      " 5   friends_count                 12947 non-null  int64\n",
      " 6   listed_count                  12947 non-null  int64\n",
      " 7   favourites_count              12947 non-null  int64\n",
      " 8   statuses_count                12947 non-null  int64\n",
      " 9   bot                           12947 non-null  int64\n",
      "dtypes: bool(4), int64(6)\n",
      "memory usage: 758.6 KB\n"
     ]
    }
   ],
   "source": [
    "train_b.info()"
   ]
  },
  {
   "cell_type": "code",
   "execution_count": 16,
   "metadata": {
    "id": "AT2Y8fshYqNj"
   },
   "outputs": [],
   "source": [
    "from sklearn.metrics import accuracy_score, precision_score, recall_score, f1_score\n",
    "\n",
    "def print_analysis(test, predictions, label):\n",
    "  print(\"-----------------------------------\")\n",
    "  print('{} Accuracy score: {}'.format(label, accuracy_score(test, predictions)))\n",
    "  print('{} Precision score: {}'.format(label, precision_score(test, predictions)))\n",
    "  print('{} Recall score: {}'.format(label, recall_score(test, predictions)))\n",
    "  print('{} F1 score: {}'.format(label, f1_score(test, predictions)))\n",
    "  print(\"-----------------------------------\\n\")"
   ]
  },
  {
   "cell_type": "markdown",
   "metadata": {
    "id": "HQ_nK8pZaDA1"
   },
   "source": [
    "CREATE TRAIN AND TEST FOR BALANCED AND UNBALANCED"
   ]
  },
  {
   "cell_type": "code",
   "execution_count": 17,
   "metadata": {
    "id": "su8JBIvDaHZd"
   },
   "outputs": [],
   "source": [
    "from sklearn.preprocessing import StandardScaler\n",
    "scaler = StandardScaler()\n",
    "\n",
    "# UNBALANCED\n",
    "x_train_u = train_u.to_numpy()[:,:-1].astype(int)   # all cols of train_u except for class label\n",
    "x_train_u_scaled = scaler.fit_transform(x_train_u)\n",
    "\n",
    "y_train_u = train_u.to_numpy()[:,-1].astype(int)    # only class label (last) column of train_u\n",
    "\n",
    "x_test_u = test_u.to_numpy()[:,:-1].astype(int)   # all cols of test_u except for class label\n",
    "x_test_u_scaled = scaler.transform(x_test_u)\n",
    "\n",
    "y_test_u = test_u.to_numpy()[:,-1].astype(int)    # only class label (last) column of test_u\n",
    "\n",
    "# BALANCED\n",
    "x_train_b = train_b.to_numpy()[:,:-1].astype(int)   # all cols of train_b except for class label\n",
    "x_train_b_scaled = scaler.fit_transform(x_train_b)\n",
    "\n",
    "y_train_b = train_b.to_numpy()[:,-1].astype(int)    # only class label (last) column of train_b\n",
    "\n",
    "x_test_b = test_b.to_numpy()[:,:-1].astype(int)   # all cols of test_b except for class label\n",
    "x_test_b_scaled = scaler.transform(x_test_b)\n",
    "\n",
    "y_test_b = test_b.to_numpy()[:,-1].astype(int)    # only class label (last) column of test_b"
   ]
  },
  {
   "cell_type": "markdown",
   "metadata": {
    "id": "hhx3lzQeZ04I"
   },
   "source": [
    "DECISION TREE"
   ]
  },
  {
   "cell_type": "code",
   "execution_count": 18,
   "metadata": {
    "colab": {
     "base_uri": "https://localhost:8080/"
    },
    "id": "slmXjQQ_Z4Yg",
    "outputId": "6e05b2ab-e59b-4412-8352-ef369548ae4e"
   },
   "outputs": [
    {
     "name": "stdout",
     "output_type": "stream",
     "text": [
      "decision tree unbalanced\n",
      "-----------------------------------\n",
      "tree Accuracy score: 0.9528205128205128\n",
      "tree Precision score: 0.8542857142857143\n",
      "tree Recall score: 0.8794117647058823\n",
      "tree F1 score: 0.8666666666666667\n",
      "-----------------------------------\n",
      "\n",
      "decision tree balanced\n",
      "-----------------------------------\n",
      "tree Accuracy score: 0.9335804757491505\n",
      "tree Precision score: 0.9910775566231984\n",
      "tree Recall score: 0.8772782503037667\n",
      "tree F1 score: 0.9307122139864649\n",
      "-----------------------------------\n",
      "\n"
     ]
    }
   ],
   "source": [
    "from sklearn.tree import DecisionTreeClassifier\n",
    "\n",
    "# UNBALANCED\n",
    "print('decision tree unbalanced')\n",
    "tree_u = DecisionTreeClassifier(random_state=17)\n",
    "tree_u.fit(x_train_u, y_train_u)\n",
    "tree_pred = tree_u.predict(x_test_u)\n",
    "print_analysis(y_test_u, tree_pred, 'tree')\n",
    "\n",
    "# BALANCED\n",
    "print('decision tree balanced')\n",
    "tree_b = DecisionTreeClassifier(random_state=17)\n",
    "tree_b.fit(x_train_b, y_train_b)\n",
    "tree_pred = tree_u.predict(x_test_b)\n",
    "print_analysis(y_test_b, tree_pred, 'tree')\n"
   ]
  },
  {
   "cell_type": "code",
   "execution_count": 19,
   "metadata": {
    "colab": {
     "base_uri": "https://localhost:8080/"
    },
    "id": "U_jsBhrZvusG",
    "outputId": "a6797b22-01e6-4fa0-88ee-848c7dfe58ba"
   },
   "outputs": [
    {
     "name": "stdout",
     "output_type": "stream",
     "text": [
      "22\n"
     ]
    }
   ],
   "source": [
    "print(tree_b.tree_.max_depth)"
   ]
  },
  {
   "cell_type": "markdown",
   "metadata": {
    "id": "AVxSkoHceMZM"
   },
   "source": [
    "RANDOM FOREST"
   ]
  },
  {
   "cell_type": "code",
   "execution_count": 20,
   "metadata": {
    "colab": {
     "base_uri": "https://localhost:8080/"
    },
    "id": "gAhGnCReeNYU",
    "outputId": "fdb9eebd-ff82-4f55-96e8-b680b954d9a4"
   },
   "outputs": [
    {
     "name": "stdout",
     "output_type": "stream",
     "text": [
      "random forest unbalanced\n",
      "-----------------------------------\n",
      "random forest Accuracy score: 0.9656410256410256\n",
      "random forest Precision score: 0.9099099099099099\n",
      "random forest Recall score: 0.8911764705882353\n",
      "random forest F1 score: 0.9004457652303121\n",
      "-----------------------------------\n",
      "\n",
      "random forest balanced\n",
      "-----------------------------------\n",
      "random forest Accuracy score: 0.9539697250540624\n",
      "random forest Precision score: 0.9463327370304114\n",
      "random forest Recall score: 0.9641555285540705\n",
      "random forest F1 score: 0.9551609990972013\n",
      "-----------------------------------\n",
      "\n"
     ]
    }
   ],
   "source": [
    "from sklearn.ensemble import RandomForestClassifier\n",
    "\n",
    "# UNBALANCED\n",
    "print('random forest unbalanced')\n",
    "forest_u = RandomForestClassifier(n_estimators=100, random_state=42, n_jobs=-1)\n",
    "forest_u.fit(x_train_u, y_train_u)\n",
    "forest_pred = forest_u.predict(x_test_u)\n",
    "print_analysis(y_test_u, forest_pred, 'random forest')\n",
    "\n",
    "# BALANCED\n",
    "print('random forest balanced')\n",
    "forest_b = RandomForestClassifier(n_estimators=100, random_state=42, n_jobs=-1)\n",
    "forest_b.fit(x_train_b, y_train_b)\n",
    "forest_pred = forest_b.predict(x_test_b)\n",
    "print_analysis(y_test_b, forest_pred, 'random forest')"
   ]
  },
  {
   "cell_type": "markdown",
   "metadata": {
    "id": "2WYozEPyeJQf"
   },
   "source": [
    "K NEAREST NEIGHBORS"
   ]
  },
  {
   "cell_type": "code",
   "execution_count": 21,
   "metadata": {
    "colab": {
     "base_uri": "https://localhost:8080/"
    },
    "id": "j2M3P2Tnf_Tv",
    "outputId": "b42dd07d-1839-422b-8b2c-f61cfa5badca"
   },
   "outputs": [
    {
     "name": "stdout",
     "output_type": "stream",
     "text": [
      "knn unbalanced\n",
      "-----------------------------------\n",
      "knn Accuracy score: 0.9523076923076923\n",
      "knn Precision score: 0.8664688427299704\n",
      "knn Recall score: 0.8588235294117647\n",
      "knn F1 score: 0.8626292466765141\n",
      "-----------------------------------\n",
      "\n",
      "knn balanced\n",
      "-----------------------------------\n",
      "knn Accuracy score: 0.9388322520852641\n",
      "knn Precision score: 0.9335329341317365\n",
      "knn Recall score: 0.9471445929526124\n",
      "knn F1 score: 0.9402895054282269\n",
      "-----------------------------------\n",
      "\n"
     ]
    }
   ],
   "source": [
    "from sklearn.neighbors import KNeighborsClassifier\n",
    "\n",
    "num_neighbors = 5\n",
    "\n",
    "# UNBALANCED\n",
    "print('knn unbalanced')\n",
    "knn_u = KNeighborsClassifier(n_neighbors=num_neighbors)\n",
    "# knn_u.fit(x_train_u_scaled, y_train_u)\n",
    "knn_u.fit(x_train_u, y_train_u)\n",
    "# knn_pred = knn_u.predict(x_test_u_scaled)\n",
    "knn_pred = knn_u.predict(x_test_u)\n",
    "print_analysis(y_test_u, knn_pred, 'knn')\n",
    "\n",
    "\n",
    "# BALANCED\n",
    "print('knn balanced')\n",
    "knn_b = KNeighborsClassifier(n_neighbors=num_neighbors)\n",
    "# knn_b.fit(x_train_b_scaled, y_train_b)\n",
    "knn_b.fit(x_train_b, y_train_b)\n",
    "# knn_pred = knn_u.predict(x_test_b_scaled)\n",
    "knn_pred = knn_b.predict(x_test_b)\n",
    "print_analysis(y_test_b, knn_pred, 'knn')"
   ]
  },
  {
   "cell_type": "markdown",
   "metadata": {
    "id": "2yQifIBAYjKW"
   },
   "source": [
    "NAIVE BAYES"
   ]
  },
  {
   "cell_type": "code",
   "execution_count": 22,
   "metadata": {
    "colab": {
     "base_uri": "https://localhost:8080/"
    },
    "id": "20nbBG1LYJAt",
    "outputId": "b3f1efc2-d6a3-4fd7-e59a-512fd8590ac4"
   },
   "outputs": [
    {
     "name": "stdout",
     "output_type": "stream",
     "text": [
      "naive bayes unbalanced\n",
      "-----------------------------------\n",
      "naive bayes Accuracy score: 0.6733333333333333\n",
      "naive bayes Precision score: 0.3448275862068966\n",
      "naive bayes Recall score: 0.9705882352941176\n",
      "naive bayes F1 score: 0.5088666152659985\n",
      "-----------------------------------\n",
      "\n",
      "naive bayes balanced\n",
      "-----------------------------------\n",
      "naive bayes Accuracy score: 0.751004016064257\n",
      "naive bayes Precision score: 0.6782682512733447\n",
      "naive bayes Recall score: 0.9708383961117861\n",
      "naive bayes F1 score: 0.798600699650175\n",
      "-----------------------------------\n",
      "\n"
     ]
    }
   ],
   "source": [
    "from sklearn.naive_bayes import MultinomialNB\n",
    "\n",
    "# UNBALANCED\n",
    "print('naive bayes unbalanced')\n",
    "naive_bayes_u = MultinomialNB()\n",
    "naive_bayes_u.fit(x_train_u, y_train_u)\n",
    "nb_pred = naive_bayes_u.predict(x_test_u)\n",
    "print_analysis(y_test_u, nb_pred, 'naive bayes')\n",
    "\n",
    "# BALANCED\n",
    "print('naive bayes balanced')\n",
    "naive_bayes_b = MultinomialNB()\n",
    "naive_bayes_b.fit(x_train_b, y_train_b)\n",
    "nb_pred = naive_bayes_b.predict(x_test_b)\n",
    "print_analysis(y_test_b, nb_pred, 'naive bayes')"
   ]
  },
  {
   "cell_type": "markdown",
   "metadata": {
    "id": "4yyxF7eLf6Uh"
   },
   "source": [
    "SUPPORT VECTOR MACHINE"
   ]
  },
  {
   "cell_type": "code",
   "execution_count": 23,
   "metadata": {
    "colab": {
     "base_uri": "https://localhost:8080/"
    },
    "id": "xjq2dwvNf7gL",
    "outputId": "8ca78f71-4189-4033-e813-d49912710f82"
   },
   "outputs": [
    {
     "name": "stdout",
     "output_type": "stream",
     "text": [
      "svm unbalanced\n",
      "-----------------------------------\n",
      "svm Accuracy score: 0.8256410256410256\n",
      "svm Precision score: 0.0\n",
      "svm Recall score: 0.0\n",
      "svm F1 score: 0.0\n",
      "-----------------------------------\n",
      "\n",
      "svm balanced\n"
     ]
    },
    {
     "name": "stderr",
     "output_type": "stream",
     "text": [
      "/Users/emilymulhall/opt/anaconda3/lib/python3.8/site-packages/sklearn/metrics/_classification.py:1221: UndefinedMetricWarning: Precision is ill-defined and being set to 0.0 due to no predicted samples. Use `zero_division` parameter to control this behavior.\n",
      "  _warn_prf(average, modifier, msg_start, len(result))\n"
     ]
    },
    {
     "name": "stdout",
     "output_type": "stream",
     "text": [
      "-----------------------------------\n",
      "svm Accuracy score: 0.8841519925857275\n",
      "svm Precision score: 0.8204740292486132\n",
      "svm Recall score: 0.988456865127582\n",
      "svm F1 score: 0.8966657481399836\n",
      "-----------------------------------\n",
      "\n"
     ]
    }
   ],
   "source": [
    "from sklearn import svm\n",
    "\n",
    "# UNBALANCED\n",
    "print('svm unbalanced')\n",
    "svm_u = svm.SVC()\n",
    "svm_u.fit(x_train_u, y_train_u)\n",
    "svm_pred = svm_u.predict(x_test_u)\n",
    "print_analysis(y_test_u, svm_pred, 'svm')\n",
    "\n",
    "# BALANCED\n",
    "print('svm balanced')\n",
    "svm_b = svm.SVC()\n",
    "svm_b.fit(x_train_b, y_train_b)\n",
    "svm_pred = svm_b.predict(x_test_b)\n",
    "print_analysis(y_test_b, svm_pred, 'svm')"
   ]
  },
  {
   "cell_type": "markdown",
   "metadata": {
    "id": "bajBoU0BjFEz"
   },
   "source": [
    "NEURAL NETWORK"
   ]
  },
  {
   "cell_type": "code",
   "execution_count": 24,
   "metadata": {
    "id": "QVF9GJUsuCQq"
   },
   "outputs": [],
   "source": [
    "from matplotlib import pyplot as plt\n",
    "\n",
    "def plot_history(history):\n",
    "  \n",
    "  # summarize history for accuracy\n",
    "  plt.plot(history.history['accuracy'])\n",
    "  plt.plot(history.history['val_accuracy'])\n",
    "  plt.title('model accuracy')\n",
    "  plt.ylabel('accuracy')\n",
    "  plt.xlabel('epoch')\n",
    "  plt.legend(['train', 'test'], loc='upper left')\n",
    "  plt.show()\n",
    "  # summarize history for loss\n",
    "  plt.plot(history.history['loss'])\n",
    "  plt.plot(history.history['val_loss'])\n",
    "  plt.title('model loss')\n",
    "  plt.ylabel('loss')\n",
    "  plt.xlabel('epoch')\n",
    "  plt.legend(['train', 'test'], loc='upper left')\n",
    "  plt.show()"
   ]
  },
  {
   "cell_type": "code",
   "execution_count": 25,
   "metadata": {
    "colab": {
     "base_uri": "https://localhost:8080/",
     "height": 1000
    },
    "id": "5esCHKqKjHfo",
    "outputId": "246fb1b4-a53e-4899-f7df-e7419b86ed13"
   },
   "outputs": [
    {
     "name": "stdout",
     "output_type": "stream",
     "text": [
      "neural net unbalanced\n",
      "Epoch 1/10\n",
      "208/208 [==============================] - 1s 3ms/step - loss: 99.0280 - accuracy: 0.8771 - val_loss: 1.5964 - val_accuracy: 0.9171\n",
      "Epoch 2/10\n",
      "208/208 [==============================] - 1s 2ms/step - loss: 2.5128 - accuracy: 0.9189 - val_loss: 0.7036 - val_accuracy: 0.9530\n",
      "Epoch 3/10\n",
      "208/208 [==============================] - 0s 2ms/step - loss: 1.3436 - accuracy: 0.9358 - val_loss: 0.6251 - val_accuracy: 0.9564\n",
      "Epoch 4/10\n",
      "208/208 [==============================] - 0s 2ms/step - loss: 2.9389 - accuracy: 0.9313 - val_loss: 2.5978 - val_accuracy: 0.9479\n",
      "Epoch 5/10\n",
      "208/208 [==============================] - 0s 2ms/step - loss: 2.5917 - accuracy: 0.9421 - val_loss: 1.1519 - val_accuracy: 0.9504\n",
      "Epoch 6/10\n",
      "208/208 [==============================] - 0s 2ms/step - loss: 2.9407 - accuracy: 0.9287 - val_loss: 2.2190 - val_accuracy: 0.9111\n",
      "Epoch 7/10\n",
      "208/208 [==============================] - 0s 2ms/step - loss: 3.9168 - accuracy: 0.9186 - val_loss: 1.1748 - val_accuracy: 0.9291\n",
      "Epoch 8/10\n",
      "208/208 [==============================] - 0s 2ms/step - loss: 1.9505 - accuracy: 0.9233 - val_loss: 0.9311 - val_accuracy: 0.9393\n",
      "Epoch 9/10\n",
      "208/208 [==============================] - 1s 4ms/step - loss: 1.0964 - accuracy: 0.9398 - val_loss: 2.2281 - val_accuracy: 0.9350\n",
      "Epoch 10/10\n",
      "208/208 [==============================] - 1s 4ms/step - loss: 1.9175 - accuracy: 0.9485 - val_loss: 0.6015 - val_accuracy: 0.9521\n"
     ]
    },
    {
     "data": {
      "image/png": "[encoded data removed]",
      "text/plain": [
       "<Figure size 432x288 with 1 Axes>"
      ]
     },
     "metadata": {
      "needs_background": "light"
     },
     "output_type": "display_data"
    },
    {
     "data": {
      "image/png": "[encoded data removed]",
      "text/plain": [
       "<Figure size 432x288 with 1 Axes>"
      ]
     },
     "metadata": {
      "needs_background": "light"
     },
     "output_type": "display_data"
    },
    {
     "name": "stdout",
     "output_type": "stream",
     "text": [
      "-----------------------------------\n",
      "neural net Accuracy score: 0.9528205128205128\n",
      "neural net Precision score: 0.8315508021390374\n",
      "neural net Recall score: 0.9147058823529411\n",
      "neural net F1 score: 0.8711484593837535\n",
      "-----------------------------------\n",
      "\n",
      "neural net balanced\n",
      "Epoch 1/10\n",
      "344/344 [==============================] - 1s 2ms/step - loss: 3.6737 - accuracy: 0.9205 - val_loss: 1.0313 - val_accuracy: 0.9259\n",
      "Epoch 2/10\n",
      "344/344 [==============================] - 1s 2ms/step - loss: 8.6677 - accuracy: 0.8970 - val_loss: 2.8315 - val_accuracy: 0.9141\n",
      "Epoch 3/10\n",
      "344/344 [==============================] - 1s 2ms/step - loss: 4.6916 - accuracy: 0.9133 - val_loss: 29.7923 - val_accuracy: 0.7905\n",
      "Epoch 4/10\n",
      "344/344 [==============================] - 1s 2ms/step - loss: 8.3106 - accuracy: 0.9085 - val_loss: 5.7032 - val_accuracy: 0.9238\n",
      "Epoch 5/10\n",
      "344/344 [==============================] - 1s 2ms/step - loss: 3.1171 - accuracy: 0.9298 - val_loss: 3.1622 - val_accuracy: 0.9269\n",
      "Epoch 6/10\n",
      "344/344 [==============================] - 1s 2ms/step - loss: 2.3098 - accuracy: 0.9326 - val_loss: 10.7739 - val_accuracy: 0.8888\n",
      "Epoch 7/10\n",
      "344/344 [==============================] - 1s 2ms/step - loss: 4.8491 - accuracy: 0.9216 - val_loss: 11.9660 - val_accuracy: 0.8724\n",
      "Epoch 8/10\n",
      "344/344 [==============================] - 1s 2ms/step - loss: 4.8343 - accuracy: 0.9134 - val_loss: 17.3225 - val_accuracy: 0.8729\n",
      "Epoch 9/10\n",
      "344/344 [==============================] - 1s 2ms/step - loss: 8.3844 - accuracy: 0.9084 - val_loss: 2.8313 - val_accuracy: 0.9192\n",
      "Epoch 10/10\n",
      "344/344 [==============================] - 1s 2ms/step - loss: 8.5292 - accuracy: 0.9146 - val_loss: 3.6341 - val_accuracy: 0.9315\n"
     ]
    },
    {
     "data": {
      "image/png": "[encoded data removed]",
      "text/plain": [
       "<Figure size 432x288 with 1 Axes>"
      ]
     },
     "metadata": {
      "needs_background": "light"
     },
     "output_type": "display_data"
    },
    {
     "data": {
      "image/png": "[encoded data removed]",
      "text/plain": [
       "<Figure size 432x288 with 1 Axes>"
      ]
     },
     "metadata": {
      "needs_background": "light"
     },
     "output_type": "display_data"
    },
    {
     "name": "stdout",
     "output_type": "stream",
     "text": [
      "-----------------------------------\n",
      "neural net Accuracy score: 0.9366697559468644\n",
      "neural net Precision score: 0.9466831990080595\n",
      "neural net Recall score: 0.9277035236938032\n",
      "neural net F1 score: 0.9370972691009513\n",
      "-----------------------------------\n",
      "\n"
     ]
    }
   ],
   "source": [
    "import tensorflow as tf\n",
    "import numpy as np\n",
    "\n",
    "num_epochs = 10\n",
    "\n",
    "model = tf.keras.Sequential([\n",
    "    tf.keras.layers.Flatten(input_shape=(x_train_u.shape[1],)),\n",
    "    tf.keras.layers.Dense(128, activation='relu'),\n",
    "    tf.keras.layers.Dense(2)\n",
    "])\n",
    "model.compile(optimizer='adam',\n",
    "              loss=tf.keras.losses.SparseCategoricalCrossentropy(from_logits=True),\n",
    "              metrics=['accuracy'])\n",
    "\n",
    "# UNBALANCED\n",
    "print('neural net unbalanced')\n",
    "\n",
    "history_u = model.fit(x_train_u, y_train_u, epochs=num_epochs, validation_split=0.15)\n",
    "plot_history(history_u)\n",
    "\n",
    "probability_model_u = tf.keras.Sequential([model, \n",
    "                                         tf.keras.layers.Softmax()])\n",
    "\n",
    "predictions = probability_model_u.predict(x_test_u)\n",
    "predictions = [np.argmax(pred) for pred in predictions]\n",
    "print_analysis(y_test_u, predictions, 'neural net')\n",
    "\n",
    "\n",
    "# BALANCED\n",
    "print('neural net balanced')\n",
    "\n",
    "history_b = model.fit(x_train_b, y_train_b, epochs=num_epochs, validation_split=0.15)\n",
    "plot_history(history_b)\n",
    "\n",
    "probability_model_b = tf.keras.Sequential([model, \n",
    "                                         tf.keras.layers.Softmax()])\n",
    "\n",
    "predictions = probability_model_b.predict(x_test_b)\n",
    "predictions = [np.argmax(pred) for pred in predictions]\n",
    "print_analysis(y_test_b, predictions, 'neural net')\n"
   ]
  },
  {
   "cell_type": "code",
   "execution_count": null,
   "metadata": {},
   "outputs": [],
   "source": []
  }
 ],
 "metadata": {
  "colab": {
   "collapsed_sections": [],
   "name": "classification.ipynb",
   "provenance": []
  },
  "kernelspec": {
   "display_name": "Python 3",
   "language": "python",
   "name": "python3"
  },
  "language_info": {
   "codemirror_mode": {
    "name": "ipython",
    "version": 3
   },
   "file_extension": ".py",
   "mimetype": "text/x-python",
   "name": "python",
   "nbconvert_exporter": "python",
   "pygments_lexer": "ipython3",
   "version": "3.8.5"
  }
 },
 "nbformat": 4,
 "nbformat_minor": 1
}
