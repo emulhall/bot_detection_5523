{
  "nbformat": 4,
  "nbformat_minor": 0,
  "metadata": {
    "colab": {
      "name": "classification.ipynb",
      "provenance": [],
      "collapsed_sections": []
    },
    "kernelspec": {
      "name": "python3",
      "display_name": "Python 3"
    },
    "language_info": {
      "name": "python"
    }
  },
  "cells": [
    {
      "cell_type": "markdown",
      "metadata": {
        "id": "tlTGcVrTcj9j"
      },
      "source": [
        "List of classifiers to use"
      ]
    },
    {
      "cell_type": "markdown",
      "metadata": {
        "id": "Ko0P1iKQcm7H"
      },
      "source": [
        "\n",
        "\n",
        "1.   ~Decision Tree~\n",
        "2.   Rule-based\n",
        "3.   ~Nearest Neighbors (kNN)~\n",
        "4.   ~Naive Bayes~\n",
        "5.   ~Support Vector Machine (SVM)~\n",
        "6.   ~Neural Networks~\n",
        "7.   ~Random Forest~\n",
        "\n"
      ]
    },
    {
      "cell_type": "markdown",
      "metadata": {
        "id": "9wuB5XUZcCWQ"
      },
      "source": [
        "IMPORT, CLEAN, AND SPLIT DATASET INTO BALANCED AND UNBLANCED TRAIN AND TEST"
      ]
    },
    {
      "cell_type": "code",
      "metadata": {
        "colab": {
          "base_uri": "https://localhost:8080/"
        },
        "id": "FAgoK903sw2O",
        "outputId": "e661c20e-f2f1-4678-bb9f-3303032a2b39"
      },
      "source": [
        "import pandas as pd\n",
        "from sklearn.model_selection import train_test_split\n",
        "import math\n",
        "\n",
        "from google.colab import drive\n",
        "drive.mount('/content/gdrive')\n",
        "\n",
        "%cd gdrive/Shareddrives/CSCI\\ 5523\\ -\\ Data\\ Mining\\ Final\\ Project\n",
        "!ls"
      ],
      "execution_count": null,
      "outputs": [
        {
          "output_type": "stream",
          "text": [
            "Mounted at /content/gdrive\n",
            "/content/gdrive/Shareddrives/CSCI 5523 - Data Mining Final Project\n",
            " Balance_deprecated.ipynb   classification.ipynb   data\n",
            "'Bot Detection.gslides'     cluster_2.ipynb\t   data.ipynb\n",
            " botDetection.mp4\t    cluster.ipynb\t   Proposal.gdoc\n"
          ],
          "name": "stdout"
        }
      ]
    },
    {
      "cell_type": "code",
      "metadata": {
        "id": "E-l2Vk-xe5du"
      },
      "source": [
        "\n",
        "\n",
        "# import datasets\n",
        "df_labels=pd.read_csv('data/midterm-2018.tsv', sep='\\t')\n",
        "df_labels=df_labels.rename(columns={'2521260264':'user_id'})\n",
        "\n",
        "df_users=pd.read_json('data/midterm-2018_processed_user_objects.json')\n",
        "\n",
        "# Merge our user objects and labels.\n",
        "df=pd.merge(df_users, df_labels, on=['user_id'])\n",
        "\n",
        "# Look at the shape and information\n",
        "print(df.shape)\n",
        "print(df.info())\n",
        "\n",
        "# check bot vs human counts\n",
        "print(df['bot'].value_counts())\n",
        "\n",
        "# create unbalanced train and test dataframes\n",
        "train_u, test_u = train_test_split(df, test_size=0.2)\n",
        "\n",
        "# equal datatypes check\n",
        "if all(train_u.dtypes == test_u.dtypes):\n",
        "  print(\"pass: data types are all same between train and test\")\n",
        "else:\n",
        "  print('\\nFAIL: DATA TYPES ARE NOT EQUAL BETWEEN TRAIN AND TEST, SOMETHING IS WRONG\\n')\n",
        "\n",
        "\n",
        "# create balanced train and test datframes\n",
        "bots=df[df['bot']=='bot']\n",
        "humans=df[df['bot']=='human']\n",
        "bots_sample=bots.sample(8092)\n",
        "bal_df=bots_sample.append(humans)\n",
        "\n",
        "train_b, test_b = train_test_split(bal_df, test_size=0.2)\n",
        "\n",
        "# equal datatypes check\n",
        "if all(train_b.dtypes == test_b.dtypes):\n",
        "  print(\"pass: data types are all same between train and test\")\n",
        "else:\n",
        "  print('\\nFAIL: DATA TYPES ARE NOT EQUAL BETWEEN TRAIN AND TEST, SOMETHING IS WRONG\\n')\n",
        "\n",
        "\n",
        "\n",
        "\n",
        "\n",
        "# # clean dataframes\n",
        "# cols_to_drop = ['probe_timestamp', 'user_id', 'screen_name', 'name', 'description', 'user_created_at', 'url', 'lang', 'protected', 'tid']\n",
        "\n",
        "for dataframe in dataframes:\n",
        "  dataframe.drop(labels=cols_to_drop, axis=1, inplace=True)                 # drop unused columns\n",
        "  dataframe['bot'] = [1 if val=='bot' else 0 for val in dataframe['bot']]   # convert bot column from string to int (1 for bot, 0 for human)\n",
        "\n",
        "dataframe.info()"
      ],
      "execution_count": null,
      "outputs": []
    },
    {
      "cell_type": "code",
      "metadata": {
        "id": "dmmkePMVLXKg"
      },
      "source": [
        "import numpy as np"
      ],
      "execution_count": null,
      "outputs": []
    },
    {
      "cell_type": "code",
      "metadata": {
        "id": "bdCu2OR8r2YV"
      },
      "source": [
        "train_u = pd.read_json('data/more_human_train.json')"
      ],
      "execution_count": null,
      "outputs": []
    },
    {
      "cell_type": "code",
      "metadata": {
        "id": "rrP-1vJhsU4l"
      },
      "source": [
        "test_u = pd.read_json('data/more_human_test.json')"
      ],
      "execution_count": null,
      "outputs": []
    },
    {
      "cell_type": "code",
      "metadata": {
        "id": "8g47rgnJsW4N"
      },
      "source": [
        "train_b = pd.read_json('data/bal_train.json')"
      ],
      "execution_count": null,
      "outputs": []
    },
    {
      "cell_type": "code",
      "metadata": {
        "id": "SBXDFy38sYPa"
      },
      "source": [
        "test_b = pd.read_json('data/bal_test.json')"
      ],
      "execution_count": null,
      "outputs": []
    },
    {
      "cell_type": "code",
      "metadata": {
        "id": "L6cyNhEwtbtJ"
      },
      "source": [
        "dataframes = [train_u, test_u, train_b, test_b]\n",
        "\n",
        "for dataframe in dataframes:\n",
        "  dataframe['bot'] = [1 if val=='bot' else 0 for val in dataframe['bot']]   # convert bot column from string to int (1 for bot, 0 for human)"
      ],
      "execution_count": null,
      "outputs": []
    },
    {
      "cell_type": "code",
      "metadata": {
        "colab": {
          "base_uri": "https://localhost:8080/"
        },
        "id": "I4iWJUyLdZus",
        "outputId": "92d3b40a-cecb-4088-f9d1-16865f0468f5"
      },
      "source": [
        "train_u[train_u['bot']==1].info()"
      ],
      "execution_count": null,
      "outputs": [
        {
          "output_type": "stream",
          "text": [
            "<class 'pandas.core.frame.DataFrame'>\n",
            "Int64Index: 1330 entries, 32826 to 30371\n",
            "Data columns (total 10 columns):\n",
            " #   Column                        Non-Null Count  Dtype\n",
            "---  ------                        --------------  -----\n",
            " 0   verified                      1330 non-null   bool \n",
            " 1   geo_enabled                   1330 non-null   bool \n",
            " 2   profile_use_background_image  1330 non-null   bool \n",
            " 3   default_profile               1330 non-null   bool \n",
            " 4   followers_count               1330 non-null   int64\n",
            " 5   friends_count                 1330 non-null   int64\n",
            " 6   listed_count                  1330 non-null   int64\n",
            " 7   favourites_count              1330 non-null   int64\n",
            " 8   statuses_count                1330 non-null   int64\n",
            " 9   bot                           1330 non-null   int64\n",
            "dtypes: bool(4), int64(6)\n",
            "memory usage: 77.9 KB\n"
          ],
          "name": "stdout"
        }
      ]
    },
    {
      "cell_type": "code",
      "metadata": {
        "colab": {
          "base_uri": "https://localhost:8080/"
        },
        "id": "vMAxxUFGd2Pp",
        "outputId": "6eebbbbc-440b-4d2d-bc54-3a41b0ae6640"
      },
      "source": [
        "test_u[test_u['bot']==1].info()"
      ],
      "execution_count": null,
      "outputs": [
        {
          "output_type": "stream",
          "text": [
            "<class 'pandas.core.frame.DataFrame'>\n",
            "Int64Index: 327 entries, 28149 to 9122\n",
            "Data columns (total 10 columns):\n",
            " #   Column                        Non-Null Count  Dtype\n",
            "---  ------                        --------------  -----\n",
            " 0   verified                      327 non-null    bool \n",
            " 1   geo_enabled                   327 non-null    bool \n",
            " 2   profile_use_background_image  327 non-null    bool \n",
            " 3   default_profile               327 non-null    bool \n",
            " 4   followers_count               327 non-null    int64\n",
            " 5   friends_count                 327 non-null    int64\n",
            " 6   listed_count                  327 non-null    int64\n",
            " 7   favourites_count              327 non-null    int64\n",
            " 8   statuses_count                327 non-null    int64\n",
            " 9   bot                           327 non-null    int64\n",
            "dtypes: bool(4), int64(6)\n",
            "memory usage: 19.2 KB\n"
          ],
          "name": "stdout"
        }
      ]
    },
    {
      "cell_type": "code",
      "metadata": {
        "colab": {
          "base_uri": "https://localhost:8080/"
        },
        "id": "b75-0hGrtQSz",
        "outputId": "da1bb0b5-c7a9-411a-b759-6c4934918613"
      },
      "source": [
        "test_u.info()"
      ],
      "execution_count": null,
      "outputs": [
        {
          "output_type": "stream",
          "text": [
            "<class 'pandas.core.frame.DataFrame'>\n",
            "Int64Index: 10108 entries, 15916 to 32606\n",
            "Data columns (total 10 columns):\n",
            " #   Column                        Non-Null Count  Dtype\n",
            "---  ------                        --------------  -----\n",
            " 0   verified                      10108 non-null  bool \n",
            " 1   geo_enabled                   10108 non-null  bool \n",
            " 2   profile_use_background_image  10108 non-null  bool \n",
            " 3   default_profile               10108 non-null  bool \n",
            " 4   followers_count               10108 non-null  int64\n",
            " 5   friends_count                 10108 non-null  int64\n",
            " 6   listed_count                  10108 non-null  int64\n",
            " 7   favourites_count              10108 non-null  int64\n",
            " 8   statuses_count                10108 non-null  int64\n",
            " 9   bot                           10108 non-null  int64\n",
            "dtypes: bool(4), int64(6)\n",
            "memory usage: 592.3 KB\n"
          ],
          "name": "stdout"
        }
      ]
    },
    {
      "cell_type": "code",
      "metadata": {
        "colab": {
          "base_uri": "https://localhost:8080/"
        },
        "id": "e6kjpA9Pc1aB",
        "outputId": "fc905ed1-88a1-4a0a-a129-93f4a8f635d8"
      },
      "source": [
        "train_u.info()"
      ],
      "execution_count": null,
      "outputs": [
        {
          "output_type": "stream",
          "text": [
            "<class 'pandas.core.frame.DataFrame'>\n",
            "Int64Index: 40429 entries, 3637 to 32897\n",
            "Data columns (total 10 columns):\n",
            " #   Column                        Non-Null Count  Dtype\n",
            "---  ------                        --------------  -----\n",
            " 0   verified                      40429 non-null  bool \n",
            " 1   geo_enabled                   40429 non-null  bool \n",
            " 2   profile_use_background_image  40429 non-null  bool \n",
            " 3   default_profile               40429 non-null  bool \n",
            " 4   followers_count               40429 non-null  int64\n",
            " 5   friends_count                 40429 non-null  int64\n",
            " 6   listed_count                  40429 non-null  int64\n",
            " 7   favourites_count              40429 non-null  int64\n",
            " 8   statuses_count                40429 non-null  int64\n",
            " 9   bot                           40429 non-null  int64\n",
            "dtypes: bool(4), int64(6)\n",
            "memory usage: 2.3 MB\n"
          ],
          "name": "stdout"
        }
      ]
    },
    {
      "cell_type": "code",
      "metadata": {
        "colab": {
          "base_uri": "https://localhost:8080/"
        },
        "id": "3rDNt3gZc3Po",
        "outputId": "67ac1396-dcb3-4d41-9ceb-13365589df32"
      },
      "source": [
        "test_b.info()"
      ],
      "execution_count": null,
      "outputs": [
        {
          "output_type": "stream",
          "text": [
            "<class 'pandas.core.frame.DataFrame'>\n",
            "Int64Index: 3237 entries, 5928 to 20871\n",
            "Data columns (total 10 columns):\n",
            " #   Column                        Non-Null Count  Dtype\n",
            "---  ------                        --------------  -----\n",
            " 0   verified                      3237 non-null   bool \n",
            " 1   geo_enabled                   3237 non-null   bool \n",
            " 2   profile_use_background_image  3237 non-null   bool \n",
            " 3   default_profile               3237 non-null   bool \n",
            " 4   followers_count               3237 non-null   int64\n",
            " 5   friends_count                 3237 non-null   int64\n",
            " 6   listed_count                  3237 non-null   int64\n",
            " 7   favourites_count              3237 non-null   int64\n",
            " 8   statuses_count                3237 non-null   int64\n",
            " 9   bot                           3237 non-null   int64\n",
            "dtypes: bool(4), int64(6)\n",
            "memory usage: 189.7 KB\n"
          ],
          "name": "stdout"
        }
      ]
    },
    {
      "cell_type": "code",
      "metadata": {
        "colab": {
          "base_uri": "https://localhost:8080/"
        },
        "id": "EuNis7uXc4o6",
        "outputId": "99c052cc-c056-4ace-f9bf-21b26db40eed"
      },
      "source": [
        "train_b.info()"
      ],
      "execution_count": null,
      "outputs": [
        {
          "output_type": "stream",
          "text": [
            "<class 'pandas.core.frame.DataFrame'>\n",
            "Int64Index: 12947 entries, 7227 to 18506\n",
            "Data columns (total 10 columns):\n",
            " #   Column                        Non-Null Count  Dtype\n",
            "---  ------                        --------------  -----\n",
            " 0   verified                      12947 non-null  bool \n",
            " 1   geo_enabled                   12947 non-null  bool \n",
            " 2   profile_use_background_image  12947 non-null  bool \n",
            " 3   default_profile               12947 non-null  bool \n",
            " 4   followers_count               12947 non-null  int64\n",
            " 5   friends_count                 12947 non-null  int64\n",
            " 6   listed_count                  12947 non-null  int64\n",
            " 7   favourites_count              12947 non-null  int64\n",
            " 8   statuses_count                12947 non-null  int64\n",
            " 9   bot                           12947 non-null  int64\n",
            "dtypes: bool(4), int64(6)\n",
            "memory usage: 758.6 KB\n"
          ],
          "name": "stdout"
        }
      ]
    },
    {
      "cell_type": "code",
      "metadata": {
        "id": "AT2Y8fshYqNj"
      },
      "source": [
        "from sklearn.metrics import accuracy_score, precision_score, recall_score, f1_score\n",
        "\n",
        "def print_analysis(test, predictions, label):\n",
        "  print(\"-----------------------------------\")\n",
        "  print('{} Accuracy score: {}'.format(label, accuracy_score(test, predictions)))\n",
        "  print('{} Precision score: {}'.format(label, precision_score(test, predictions)))\n",
        "  print('{} Recall score: {}'.format(label, recall_score(test, predictions)))\n",
        "  print('{} F1 score: {}'.format(label, f1_score(test, predictions)))\n",
        "  print(\"-----------------------------------\\n\")"
      ],
      "execution_count": null,
      "outputs": []
    },
    {
      "cell_type": "markdown",
      "metadata": {
        "id": "HQ_nK8pZaDA1"
      },
      "source": [
        "CREATE TRAIN AND TEST FOR BALANCED AND UNBALANCED"
      ]
    },
    {
      "cell_type": "code",
      "metadata": {
        "id": "su8JBIvDaHZd"
      },
      "source": [
        "from sklearn.preprocessing import StandardScaler\n",
        "scaler = StandardScaler()\n",
        "\n",
        "# UNBALANCED\n",
        "x_train_u = train_u.to_numpy()[:,:-1].astype(int)   # all cols of train_u except for class label\n",
        "x_train_u_scaled = scaler.fit_transform(x_train_u)\n",
        "\n",
        "y_train_u = train_u.to_numpy()[:,-1].astype(int)    # only class label (last) column of train_u\n",
        "\n",
        "x_test_u = test_u.to_numpy()[:,:-1].astype(int)   # all cols of test_u except for class label\n",
        "x_test_u_scaled = scaler.transform(x_test_u)\n",
        "\n",
        "y_test_u = test_u.to_numpy()[:,-1].astype(int)    # only class label (last) column of test_u\n",
        "\n",
        "# BALANCED\n",
        "x_train_b = train_b.to_numpy()[:,:-1].astype(int)   # all cols of train_b except for class label\n",
        "x_train_b_scaled = scaler.fit_transform(x_train_b)\n",
        "\n",
        "y_train_b = train_b.to_numpy()[:,-1].astype(int)    # only class label (last) column of train_b\n",
        "\n",
        "x_test_b = test_b.to_numpy()[:,:-1].astype(int)   # all cols of test_b except for class label\n",
        "x_test_b_scaled = scaler.transform(x_test_b)\n",
        "\n",
        "y_test_b = test_b.to_numpy()[:,-1].astype(int)    # only class label (last) column of test_b"
      ],
      "execution_count": null,
      "outputs": []
    },
    {
      "cell_type": "markdown",
      "metadata": {
        "id": "hhx3lzQeZ04I"
      },
      "source": [
        "DECISION TREE"
      ]
    },
    {
      "cell_type": "code",
      "metadata": {
        "colab": {
          "base_uri": "https://localhost:8080/"
        },
        "id": "slmXjQQ_Z4Yg",
        "outputId": "6e05b2ab-e59b-4412-8352-ef369548ae4e"
      },
      "source": [
        "from sklearn.tree import DecisionTreeClassifier\n",
        "\n",
        "# UNBALANCED\n",
        "print('decision tree unbalanced')\n",
        "tree_u = DecisionTreeClassifier(random_state=17)\n",
        "tree_u.fit(x_train_u, y_train_u)\n",
        "tree_pred = tree_u.predict(x_test_u)\n",
        "print_analysis(y_test_u, tree_pred, 'tree')\n",
        "\n",
        "# BALANCED\n",
        "print('decision tree balanced')\n",
        "tree_b = DecisionTreeClassifier(random_state=17)\n",
        "tree_b.fit(x_train_b, y_train_b)\n",
        "tree_pred = tree_u.predict(x_test_b)\n",
        "print_analysis(y_test_b, tree_pred, 'tree')\n"
      ],
      "execution_count": null,
      "outputs": [
        {
          "output_type": "stream",
          "text": [
            "decision tree unbalanced\n",
            "-----------------------------------\n",
            "tree Accuracy score: 0.9543589743589743\n",
            "tree Precision score: 0.8562874251497006\n",
            "tree Recall score: 0.8746177370030581\n",
            "tree F1 score: 0.8653555219364599\n",
            "-----------------------------------\n",
            "\n",
            "decision tree balanced\n",
            "-----------------------------------\n",
            "tree Accuracy score: 0.9227679950571517\n",
            "tree Precision score: 0.990909090909091\n",
            "tree Recall score: 0.8567110036275696\n",
            "tree F1 score: 0.9189364461738003\n",
            "-----------------------------------\n",
            "\n"
          ],
          "name": "stdout"
        }
      ]
    },
    {
      "cell_type": "code",
      "metadata": {
        "colab": {
          "base_uri": "https://localhost:8080/"
        },
        "id": "U_jsBhrZvusG",
        "outputId": "a6797b22-01e6-4fa0-88ee-848c7dfe58ba"
      },
      "source": [
        "print(tree_b.tree_.max_depth)"
      ],
      "execution_count": null,
      "outputs": [
        {
          "output_type": "stream",
          "text": [
            "21\n"
          ],
          "name": "stdout"
        }
      ]
    },
    {
      "cell_type": "markdown",
      "metadata": {
        "id": "AVxSkoHceMZM"
      },
      "source": [
        "RANDOM FOREST"
      ]
    },
    {
      "cell_type": "code",
      "metadata": {
        "colab": {
          "base_uri": "https://localhost:8080/"
        },
        "id": "gAhGnCReeNYU",
        "outputId": "fdb9eebd-ff82-4f55-96e8-b680b954d9a4"
      },
      "source": [
        "from sklearn.ensemble import RandomForestClassifier\n",
        "\n",
        "# UNBALANCED\n",
        "print('random forest unbalanced')\n",
        "forest_u = RandomForestClassifier(n_estimators=100, random_state=42, n_jobs=-1)\n",
        "forest_u.fit(x_train_u, y_train_u)\n",
        "forest_pred = forest_u.predict(x_test_u)\n",
        "print_analysis(y_test_u, forest_pred, 'random forest')\n",
        "\n",
        "# BALANCED\n",
        "print('random forest balanced')\n",
        "forest_b = RandomForestClassifier(n_estimators=100, random_state=42, n_jobs=-1)\n",
        "forest_b.fit(x_train_b, y_train_b)\n",
        "forest_pred = forest_b.predict(x_test_b)\n",
        "print_analysis(y_test_b, forest_pred, 'random forest')"
      ],
      "execution_count": null,
      "outputs": [
        {
          "output_type": "stream",
          "text": [
            "random forest unbalanced\n",
            "-----------------------------------\n",
            "random forest Accuracy score: 0.9697435897435898\n",
            "random forest Precision score: 0.932258064516129\n",
            "random forest Recall score: 0.8837920489296636\n",
            "random forest F1 score: 0.9073783359497646\n",
            "-----------------------------------\n",
            "\n",
            "random forest balanced\n",
            "-----------------------------------\n",
            "random forest Accuracy score: 0.9586036453506332\n",
            "random forest Precision score: 0.9567307692307693\n",
            "random forest Recall score: 0.9625151148730351\n",
            "random forest F1 score: 0.9596142254370102\n",
            "-----------------------------------\n",
            "\n"
          ],
          "name": "stdout"
        }
      ]
    },
    {
      "cell_type": "markdown",
      "metadata": {
        "id": "2WYozEPyeJQf"
      },
      "source": [
        "K NEAREST NEIGHBORS"
      ]
    },
    {
      "cell_type": "code",
      "metadata": {
        "colab": {
          "base_uri": "https://localhost:8080/"
        },
        "id": "j2M3P2Tnf_Tv",
        "outputId": "b42dd07d-1839-422b-8b2c-f61cfa5badca"
      },
      "source": [
        "from sklearn.neighbors import KNeighborsClassifier\n",
        "\n",
        "num_neighbors = 5\n",
        "\n",
        "# UNBALANCED\n",
        "print('knn unbalanced')\n",
        "knn_u = KNeighborsClassifier(n_neighbors=num_neighbors)\n",
        "# knn_u.fit(x_train_u_scaled, y_train_u)\n",
        "knn_u.fit(x_train_u, y_train_u)\n",
        "# knn_pred = knn_u.predict(x_test_u_scaled)\n",
        "knn_pred = knn_u.predict(x_test_u)\n",
        "print_analysis(y_test_u, knn_pred, 'knn')\n",
        "\n",
        "\n",
        "# BALANCED\n",
        "print('knn balanced')\n",
        "knn_b = KNeighborsClassifier(n_neighbors=num_neighbors)\n",
        "# knn_b.fit(x_train_b_scaled, y_train_b)\n",
        "knn_b.fit(x_train_b, y_train_b)\n",
        "# knn_pred = knn_u.predict(x_test_b_scaled)\n",
        "knn_pred = knn_b.predict(x_test_b)\n",
        "print_analysis(y_test_b, knn_pred, 'knn')"
      ],
      "execution_count": null,
      "outputs": [
        {
          "output_type": "stream",
          "text": [
            "knn unbalanced\n",
            "-----------------------------------\n",
            "knn Accuracy score: 0.961025641025641\n",
            "knn Precision score: 0.8768768768768769\n",
            "knn Recall score: 0.8929663608562691\n",
            "knn F1 score: 0.8848484848484849\n",
            "-----------------------------------\n",
            "\n",
            "knn balanced\n",
            "-----------------------------------\n",
            "knn Accuracy score: 0.9437751004016064\n",
            "knn Precision score: 0.9360189573459715\n",
            "knn Recall score: 0.9552599758162031\n",
            "knn F1 score: 0.9455415918611609\n",
            "-----------------------------------\n",
            "\n"
          ],
          "name": "stdout"
        }
      ]
    },
    {
      "cell_type": "markdown",
      "metadata": {
        "id": "2yQifIBAYjKW"
      },
      "source": [
        "NAIVE BAYES"
      ]
    },
    {
      "cell_type": "code",
      "metadata": {
        "colab": {
          "base_uri": "https://localhost:8080/"
        },
        "id": "20nbBG1LYJAt",
        "outputId": "b3f1efc2-d6a3-4fd7-e59a-512fd8590ac4"
      },
      "source": [
        "from sklearn.naive_bayes import MultinomialNB\n",
        "\n",
        "# UNBALANCED\n",
        "print('naive bayes unbalanced')\n",
        "naive_bayes_u = MultinomialNB()\n",
        "naive_bayes_u.fit(x_train_u, y_train_u)\n",
        "nb_pred = naive_bayes_u.predict(x_test_u)\n",
        "print_analysis(y_test_u, nb_pred, 'naive bayes')\n",
        "\n",
        "# BALANCED\n",
        "print('naive bayes balanced')\n",
        "naive_bayes_b = MultinomialNB()\n",
        "naive_bayes_b.fit(x_train_b, y_train_b)\n",
        "nb_pred = naive_bayes_b.predict(x_test_b)\n",
        "print_analysis(y_test_b, nb_pred, 'naive bayes')"
      ],
      "execution_count": null,
      "outputs": [
        {
          "output_type": "stream",
          "text": [
            "naive bayes unbalanced\n",
            "-----------------------------------\n",
            "naive bayes Accuracy score: 0.35846153846153844\n",
            "naive bayes Precision score: 0.20535714285714285\n",
            "naive bayes Recall score: 0.9847094801223242\n",
            "naive bayes F1 score: 0.3398416886543536\n",
            "-----------------------------------\n",
            "\n",
            "naive bayes balanced\n",
            "-----------------------------------\n",
            "naive bayes Accuracy score: 0.5752239728143342\n",
            "naive bayes Precision score: 0.5465465465465466\n",
            "naive bayes Recall score: 0.9903264812575574\n",
            "naive bayes F1 score: 0.7043646527628468\n",
            "-----------------------------------\n",
            "\n"
          ],
          "name": "stdout"
        }
      ]
    },
    {
      "cell_type": "markdown",
      "metadata": {
        "id": "4yyxF7eLf6Uh"
      },
      "source": [
        "SUPPORT VECTOR MACHINE"
      ]
    },
    {
      "cell_type": "code",
      "metadata": {
        "colab": {
          "base_uri": "https://localhost:8080/"
        },
        "id": "xjq2dwvNf7gL",
        "outputId": "8ca78f71-4189-4033-e813-d49912710f82"
      },
      "source": [
        "from sklearn import svm\n",
        "\n",
        "# UNBALANCED\n",
        "print('svm unbalanced')\n",
        "svm_u = svm.SVC()\n",
        "svm_u.fit(x_train_u, y_train_u)\n",
        "svm_pred = svm_u.predict(x_test_u)\n",
        "print_analysis(y_test_u, svm_pred, 'svm')\n",
        "\n",
        "# BALANCED\n",
        "print('svm balanced')\n",
        "svm_b = svm.SVC()\n",
        "svm_b.fit(x_train_b, y_train_b)\n",
        "svm_pred = svm_b.predict(x_test_b)\n",
        "print_analysis(y_test_b, svm_pred, 'svm')"
      ],
      "execution_count": null,
      "outputs": [
        {
          "output_type": "stream",
          "text": [
            "svm unbalanced\n",
            "-----------------------------------\n",
            "svm Accuracy score: 0.8323076923076923\n",
            "svm Precision score: 0.0\n",
            "svm Recall score: 0.0\n",
            "svm F1 score: 0.0\n",
            "-----------------------------------\n",
            "\n",
            "svm balanced\n"
          ],
          "name": "stdout"
        },
        {
          "output_type": "stream",
          "text": [
            "/usr/local/lib/python3.7/dist-packages/sklearn/metrics/_classification.py:1272: UndefinedMetricWarning: Precision is ill-defined and being set to 0.0 due to no predicted samples. Use `zero_division` parameter to control this behavior.\n",
            "  _warn_prf(average, modifier, msg_start, len(result))\n"
          ],
          "name": "stderr"
        },
        {
          "output_type": "stream",
          "text": [
            "-----------------------------------\n",
            "svm Accuracy score: 0.771393265369169\n",
            "svm Precision score: 0.6913735343383585\n",
            "svm Recall score: 0.998186215235792\n",
            "svm F1 score: 0.8169223156853044\n",
            "-----------------------------------\n",
            "\n"
          ],
          "name": "stdout"
        }
      ]
    },
    {
      "cell_type": "markdown",
      "metadata": {
        "id": "bajBoU0BjFEz"
      },
      "source": [
        "NEURAL NETWORK"
      ]
    },
    {
      "cell_type": "code",
      "metadata": {
        "id": "QVF9GJUsuCQq"
      },
      "source": [
        "from matplotlib import pyplot as plt\n",
        "\n",
        "def plot_history(history):\n",
        "  \n",
        "  # summarize history for accuracy\n",
        "  plt.plot(history.history['accuracy'])\n",
        "  plt.plot(history.history['val_accuracy'])\n",
        "  plt.title('model accuracy')\n",
        "  plt.ylabel('accuracy')\n",
        "  plt.xlabel('epoch')\n",
        "  plt.legend(['train', 'test'], loc='upper left')\n",
        "  plt.show()\n",
        "  # summarize history for loss\n",
        "  plt.plot(history.history['loss'])\n",
        "  plt.plot(history.history['val_loss'])\n",
        "  plt.title('model loss')\n",
        "  plt.ylabel('loss')\n",
        "  plt.xlabel('epoch')\n",
        "  plt.legend(['train', 'test'], loc='upper left')\n",
        "  plt.show()"
      ],
      "execution_count": null,
      "outputs": []
    },
    {
      "cell_type": "code",
      "metadata": {
        "colab": {
          "base_uri": "https://localhost:8080/",
          "height": 1000
        },
        "id": "5esCHKqKjHfo",
        "outputId": "246fb1b4-a53e-4899-f7df-e7419b86ed13"
      },
      "source": [
        "import tensorflow as tf\n",
        "import numpy as np\n",
        "\n",
        "num_epochs = 10\n",
        "\n",
        "model = tf.keras.Sequential([\n",
        "    tf.keras.layers.Flatten(input_shape=(x_train_u.shape[1],)),\n",
        "    tf.keras.layers.Dense(128, activation='relu'),\n",
        "    tf.keras.layers.Dense(2)\n",
        "])\n",
        "model.compile(optimizer='adam',\n",
        "              loss=tf.keras.losses.SparseCategoricalCrossentropy(from_logits=True),\n",
        "              metrics=['accuracy'])\n",
        "\n",
        "# UNBALANCED\n",
        "print('neural net unbalanced')\n",
        "\n",
        "history_u = model.fit(x_train_u, y_train_u, epochs=num_epochs, validation_split=0.15)\n",
        "plot_history(history_u)\n",
        "\n",
        "probability_model_u = tf.keras.Sequential([model, \n",
        "                                         tf.keras.layers.Softmax()])\n",
        "\n",
        "predictions = probability_model_u.predict(x_test_u)\n",
        "predictions = [np.argmax(pred) for pred in predictions]\n",
        "print_analysis(y_test_u, predictions, 'neural net')\n",
        "\n",
        "\n",
        "# BALANCED\n",
        "print('neural net balanced')\n",
        "\n",
        "history_b = model.fit(x_train_b, y_train_b, epochs=num_epochs, validation_split=0.15)\n",
        "plot_history(history_b)\n",
        "\n",
        "probability_model_b = tf.keras.Sequential([model, \n",
        "                                         tf.keras.layers.Softmax()])\n",
        "\n",
        "predictions = probability_model_b.predict(x_test_b)\n",
        "predictions = [np.argmax(pred) for pred in predictions]\n",
        "print_analysis(y_test_b, predictions, 'neural net')\n"
      ],
      "execution_count": null,
      "outputs": [
        {
          "output_type": "stream",
          "text": [
            "neural net unbalanced\n",
            "Epoch 1/10\n",
            "208/208 [==============================] - 1s 3ms/step - loss: 343.7496 - accuracy: 0.7560 - val_loss: 2.6803 - val_accuracy: 0.9282\n",
            "Epoch 2/10\n",
            "208/208 [==============================] - 0s 2ms/step - loss: 2.4751 - accuracy: 0.9228 - val_loss: 0.7548 - val_accuracy: 0.9325\n",
            "Epoch 3/10\n",
            "208/208 [==============================] - 0s 2ms/step - loss: 2.3583 - accuracy: 0.9335 - val_loss: 1.0491 - val_accuracy: 0.9299\n",
            "Epoch 4/10\n",
            "208/208 [==============================] - 0s 2ms/step - loss: 2.1233 - accuracy: 0.9418 - val_loss: 1.0409 - val_accuracy: 0.9444\n",
            "Epoch 5/10\n",
            "208/208 [==============================] - 0s 2ms/step - loss: 1.2730 - accuracy: 0.9409 - val_loss: 1.2163 - val_accuracy: 0.9556\n",
            "Epoch 6/10\n",
            "208/208 [==============================] - 0s 2ms/step - loss: 1.8811 - accuracy: 0.9511 - val_loss: 0.6662 - val_accuracy: 0.9436\n",
            "Epoch 7/10\n",
            "208/208 [==============================] - 0s 2ms/step - loss: 0.7835 - accuracy: 0.9459 - val_loss: 0.4319 - val_accuracy: 0.9556\n",
            "Epoch 8/10\n",
            "208/208 [==============================] - 0s 2ms/step - loss: 1.0475 - accuracy: 0.9479 - val_loss: 3.1598 - val_accuracy: 0.9342\n",
            "Epoch 9/10\n",
            "208/208 [==============================] - 0s 2ms/step - loss: 4.0311 - accuracy: 0.9216 - val_loss: 0.9695 - val_accuracy: 0.9436\n",
            "Epoch 10/10\n",
            "208/208 [==============================] - 0s 2ms/step - loss: 0.7902 - accuracy: 0.9371 - val_loss: 0.9922 - val_accuracy: 0.9556\n"
          ],
          "name": "stdout"
        },
        {
          "output_type": "display_data",
          "data": {
            "image/png": "[encoded data removed]",
            "text/plain": [
              "<Figure size 432x288 with 1 Axes>"
            ]
          },
          "metadata": {
            "tags": [],
            "needs_background": "light"
          }
        },
        {
          "output_type": "display_data",
          "data": {
            "image/png": "[encoded data removed]",
            "text/plain": [
              "<Figure size 432x288 with 1 Axes>"
            ]
          },
          "metadata": {
            "tags": [],
            "needs_background": "light"
          }
        },
        {
          "output_type": "stream",
          "text": [
            "-----------------------------------\n",
            "neural net Accuracy score: 0.9548717948717949\n",
            "neural net Precision score: 0.9442379182156134\n",
            "neural net Recall score: 0.7767584097859327\n",
            "neural net F1 score: 0.8523489932885907\n",
            "-----------------------------------\n",
            "\n",
            "neural net balanced\n",
            "Epoch 1/10\n",
            "344/344 [==============================] - 1s 2ms/step - loss: 4.4328 - accuracy: 0.9130 - val_loss: 1.6087 - val_accuracy: 0.9243\n",
            "Epoch 2/10\n",
            "344/344 [==============================] - 1s 1ms/step - loss: 8.9299 - accuracy: 0.8980 - val_loss: 3.1771 - val_accuracy: 0.9110\n",
            "Epoch 3/10\n",
            "344/344 [==============================] - 1s 2ms/step - loss: 4.3175 - accuracy: 0.9222 - val_loss: 4.2877 - val_accuracy: 0.9264\n",
            "Epoch 4/10\n",
            "344/344 [==============================] - 1s 2ms/step - loss: 3.6924 - accuracy: 0.9316 - val_loss: 4.5374 - val_accuracy: 0.9238\n",
            "Epoch 5/10\n",
            "344/344 [==============================] - 1s 2ms/step - loss: 2.8231 - accuracy: 0.9249 - val_loss: 2.2403 - val_accuracy: 0.9279\n",
            "Epoch 6/10\n",
            "344/344 [==============================] - 1s 2ms/step - loss: 3.6424 - accuracy: 0.9317 - val_loss: 12.3834 - val_accuracy: 0.9161\n",
            "Epoch 7/10\n",
            "344/344 [==============================] - 1s 2ms/step - loss: 5.2297 - accuracy: 0.9275 - val_loss: 7.5868 - val_accuracy: 0.9300\n",
            "Epoch 8/10\n",
            "344/344 [==============================] - 1s 2ms/step - loss: 4.8973 - accuracy: 0.9324 - val_loss: 1.9690 - val_accuracy: 0.9321\n",
            "Epoch 9/10\n",
            "344/344 [==============================] - 1s 2ms/step - loss: 15.6492 - accuracy: 0.8959 - val_loss: 7.2310 - val_accuracy: 0.8991\n",
            "Epoch 10/10\n",
            "344/344 [==============================] - 1s 2ms/step - loss: 4.2955 - accuracy: 0.9154 - val_loss: 1.8358 - val_accuracy: 0.9125\n"
          ],
          "name": "stdout"
        },
        {
          "output_type": "display_data",
          "data": {
            "image/png": "[encoded data removed]",
            "text/plain": [
              "<Figure size 432x288 with 1 Axes>"
            ]
          },
          "metadata": {
            "tags": [],
            "needs_background": "light"
          }
        },
        {
          "output_type": "display_data",
          "data": {
            "image/png": "[encoded data removed]",
            "text/plain": [
              "<Figure size 432x288 with 1 Axes>"
            ]
          },
          "metadata": {
            "tags": [],
            "needs_background": "light"
          }
        },
        {
          "output_type": "stream",
          "text": [
            "-----------------------------------\n",
            "neural net Accuracy score: 0.9094840902069817\n",
            "neural net Precision score: 0.874931129476584\n",
            "neural net Recall score: 0.9600967351874244\n",
            "neural net F1 score: 0.9155376189103488\n",
            "-----------------------------------\n",
            "\n"
          ],
          "name": "stdout"
        }
      ]
    }
  ]
}