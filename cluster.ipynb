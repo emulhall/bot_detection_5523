{
 "cells": [
  {
   "cell_type": "markdown",
   "metadata": {
    "id": "d6G_zLB8KxrL"
   },
   "source": [
    "# The Clustering Methods\n",
    "1. K-Means\n",
    "2. Fuzzy C-means or EM\n",
    "4. DBScan\n",
    "5. Spectral"
   ]
  },
  {
   "cell_type": "markdown",
   "metadata": {
    "id": "4PPFT0W560sk"
   },
   "source": [
    "## Import the Data"
   ]
  },
  {
   "cell_type": "code",
   "execution_count": 1,
   "metadata": {
    "colab": {
     "base_uri": "https://localhost:8080/"
    },
    "id": "PmzJDssKKOZ6",
    "outputId": "3ce292d7-42f6-40ba-bb12-1c30079c0eda"
   },
   "outputs": [],
   "source": [
    "import pandas as pd\n",
    "from sklearn.model_selection import train_test_split\n",
    "import math\n",
    "import numpy as np\n",
    "from sklearn.mixture import GaussianMixture\n",
    "from sklearn import cluster"
   ]
  },
  {
   "cell_type": "code",
   "execution_count": 2,
   "metadata": {
    "id": "6SEUwNehS5bJ"
   },
   "outputs": [],
   "source": [
    "# Dataset 1\n",
    "unbal_train = pd.read_json('data/unbal_train.json').replace({'human': 0, 'bot':1})\n",
    "unbal_test = pd.read_json('data/unbal_test.json').replace({'human': 0, 'bot':1})\n",
    "# Dataset 2\n",
    "bal_train = pd.read_json('data/bal_train.json').replace({'human': 0, 'bot':1})\n",
    "bal_test = pd.read_json('data/bal_test.json').replace({'human': 0, 'bot':1})\n",
    "# Dataset 3\n",
    "crop_unbal_train = pd.read_json('data/crop_unbal_train.json').replace({'human': 0, 'bot':1})\n",
    "crop_unbal_test = pd.read_json('data/crop_unbal_test.json').replace({'human': 0, 'bot':1})\n",
    "# Dataset 4\n",
    "human_train = pd.read_json('data/more_human_train.json').replace({'human': 0, 'bot':1})\n",
    "human_test = pd.read_json('data/more_human_test.json').replace({'human': 0, 'bot':1})\n",
    "\n",
    "train_df = [unbal_train, bal_train, crop_unbal_train, human_train]\n",
    "test_df = [unbal_test, bal_test, crop_unbal_test, human_test]\n"
   ]
  },
  {
   "cell_type": "code",
   "execution_count": 3,
   "metadata": {
    "id": "4PaECAU6NrEa"
   },
   "outputs": [],
   "source": [
    "from sklearn.metrics import accuracy_score, precision_score, recall_score, f1_score\n",
    "\n",
    "def print_analysis(test, predictions, label):\n",
    "  print(\"-----------------------------------\")\n",
    "  print('{} Accuracy score: {}'.format(label, accuracy_score(test, predictions)))\n",
    "  print('{} Precision score: {}'.format(label, precision_score(test, predictions)))\n",
    "  print('{} Recall score: {}'.format(label, recall_score(test, predictions)))\n",
    "  print('{} F1 score: {}'.format(label, f1_score(test, predictions)))\n",
    "  print(\"-----------------------------------\\n\")"
   ]
  },
  {
   "cell_type": "code",
   "execution_count": 4,
   "metadata": {
    "id": "ucOyHS_NNsK0"
   },
   "outputs": [],
   "source": [
    "from sklearn.preprocessing import StandardScaler\n",
    "scaler = StandardScaler()\n",
    "\n",
    "# # UNBALANCED\n",
    "# x_train_u = train_u.to_numpy()[:,:-1].astype(int)   # all cols of train_u except for class label\n",
    "# x_train_u_scaled = scaler.fit_transform(x_train_u)\n",
    "\n",
    "# y_train_u = train_u.to_numpy()[:,-1].astype(int)    # only class label (last) column of train_u\n",
    "\n",
    "# x_test_u = test_u.to_numpy()[:,:-1].astype(int)   # all cols of test_u except for class label\n",
    "# x_test_u_scaled = scaler.transform(x_test_u)\n",
    "\n",
    "# y_test_u = test_u.to_numpy()[:,-1].astype(int)    # only class label (last) column of test_u\n",
    "\n",
    "# # BALANCED\n",
    "# x_train_b = train_b.to_numpy()[:,:-1].astype(int)   # all cols of train_b except for class label\n",
    "# x_train_b_scaled = scaler.fit_transform(x_train_b)\n",
    "\n",
    "# y_train_b = train_b.to_numpy()[:,-1].astype(int)    # only class label (last) column of train_b\n",
    "\n",
    "# x_test_b = test_b.to_numpy()[:,:-1].astype(int)   # all cols of test_b except for class label\n",
    "# x_test_b_scaled = scaler.transform(x_test_b)\n",
    "\n",
    "# y_test_b = test_b.to_numpy()[:,-1].astype(int)    # only class label (last) column of test_b\n",
    "\n",
    "train_data = []\n",
    "train_labels = []\n",
    "test_data = []\n",
    "test_labels = []\n",
    "for i in range(len(train_df)):\n",
    "  train = train_df[i]\n",
    "  test = test_df[i]\n",
    "  x_train = train.to_numpy()[:, :-1].astype(int)\n",
    "  x_train_scaled = scaler.fit_transform(x_train)\n",
    "  train_data.append(x_train_scaled)\n",
    "  y_train = train.to_numpy()[:, -1].astype(int)\n",
    "  train_labels.append(y_train)\n",
    "\n",
    "  x_test = test.to_numpy()[:, :-1].astype(int)\n",
    "  x_test_scaled = scaler.transform(x_test)\n",
    "  test_data.append(x_test_scaled)\n",
    "  y_test = test.to_numpy()[:, -1].astype(int)\n",
    "  test_labels.append(y_test)"
   ]
  },
  {
   "cell_type": "markdown",
   "metadata": {
    "id": "cXwrU5-77BEH"
   },
   "source": [
    "# K-Means Clustering"
   ]
  },
  {
   "cell_type": "markdown",
   "metadata": {
    "id": "_qXPLCXt7FEn"
   },
   "source": [
    "### K-means training and resulting centroids"
   ]
  },
  {
   "cell_type": "code",
   "execution_count": 5,
   "metadata": {
    "colab": {
     "base_uri": "https://localhost:8080/"
    },
    "id": "VzTaWA6NN8O2",
    "outputId": "437bfb3c-cdfc-4ad8-9369-d9887514d7c4"
   },
   "outputs": [
    {
     "name": "stdout",
     "output_type": "stream",
     "text": [
      "Dataset 1\n",
      "   verified  geo_enabled  profile_use_background_image  default_profile  \\\n",
      "0 -0.091565    -0.238496                      0.250715         0.341746   \n",
      "1  0.654181     1.703922                     -1.791221        -2.441587   \n",
      "\n",
      "   followers_count  friends_count  listed_count  favourites_count  \\\n",
      "0        -0.010240      -0.068542     -0.032056         -0.147109   \n",
      "1         0.073161       0.489692      0.229025          1.051013   \n",
      "\n",
      "   statuses_count  \n",
      "0       -0.150072  \n",
      "1        1.072178  \n",
      "Dataset 2\n",
      "   verified  geo_enabled  profile_use_background_image  default_profile  \\\n",
      "0 -0.159374    -0.429082                      0.390623          0.59580   \n",
      "1  0.340001     0.915381                     -0.833335         -1.27105   \n",
      "\n",
      "   followers_count  friends_count  listed_count  favourites_count  \\\n",
      "0        -0.051474      -0.107433     -0.067492         -0.238147   \n",
      "1         0.109811       0.229191      0.143984          0.508051   \n",
      "\n",
      "   statuses_count  \n",
      "0       -0.254474  \n",
      "1        0.542882  \n",
      "Dataset 3\n",
      "   verified  geo_enabled  profile_use_background_image  default_profile  \\\n",
      "0 -0.093718    -0.254627                      0.261891         0.357821   \n",
      "1  0.609683     1.656477                     -1.703735        -2.327805   \n",
      "\n",
      "   followers_count  friends_count  listed_count  favourites_count  \\\n",
      "0        -0.012822      -0.094369     -0.028637         -0.160356   \n",
      "1         0.083410       0.613920      0.186300          1.043196   \n",
      "\n",
      "   statuses_count  \n",
      "0       -0.156119  \n",
      "1        1.015632  \n",
      "Dataset 4\n",
      "   verified  geo_enabled  profile_use_background_image  default_profile  \\\n",
      "0 -0.003563    -0.000570                      0.000259         0.000697   \n",
      "1  4.627193     0.740246                     -0.336869        -0.905812   \n",
      "\n",
      "   followers_count  friends_count  listed_count  favourites_count  \\\n",
      "0        -0.023154      -0.001858     -0.024005         -0.000046   \n",
      "1        30.073420       2.413106     31.178774          0.059648   \n",
      "\n",
      "   statuses_count  \n",
      "0       -0.002116  \n",
      "1        2.747793  \n"
     ]
    }
   ],
   "source": [
    "k_means = []\n",
    "for i in range(len(train_data)):\n",
    "  print('Dataset '+ str(i+1))\n",
    "  data = pd.DataFrame(train_data[i], columns = train_df[i].columns[:-1])\n",
    "  k = cluster.KMeans(n_clusters=2, max_iter=100, random_state=1)\n",
    "  k.fit(data)\n",
    "  k_means.append(k)\n",
    "  centroids = k.cluster_centers_\n",
    "  print(pd.DataFrame(centroids, columns=data.columns))\n",
    "\n",
    "# # K-means on Unbalanced Data\n",
    "# data = pd.DataFrame(x_train_u_scaled, columns=train_u.columns[:-1])\n",
    "# k_means = cluster.KMeans(n_clusters=2, max_iter=100, random_state=1)\n",
    "# k_means.fit(data) \n",
    "# labels = k_means.labels_\n",
    "# pd.DataFrame(labels, columns=['Cluster ID'])"
   ]
  },
  {
   "cell_type": "markdown",
   "metadata": {
    "id": "QncaKe_67Jp-"
   },
   "source": [
    "### Evalute Models on Training Data"
   ]
  },
  {
   "cell_type": "code",
   "execution_count": 6,
   "metadata": {
    "colab": {
     "base_uri": "https://localhost:8080/"
    },
    "id": "E8uNRSo5p9wv",
    "outputId": "536ca2d1-b567-43e0-a2a4-69c8e6881123"
   },
   "outputs": [
    {
     "name": "stdout",
     "output_type": "stream",
     "text": [
      "Dataset 1\n",
      "-----------------------------------\n",
      "Training Accuracy score: 0.0808330653738653\n",
      "Training Precision score: 0.02588415442150829\n",
      "Training Recall score: 0.17721774193548387\n",
      "Training F1 score: 0.04517073922762661\n",
      "-----------------------------------\n",
      "\n",
      "-----------------------------------\n",
      "Training Flipped Accuracy score: 0.9191669346261347\n",
      "Training Flipped Precision score: 0.9741158455784917\n",
      "Training Flipped Recall score: 0.9326454086667231\n",
      "Training Flipped F1 score: 0.9529296537420061\n",
      "-----------------------------------\n",
      "\n",
      "Dataset 2\n",
      "-----------------------------------\n",
      "Training Accuracy score: 0.2093148992044489\n",
      "Training Precision score: 0.026062674526838348\n",
      "Training Recall score: 0.04070753574024715\n",
      "Training F1 score: 0.03177905986947886\n",
      "-----------------------------------\n",
      "\n",
      "-----------------------------------\n",
      "Training Flipped Accuracy score: 0.7906851007955511\n",
      "Training Flipped Precision score: 0.9739373254731617\n",
      "Training Flipped Recall score: 0.7117913832199546\n",
      "Training Flipped F1 score: 0.8224813310624918\n",
      "-----------------------------------\n",
      "\n",
      "Dataset 3\n",
      "-----------------------------------\n",
      "Training Accuracy score: 0.08310805592029041\n",
      "Training Precision score: 0.028356266269988842\n",
      "Training Recall score: 0.17681159420289855\n",
      "Training F1 score: 0.04887428891915712\n",
      "-----------------------------------\n",
      "\n",
      "-----------------------------------\n",
      "Training Flipped Accuracy score: 0.9168919440797095\n",
      "Training Flipped Precision score: 0.9716437337300111\n",
      "Training Flipped Recall score: 0.9312956692211727\n",
      "Training Flipped F1 score: 0.951041951041951\n",
      "-----------------------------------\n",
      "\n",
      "Dataset 4\n",
      "-----------------------------------\n",
      "Training Accuracy score: 0.8303628670342351\n",
      "Training Precision score: 0.0\n",
      "Training Recall score: 0.0\n",
      "Training F1 score: 0.0\n",
      "-----------------------------------\n",
      "\n",
      "-----------------------------------\n",
      "Training Flipped Accuracy score: 0.16963713296576485\n",
      "Training Flipped Precision score: 1.0\n",
      "Training Flipped Recall score: 0.16899781855511356\n",
      "Training Flipped F1 score: 0.28913282107574095\n",
      "-----------------------------------\n",
      "\n"
     ]
    }
   ],
   "source": [
    "for i in range(len(k_means)):\n",
    "  print('Dataset '+ str(i+1))\n",
    "  k = k_means[i]\n",
    "  labels = np.uint(k.predict(train_data[i]))\n",
    "  # flip the labels since the random assignment got them backwards\n",
    "  labels_flipped = np.logical_not(labels).astype(int)\n",
    "  print_analysis(labels, train_labels[i], 'Training')\n",
    "  print_analysis(labels_flipped, train_labels[i], 'Training Flipped')\n",
    "\n",
    "\n",
    "# # Evaluate on training data\n",
    "# labels = k_means.predict(x_train_u_scaled)\n",
    "# labels = labels.reshape(-1, 1)\n",
    "# cols = train_u.columns.tolist()\n",
    "# cols.append('Cluster ID')\n",
    "# check = pd.DataFrame(np.concatenate((train_u, labels), axis=1), columns=cols)\n",
    "# check"
   ]
  },
  {
   "cell_type": "markdown",
   "metadata": {
    "id": "-iPh2TEb7NpQ"
   },
   "source": [
    "### Evaluate Model on Testing Data"
   ]
  },
  {
   "cell_type": "code",
   "execution_count": 7,
   "metadata": {
    "colab": {
     "base_uri": "https://localhost:8080/"
    },
    "id": "INammp1ctT0Y",
    "outputId": "33030ac9-0c98-4960-afb2-80e96af1caa5"
   },
   "outputs": [
    {
     "name": "stdout",
     "output_type": "stream",
     "text": [
      "Dataset 1\n",
      "-----------------------------------\n",
      "Testing Accuracy score: 0.08795013850415513\n",
      "Testing Precision score: 0.03111006363422107\n",
      "Testing Recall score: 0.20935765265662173\n",
      "Testing F1 score: 0.054170514004309014\n",
      "-----------------------------------\n",
      "\n",
      "-----------------------------------\n",
      "Testing Flipped Accuracy score: 0.9120498614958449\n",
      "Testing Flipped Precision score: 0.9688899363657789\n",
      "Testing Flipped Recall score: 0.9293545834746242\n",
      "Testing Flipped F1 score: 0.9487105521260023\n",
      "-----------------------------------\n",
      "\n",
      "Dataset 2\n",
      "-----------------------------------\n",
      "Testing Accuracy score: 0.2119246215631758\n",
      "Testing Precision score: 0.02916160388821385\n",
      "Testing Recall score: 0.04795204795204795\n",
      "Testing F1 score: 0.03626747261050245\n",
      "-----------------------------------\n",
      "\n",
      "-----------------------------------\n",
      "Testing Flipped Accuracy score: 0.7880753784368242\n",
      "Testing Flipped Precision score: 0.9708383961117861\n",
      "Testing Flipped Recall score: 0.7146690518783542\n",
      "Testing Flipped F1 score: 0.8232869654817103\n",
      "-----------------------------------\n",
      "\n",
      "Dataset 3\n",
      "-----------------------------------\n",
      "Testing Accuracy score: 0.08835341365461848\n",
      "Testing Precision score: 0.028026905829596414\n",
      "Testing Recall score: 0.17647058823529413\n",
      "Testing F1 score: 0.04837149306675266\n",
      "-----------------------------------\n",
      "\n",
      "-----------------------------------\n",
      "Testing Flipped Accuracy score: 0.9116465863453815\n",
      "Testing Flipped Precision score: 0.9719730941704036\n",
      "Testing Flipped Recall score: 0.9249644381223329\n",
      "Testing Flipped F1 score: 0.9478862973760933\n",
      "-----------------------------------\n",
      "\n",
      "Dataset 4\n",
      "-----------------------------------\n",
      "Testing Accuracy score: 0.8246153846153846\n",
      "Testing Precision score: 0.0\n",
      "Testing Recall score: 0.0\n",
      "Testing F1 score: 0.0\n",
      "-----------------------------------\n",
      "\n",
      "-----------------------------------\n",
      "Testing Flipped Accuracy score: 0.1753846153846154\n",
      "Testing Flipped Precision score: 1.0\n",
      "Testing Flipped Recall score: 0.17453798767967146\n",
      "Testing Flipped F1 score: 0.2972027972027972\n",
      "-----------------------------------\n",
      "\n"
     ]
    }
   ],
   "source": [
    "for i in range(len(k_means)):\n",
    "  print('Dataset '+ str(i+1))\n",
    "  k = k_means[i]\n",
    "  labels = np.uint(k.predict(test_data[i]))\n",
    "  # flip the labels since the random assignment got them backwards\n",
    "  labels_flipped = np.logical_not(labels).astype(int)\n",
    "  print_analysis(labels, test_labels[i], 'Testing')\n",
    "  print_analysis(labels_flipped, test_labels[i], 'Testing Flipped')\n",
    "\n"
   ]
  },
  {
   "cell_type": "markdown",
   "metadata": {
    "id": "Esp5JNJK6qXZ"
   },
   "source": [
    "# Prototype-Based Model: Gaussian Mixture"
   ]
  },
  {
   "cell_type": "markdown",
   "metadata": {
    "id": "4Fx83FRh7dv5"
   },
   "source": [
    "### Gaussian Mixture training and resulting centroids"
   ]
  },
  {
   "cell_type": "code",
   "execution_count": 8,
   "metadata": {
    "colab": {
     "base_uri": "https://localhost:8080/"
    },
    "id": "HEai_g_56wQO",
    "outputId": "a016227e-33aa-4181-c3e4-5f2a6b6c721a"
   },
   "outputs": [
    {
     "name": "stdout",
     "output_type": "stream",
     "text": [
      "Dataset 1\n",
      "   verified  geo_enabled  profile_use_background_image  default_profile  \\\n",
      "0 -0.093986    -0.318948                      0.250715         0.383728   \n",
      "1  0.417597     1.417138                     -1.113970        -1.704969   \n",
      "\n",
      "   followers_count  friends_count  listed_count  favourites_count  \\\n",
      "0        -0.010501      -0.085712     -0.033815         -0.177492   \n",
      "1         0.046656       0.380835      0.150246          0.788625   \n",
      "\n",
      "   statuses_count  \n",
      "0       -0.170037  \n",
      "1        0.755501  \n",
      "Dataset 2\n",
      "   verified  geo_enabled  profile_use_background_image  default_profile  \\\n",
      "0  0.430538     0.650834                     -1.014924        -1.065952   \n",
      "1 -0.165705    -0.250492                      0.390623         0.410262   \n",
      "\n",
      "   followers_count  friends_count  listed_count  favourites_count  \\\n",
      "0         0.139240       0.299022      0.183139          0.635698   \n",
      "1        -0.053591      -0.115087     -0.070486         -0.244667   \n",
      "\n",
      "   statuses_count  \n",
      "0        0.664184  \n",
      "1       -0.255630  \n",
      "Dataset 3\n",
      "   verified  geo_enabled  profile_use_background_image  default_profile  \\\n",
      "0 -0.094668    -0.333090                      0.261891         0.397295   \n",
      "1  0.391748     1.378374                     -1.083743        -1.644062   \n",
      "\n",
      "   followers_count  friends_count  listed_count  favourites_count  \\\n",
      "0        -0.012917      -0.114774     -0.029492         -0.190845   \n",
      "1         0.053450       0.474951      0.122044          0.789745   \n",
      "\n",
      "   statuses_count  \n",
      "0       -0.177162  \n",
      "1        0.733122  \n",
      "Dataset 4\n",
      "   verified  geo_enabled  profile_use_background_image  default_profile  \\\n",
      "0  0.515714     0.232722                     -1.188945        -0.759727   \n",
      "1 -0.216114    -0.097524                      0.498236         0.318370   \n",
      "\n",
      "   followers_count  friends_count  listed_count  favourites_count  \\\n",
      "0         0.154942       0.236637      0.211124          0.343586   \n",
      "1        -0.064930      -0.099164     -0.088473         -0.143982   \n",
      "\n",
      "   statuses_count  \n",
      "0        0.400726  \n",
      "1       -0.167927  \n"
     ]
    }
   ],
   "source": [
    "gaussian = []\n",
    "for i in range(len(train_data)):\n",
    "  print('Dataset '+ str(i+1))\n",
    "  data = pd.DataFrame(train_data[i], columns = train_df[i].columns[:-1])\n",
    "  gm = GaussianMixture(n_components=2, random_state=1).fit(data)\n",
    "  gaussian.append(gm)\n",
    "  centroids = gm.means_\n",
    "  print(pd.DataFrame(centroids, columns=data.columns))"
   ]
  },
  {
   "cell_type": "markdown",
   "metadata": {
    "id": "J_duRq2V-VDX"
   },
   "source": [
    "### Evaluate on Training Data"
   ]
  },
  {
   "cell_type": "code",
   "execution_count": 9,
   "metadata": {
    "colab": {
     "base_uri": "https://localhost:8080/"
    },
    "id": "LSP8bP37-QK3",
    "outputId": "5271e577-b4a6-48bd-e86e-5e6cdfa49064"
   },
   "outputs": [
    {
     "name": "stdout",
     "output_type": "stream",
     "text": [
      "Dataset 1\n",
      "-----------------------------------\n",
      "Training Accuracy score: 0.04707017240099928\n",
      "Training Precision score: 0.04216849730557437\n",
      "Training Recall score: 0.19270623065536266\n",
      "Training F1 score: 0.06919545784005798\n",
      "-----------------------------------\n",
      "\n",
      "-----------------------------------\n",
      "Training Flipped Accuracy score: 0.9529298275990007\n",
      "Training Flipped Precision score: 0.9578315026944256\n",
      "Training Flipped Recall score: 0.9857264076610703\n",
      "Training Flipped F1 score: 0.9715787744373253\n",
      "-----------------------------------\n",
      "\n",
      "Dataset 2\n",
      "-----------------------------------\n",
      "Training Accuracy score: 0.7480497412527999\n",
      "Training Precision score: 0.9722308408315234\n",
      "Training Recall score: 0.6702673796791444\n",
      "Training F1 score: 0.7934920232970373\n",
      "-----------------------------------\n",
      "\n",
      "-----------------------------------\n",
      "Training Flipped Accuracy score: 0.2519502587472001\n",
      "Training Flipped Precision score: 0.027769159168476575\n",
      "Training Flipped Recall score: 0.04976369196552683\n",
      "Training Flipped F1 score: 0.0356467191078363\n",
      "-----------------------------------\n",
      "\n",
      "Dataset 3\n",
      "-----------------------------------\n",
      "Training Accuracy score: 0.05028191859117943\n",
      "Training Precision score: 0.04555596876162142\n",
      "Training Recall score: 0.19444444444444445\n",
      "Training F1 score: 0.07381741488400122\n",
      "-----------------------------------\n",
      "\n",
      "-----------------------------------\n",
      "Training Flipped Accuracy score: 0.9497180814088205\n",
      "Training Flipped Precision score: 0.9544440312383786\n",
      "Training Flipped Recall score: 0.9845593171573799\n",
      "Training Flipped F1 score: 0.9692678090921967\n",
      "-----------------------------------\n",
      "\n",
      "Dataset 4\n",
      "-----------------------------------\n",
      "Training Accuracy score: 0.4565969996153353\n",
      "Training Precision score: 0.9757023538344722\n",
      "Training Recall score: 0.2340193043161537\n",
      "Training F1 score: 0.3774970622796709\n",
      "-----------------------------------\n",
      "\n",
      "-----------------------------------\n",
      "Training Flipped Accuracy score: 0.5434030003846647\n",
      "Training Flipped Precision score: 0.024297646165527716\n",
      "Training Flipped Recall score: 0.01386481802426343\n",
      "Training Flipped F1 score: 0.0176551724137931\n",
      "-----------------------------------\n",
      "\n"
     ]
    }
   ],
   "source": [
    "for i in range(len(gaussian)):\n",
    "  print('Dataset '+ str(i+1))\n",
    "  gm = gaussian[i]\n",
    "  labels = np.uint(gm.predict(train_data[i]))\n",
    "  # flip the labels since the random assignment got them backwards\n",
    "  labels_flipped = np.logical_not(labels).astype(int)\n",
    "  print_analysis(labels, train_labels[i], 'Training')\n",
    "  print_analysis(labels_flipped, train_labels[i], 'Training Flipped')\n"
   ]
  },
  {
   "cell_type": "markdown",
   "metadata": {
    "id": "tqR7uIAa-71d"
   },
   "source": [
    "### Evaluate on Testing Data"
   ]
  },
  {
   "cell_type": "code",
   "execution_count": 10,
   "metadata": {
    "colab": {
     "base_uri": "https://localhost:8080/"
    },
    "id": "bOaNrVQa-4TW",
    "outputId": "9aca3b26-cfd8-4d40-871f-64074466fdd9"
   },
   "outputs": [
    {
     "name": "stdout",
     "output_type": "stream",
     "text": [
      "Dataset 1\n",
      "-----------------------------------\n",
      "Testing Accuracy score: 0.05500593589236249\n",
      "Testing Precision score: 0.05102521800612774\n",
      "Testing Recall score: 0.22412008281573498\n",
      "Testing F1 score: 0.08312535995392589\n",
      "-----------------------------------\n",
      "\n",
      "-----------------------------------\n",
      "Testing Flipped Accuracy score: 0.9449940641076375\n",
      "Testing Flipped Precision score: 0.9489747819938723\n",
      "Testing Flipped Recall score: 0.9849559686888454\n",
      "Testing Flipped F1 score: 0.9666306565838435\n",
      "-----------------------------------\n",
      "\n",
      "Dataset 2\n",
      "-----------------------------------\n",
      "Testing Accuracy score: 0.7537843682421995\n",
      "Testing Precision score: 0.9678007290400972\n",
      "Testing Recall score: 0.6816431322207959\n",
      "Testing F1 score: 0.7998995731860405\n",
      "-----------------------------------\n",
      "\n",
      "-----------------------------------\n",
      "Testing Flipped Accuracy score: 0.24621563175780042\n",
      "Testing Flipped Precision score: 0.03219927095990279\n",
      "Testing Flipped Recall score: 0.058888888888888886\n",
      "Testing Flipped F1 score: 0.041633935585231735\n",
      "-----------------------------------\n",
      "\n",
      "Dataset 3\n",
      "-----------------------------------\n",
      "Testing Accuracy score: 0.047574915044794566\n",
      "Testing Precision score: 0.042227204783258594\n",
      "Testing Recall score: 0.17851500789889416\n",
      "Testing F1 score: 0.06829857963130856\n",
      "-----------------------------------\n",
      "\n",
      "-----------------------------------\n",
      "Testing Flipped Accuracy score: 0.9524250849552054\n",
      "Testing Flipped Precision score: 0.9577727952167414\n",
      "Testing Flipped Recall score: 0.9842549923195084\n",
      "Testing Flipped F1 score: 0.9708333333333332\n",
      "-----------------------------------\n",
      "\n",
      "Dataset 4\n",
      "-----------------------------------\n",
      "Testing Accuracy score: 0.4753846153846154\n",
      "Testing Precision score: 0.9882352941176471\n",
      "Testing Recall score: 0.24797047970479705\n",
      "Testing F1 score: 0.39646017699115044\n",
      "-----------------------------------\n",
      "\n",
      "-----------------------------------\n",
      "Testing Flipped Accuracy score: 0.5246153846153846\n",
      "Testing Flipped Precision score: 0.011764705882352941\n",
      "Testing Flipped Recall score: 0.0067226890756302525\n",
      "Testing Flipped F1 score: 0.008556149732620321\n",
      "-----------------------------------\n",
      "\n"
     ]
    }
   ],
   "source": [
    "for i in range(len(gaussian)):\n",
    "  print('Dataset '+ str(i+1))\n",
    "  gm = gaussian[i]\n",
    "  labels = np.uint(gm.predict(test_data[i]))\n",
    "  # flip the labels since the random assignment got them backwards\n",
    "  labels_flipped = np.logical_not(labels).astype(int)\n",
    "  print_analysis(labels, test_labels[i], 'Testing')\n",
    "  print_analysis(labels_flipped, test_labels[i], 'Testing Flipped')"
   ]
  },
  {
   "cell_type": "markdown",
   "metadata": {
    "id": "ViBHJj0asC2U"
   },
   "source": [
    "# Check for outliers"
   ]
  },
  {
   "cell_type": "code",
   "execution_count": 11,
   "metadata": {
    "colab": {
     "base_uri": "https://localhost:8080/"
    },
    "id": "YA3TXpPkLdD5",
    "outputId": "c49448d3-0698-43cc-d4e0-d2d12ebd205d"
   },
   "outputs": [
    {
     "ename": "ValueError",
     "evalue": "all the input arrays must have same number of dimensions, but the array at index 0 has 2 dimension(s) and the array at index 1 has 1 dimension(s)",
     "output_type": "error",
     "traceback": [
      "\u001b[0;31m---------------------------------------------------------------------------\u001b[0m",
      "\u001b[0;31mValueError\u001b[0m                                Traceback (most recent call last)",
      "\u001b[0;32m<ipython-input-11-89188afb88f1>\u001b[0m in \u001b[0;36m<module>\u001b[0;34m\u001b[0m\n\u001b[1;32m      1\u001b[0m \u001b[0mcols\u001b[0m \u001b[0;34m=\u001b[0m \u001b[0mtrain_df\u001b[0m\u001b[0;34m[\u001b[0m\u001b[0;36m0\u001b[0m\u001b[0;34m]\u001b[0m\u001b[0;34m.\u001b[0m\u001b[0mcolumns\u001b[0m\u001b[0;34m.\u001b[0m\u001b[0mtolist\u001b[0m\u001b[0;34m(\u001b[0m\u001b[0;34m)\u001b[0m\u001b[0;34m\u001b[0m\u001b[0;34m\u001b[0m\u001b[0m\n\u001b[1;32m      2\u001b[0m \u001b[0mcols\u001b[0m\u001b[0;34m.\u001b[0m\u001b[0mappend\u001b[0m\u001b[0;34m(\u001b[0m\u001b[0;34m'Cluster ID'\u001b[0m\u001b[0;34m)\u001b[0m\u001b[0;34m\u001b[0m\u001b[0;34m\u001b[0m\u001b[0m\n\u001b[0;32m----> 3\u001b[0;31m \u001b[0mcheck\u001b[0m \u001b[0;34m=\u001b[0m \u001b[0mpd\u001b[0m\u001b[0;34m.\u001b[0m\u001b[0mDataFrame\u001b[0m\u001b[0;34m(\u001b[0m\u001b[0mnp\u001b[0m\u001b[0;34m.\u001b[0m\u001b[0mconcatenate\u001b[0m\u001b[0;34m(\u001b[0m\u001b[0;34m(\u001b[0m\u001b[0mtrain_data\u001b[0m\u001b[0;34m[\u001b[0m\u001b[0;34m-\u001b[0m\u001b[0;36m1\u001b[0m\u001b[0;34m]\u001b[0m\u001b[0;34m,\u001b[0m \u001b[0mlabels\u001b[0m\u001b[0;34m)\u001b[0m\u001b[0;34m,\u001b[0m \u001b[0maxis\u001b[0m\u001b[0;34m=\u001b[0m\u001b[0;36m1\u001b[0m\u001b[0;34m)\u001b[0m\u001b[0;34m,\u001b[0m \u001b[0mcolumns\u001b[0m\u001b[0;34m=\u001b[0m\u001b[0mcols\u001b[0m\u001b[0;34m)\u001b[0m\u001b[0;34m\u001b[0m\u001b[0;34m\u001b[0m\u001b[0m\n\u001b[0m\u001b[1;32m      4\u001b[0m \u001b[0mcheck\u001b[0m\u001b[0;34m[\u001b[0m\u001b[0;34m'Cluster ID'\u001b[0m\u001b[0;34m]\u001b[0m\u001b[0;34m.\u001b[0m\u001b[0mvalue_counts\u001b[0m\u001b[0;34m(\u001b[0m\u001b[0;34m)\u001b[0m\u001b[0;34m\u001b[0m\u001b[0;34m\u001b[0m\u001b[0m\n",
      "\u001b[0;32m<__array_function__ internals>\u001b[0m in \u001b[0;36mconcatenate\u001b[0;34m(*args, **kwargs)\u001b[0m\n",
      "\u001b[0;31mValueError\u001b[0m: all the input arrays must have same number of dimensions, but the array at index 0 has 2 dimension(s) and the array at index 1 has 1 dimension(s)"
     ]
    }
   ],
   "source": [
    "cols = train_df[0].columns.tolist()\n",
    "cols.append('Cluster ID')\n",
    "check = pd.DataFrame(np.concatenate((train_data[-1], labels), axis=1), columns=cols)\n",
    "check['Cluster ID'].value_counts()"
   ]
  },
  {
   "cell_type": "markdown",
   "metadata": {
    "id": "pQhAYdQXLbPP"
   },
   "source": [
    "This appears to struggling with a single outlier so what if we remove it"
   ]
  },
  {
   "cell_type": "code",
   "execution_count": null,
   "metadata": {
    "id": "rze-9DMELvV2"
   },
   "outputs": [],
   "source": [
    "train_u_new = train_u.drop(train_u.index[17007])\n",
    "x_train_u_new = train_u_new.to_numpy()[:,:-1].astype(int)\n",
    "x_train_u_new_scaled = scaler.fit_transform(x_train_u_new)\n",
    "y_train_u_new = train_u_new.to_numpy()[:,-1].astype(int)\n",
    "\n",
    "x_test_u_new_scaled = scaler.transform(x_test_u)"
   ]
  },
  {
   "cell_type": "code",
   "execution_count": null,
   "metadata": {
    "colab": {
     "base_uri": "https://localhost:8080/"
    },
    "id": "BsemOtLMNP7p",
    "outputId": "93f2ff57-dec6-462d-f7e6-b4a7ac431591"
   },
   "outputs": [
    {
     "data": {
      "text/plain": [
       "array([[-0.09412137, -0.31914039,  0.25360375,  0.38436984, -0.01097372,\n",
       "        -0.08258622, -0.03375535, -0.17752917, -0.17573083],\n",
       "       [ 0.41520221,  1.4078396 , -1.1187346 , -1.69558947,  0.04840892,\n",
       "         0.36431661,  0.14890661,  0.78314308,  0.77520998]])"
      ]
     },
     "execution_count": 39,
     "metadata": {
      "tags": []
     },
     "output_type": "execute_result"
    }
   ],
   "source": [
    "gm = GaussianMixture(n_components=2, random_state=0).fit(x_train_u_new_scaled)\n",
    "gm.means_"
   ]
  },
  {
   "cell_type": "markdown",
   "metadata": {
    "id": "gFkajSp1OqJw"
   },
   "source": [
    "### Evaluate on Training Data"
   ]
  },
  {
   "cell_type": "code",
   "execution_count": null,
   "metadata": {
    "colab": {
     "base_uri": "https://localhost:8080/",
     "height": 424
    },
    "id": "8g7RNKXeOubV",
    "outputId": "36d9667c-1940-4f1d-db23-f3df6be557ca"
   },
   "outputs": [
    {
     "data": {
      "text/html": [
       "<div>\n",
       "<style scoped>\n",
       "    .dataframe tbody tr th:only-of-type {\n",
       "        vertical-align: middle;\n",
       "    }\n",
       "\n",
       "    .dataframe tbody tr th {\n",
       "        vertical-align: top;\n",
       "    }\n",
       "\n",
       "    .dataframe thead th {\n",
       "        text-align: right;\n",
       "    }\n",
       "</style>\n",
       "<table border=\"1\" class=\"dataframe\">\n",
       "  <thead>\n",
       "    <tr style=\"text-align: right;\">\n",
       "      <th></th>\n",
       "      <th>verified</th>\n",
       "      <th>geo_enabled</th>\n",
       "      <th>profile_use_background_image</th>\n",
       "      <th>default_profile</th>\n",
       "      <th>followers_count</th>\n",
       "      <th>friends_count</th>\n",
       "      <th>listed_count</th>\n",
       "      <th>favourites_count</th>\n",
       "      <th>statuses_count</th>\n",
       "      <th>bot</th>\n",
       "      <th>Cluster ID</th>\n",
       "    </tr>\n",
       "  </thead>\n",
       "  <tbody>\n",
       "    <tr>\n",
       "      <th>0</th>\n",
       "      <td>False</td>\n",
       "      <td>False</td>\n",
       "      <td>True</td>\n",
       "      <td>True</td>\n",
       "      <td>1629</td>\n",
       "      <td>1644</td>\n",
       "      <td>0</td>\n",
       "      <td>76</td>\n",
       "      <td>1375</td>\n",
       "      <td>0</td>\n",
       "      <td>1</td>\n",
       "    </tr>\n",
       "    <tr>\n",
       "      <th>1</th>\n",
       "      <td>False</td>\n",
       "      <td>False</td>\n",
       "      <td>True</td>\n",
       "      <td>False</td>\n",
       "      <td>136</td>\n",
       "      <td>339</td>\n",
       "      <td>14</td>\n",
       "      <td>14474</td>\n",
       "      <td>7915</td>\n",
       "      <td>0</td>\n",
       "      <td>1</td>\n",
       "    </tr>\n",
       "    <tr>\n",
       "      <th>2</th>\n",
       "      <td>False</td>\n",
       "      <td>False</td>\n",
       "      <td>True</td>\n",
       "      <td>True</td>\n",
       "      <td>0</td>\n",
       "      <td>0</td>\n",
       "      <td>0</td>\n",
       "      <td>0</td>\n",
       "      <td>1</td>\n",
       "      <td>1</td>\n",
       "      <td>0</td>\n",
       "    </tr>\n",
       "    <tr>\n",
       "      <th>3</th>\n",
       "      <td>False</td>\n",
       "      <td>False</td>\n",
       "      <td>True</td>\n",
       "      <td>True</td>\n",
       "      <td>2</td>\n",
       "      <td>0</td>\n",
       "      <td>0</td>\n",
       "      <td>0</td>\n",
       "      <td>103</td>\n",
       "      <td>1</td>\n",
       "      <td>0</td>\n",
       "    </tr>\n",
       "    <tr>\n",
       "      <th>4</th>\n",
       "      <td>False</td>\n",
       "      <td>False</td>\n",
       "      <td>True</td>\n",
       "      <td>True</td>\n",
       "      <td>0</td>\n",
       "      <td>0</td>\n",
       "      <td>0</td>\n",
       "      <td>0</td>\n",
       "      <td>37</td>\n",
       "      <td>1</td>\n",
       "      <td>0</td>\n",
       "    </tr>\n",
       "    <tr>\n",
       "      <th>...</th>\n",
       "      <td>...</td>\n",
       "      <td>...</td>\n",
       "      <td>...</td>\n",
       "      <td>...</td>\n",
       "      <td>...</td>\n",
       "      <td>...</td>\n",
       "      <td>...</td>\n",
       "      <td>...</td>\n",
       "      <td>...</td>\n",
       "      <td>...</td>\n",
       "      <td>...</td>\n",
       "    </tr>\n",
       "    <tr>\n",
       "      <th>40423</th>\n",
       "      <td>False</td>\n",
       "      <td>False</td>\n",
       "      <td>True</td>\n",
       "      <td>True</td>\n",
       "      <td>12</td>\n",
       "      <td>116</td>\n",
       "      <td>0</td>\n",
       "      <td>109</td>\n",
       "      <td>92</td>\n",
       "      <td>1</td>\n",
       "      <td>0</td>\n",
       "    </tr>\n",
       "    <tr>\n",
       "      <th>40424</th>\n",
       "      <td>False</td>\n",
       "      <td>False</td>\n",
       "      <td>True</td>\n",
       "      <td>True</td>\n",
       "      <td>0</td>\n",
       "      <td>0</td>\n",
       "      <td>0</td>\n",
       "      <td>0</td>\n",
       "      <td>15</td>\n",
       "      <td>1</td>\n",
       "      <td>0</td>\n",
       "    </tr>\n",
       "    <tr>\n",
       "      <th>40425</th>\n",
       "      <td>False</td>\n",
       "      <td>False</td>\n",
       "      <td>True</td>\n",
       "      <td>True</td>\n",
       "      <td>0</td>\n",
       "      <td>0</td>\n",
       "      <td>0</td>\n",
       "      <td>0</td>\n",
       "      <td>59</td>\n",
       "      <td>1</td>\n",
       "      <td>0</td>\n",
       "    </tr>\n",
       "    <tr>\n",
       "      <th>40426</th>\n",
       "      <td>False</td>\n",
       "      <td>False</td>\n",
       "      <td>True</td>\n",
       "      <td>True</td>\n",
       "      <td>0</td>\n",
       "      <td>55</td>\n",
       "      <td>0</td>\n",
       "      <td>0</td>\n",
       "      <td>8</td>\n",
       "      <td>1</td>\n",
       "      <td>0</td>\n",
       "    </tr>\n",
       "    <tr>\n",
       "      <th>40427</th>\n",
       "      <td>False</td>\n",
       "      <td>False</td>\n",
       "      <td>True</td>\n",
       "      <td>True</td>\n",
       "      <td>0</td>\n",
       "      <td>0</td>\n",
       "      <td>0</td>\n",
       "      <td>0</td>\n",
       "      <td>7</td>\n",
       "      <td>1</td>\n",
       "      <td>0</td>\n",
       "    </tr>\n",
       "  </tbody>\n",
       "</table>\n",
       "<p>40428 rows × 11 columns</p>\n",
       "</div>"
      ],
      "text/plain": [
       "      verified geo_enabled  ... bot Cluster ID\n",
       "0        False       False  ...   0          1\n",
       "1        False       False  ...   0          1\n",
       "2        False       False  ...   1          0\n",
       "3        False       False  ...   1          0\n",
       "4        False       False  ...   1          0\n",
       "...        ...         ...  ...  ..        ...\n",
       "40423    False       False  ...   1          0\n",
       "40424    False       False  ...   1          0\n",
       "40425    False       False  ...   1          0\n",
       "40426    False       False  ...   1          0\n",
       "40427    False       False  ...   1          0\n",
       "\n",
       "[40428 rows x 11 columns]"
      ]
     },
     "execution_count": 40,
     "metadata": {
      "tags": []
     },
     "output_type": "execute_result"
    }
   ],
   "source": [
    "labels = gm.predict(x_train_u_new_scaled)\n",
    "labels = labels.reshape(-1, 1)\n",
    "cols = test_u.columns.tolist()\n",
    "cols.append('Cluster ID')\n",
    "check = pd.DataFrame(np.concatenate((train_u_new, labels), axis=1), columns=cols)\n",
    "check\n"
   ]
  },
  {
   "cell_type": "code",
   "execution_count": null,
   "metadata": {
    "colab": {
     "base_uri": "https://localhost:8080/"
    },
    "id": "YAzEQKiwPBoi",
    "outputId": "c664d6c3-72fa-429f-d317-a7d1060f46ed"
   },
   "outputs": [
    {
     "name": "stdout",
     "output_type": "stream",
     "text": [
      "-----------------------------------\n",
      "Training Accuracy score: 0.951246660730187\n",
      "Training Precision score: 0.956130020021199\n",
      "Training Recall score: 0.9854043392504931\n",
      "Training F1 score: 0.9705464815672679\n",
      "-----------------------------------\n",
      "\n"
     ]
    }
   ],
   "source": [
    "labels = np.uint(gm.predict(x_train_u_new_scaled))\n",
    "# flip the labels since the random assignment got them backwards\n",
    "labels_flipped = np.logical_not(labels).astype(int)\n",
    "print_analysis(labels_flipped, y_train_u_new, 'Training')"
   ]
  },
  {
   "cell_type": "markdown",
   "metadata": {
    "id": "au3rrd6nPKUc"
   },
   "source": [
    "### Evaluate on Testing Data"
   ]
  },
  {
   "cell_type": "code",
   "execution_count": null,
   "metadata": {
    "colab": {
     "base_uri": "https://localhost:8080/",
     "height": 424
    },
    "id": "SvVb1lbtPM3k",
    "outputId": "292ec021-d30e-4b68-ce60-24ddf76a81c5"
   },
   "outputs": [
    {
     "data": {
      "text/html": [
       "<div>\n",
       "<style scoped>\n",
       "    .dataframe tbody tr th:only-of-type {\n",
       "        vertical-align: middle;\n",
       "    }\n",
       "\n",
       "    .dataframe tbody tr th {\n",
       "        vertical-align: top;\n",
       "    }\n",
       "\n",
       "    .dataframe thead th {\n",
       "        text-align: right;\n",
       "    }\n",
       "</style>\n",
       "<table border=\"1\" class=\"dataframe\">\n",
       "  <thead>\n",
       "    <tr style=\"text-align: right;\">\n",
       "      <th></th>\n",
       "      <th>verified</th>\n",
       "      <th>geo_enabled</th>\n",
       "      <th>profile_use_background_image</th>\n",
       "      <th>default_profile</th>\n",
       "      <th>followers_count</th>\n",
       "      <th>friends_count</th>\n",
       "      <th>listed_count</th>\n",
       "      <th>favourites_count</th>\n",
       "      <th>statuses_count</th>\n",
       "      <th>bot</th>\n",
       "      <th>Cluster ID</th>\n",
       "    </tr>\n",
       "  </thead>\n",
       "  <tbody>\n",
       "    <tr>\n",
       "      <th>0</th>\n",
       "      <td>False</td>\n",
       "      <td>False</td>\n",
       "      <td>True</td>\n",
       "      <td>True</td>\n",
       "      <td>206</td>\n",
       "      <td>201</td>\n",
       "      <td>0</td>\n",
       "      <td>7</td>\n",
       "      <td>151</td>\n",
       "      <td>1</td>\n",
       "      <td>0</td>\n",
       "    </tr>\n",
       "    <tr>\n",
       "      <th>1</th>\n",
       "      <td>False</td>\n",
       "      <td>False</td>\n",
       "      <td>True</td>\n",
       "      <td>True</td>\n",
       "      <td>1</td>\n",
       "      <td>3</td>\n",
       "      <td>0</td>\n",
       "      <td>2</td>\n",
       "      <td>14</td>\n",
       "      <td>1</td>\n",
       "      <td>0</td>\n",
       "    </tr>\n",
       "    <tr>\n",
       "      <th>2</th>\n",
       "      <td>False</td>\n",
       "      <td>False</td>\n",
       "      <td>True</td>\n",
       "      <td>True</td>\n",
       "      <td>0</td>\n",
       "      <td>0</td>\n",
       "      <td>0</td>\n",
       "      <td>0</td>\n",
       "      <td>3</td>\n",
       "      <td>1</td>\n",
       "      <td>0</td>\n",
       "    </tr>\n",
       "    <tr>\n",
       "      <th>3</th>\n",
       "      <td>False</td>\n",
       "      <td>False</td>\n",
       "      <td>True</td>\n",
       "      <td>True</td>\n",
       "      <td>0</td>\n",
       "      <td>0</td>\n",
       "      <td>0</td>\n",
       "      <td>0</td>\n",
       "      <td>21</td>\n",
       "      <td>1</td>\n",
       "      <td>0</td>\n",
       "    </tr>\n",
       "    <tr>\n",
       "      <th>4</th>\n",
       "      <td>False</td>\n",
       "      <td>False</td>\n",
       "      <td>True</td>\n",
       "      <td>True</td>\n",
       "      <td>0</td>\n",
       "      <td>0</td>\n",
       "      <td>0</td>\n",
       "      <td>0</td>\n",
       "      <td>44</td>\n",
       "      <td>1</td>\n",
       "      <td>0</td>\n",
       "    </tr>\n",
       "    <tr>\n",
       "      <th>...</th>\n",
       "      <td>...</td>\n",
       "      <td>...</td>\n",
       "      <td>...</td>\n",
       "      <td>...</td>\n",
       "      <td>...</td>\n",
       "      <td>...</td>\n",
       "      <td>...</td>\n",
       "      <td>...</td>\n",
       "      <td>...</td>\n",
       "      <td>...</td>\n",
       "      <td>...</td>\n",
       "    </tr>\n",
       "    <tr>\n",
       "      <th>10103</th>\n",
       "      <td>False</td>\n",
       "      <td>False</td>\n",
       "      <td>True</td>\n",
       "      <td>True</td>\n",
       "      <td>5</td>\n",
       "      <td>62</td>\n",
       "      <td>0</td>\n",
       "      <td>9</td>\n",
       "      <td>4</td>\n",
       "      <td>1</td>\n",
       "      <td>0</td>\n",
       "    </tr>\n",
       "    <tr>\n",
       "      <th>10104</th>\n",
       "      <td>False</td>\n",
       "      <td>False</td>\n",
       "      <td>True</td>\n",
       "      <td>False</td>\n",
       "      <td>5524</td>\n",
       "      <td>347</td>\n",
       "      <td>131</td>\n",
       "      <td>321</td>\n",
       "      <td>8319</td>\n",
       "      <td>0</td>\n",
       "      <td>1</td>\n",
       "    </tr>\n",
       "    <tr>\n",
       "      <th>10105</th>\n",
       "      <td>False</td>\n",
       "      <td>False</td>\n",
       "      <td>True</td>\n",
       "      <td>True</td>\n",
       "      <td>0</td>\n",
       "      <td>0</td>\n",
       "      <td>0</td>\n",
       "      <td>0</td>\n",
       "      <td>33</td>\n",
       "      <td>1</td>\n",
       "      <td>0</td>\n",
       "    </tr>\n",
       "    <tr>\n",
       "      <th>10106</th>\n",
       "      <td>False</td>\n",
       "      <td>False</td>\n",
       "      <td>True</td>\n",
       "      <td>True</td>\n",
       "      <td>2</td>\n",
       "      <td>217</td>\n",
       "      <td>0</td>\n",
       "      <td>0</td>\n",
       "      <td>43</td>\n",
       "      <td>1</td>\n",
       "      <td>0</td>\n",
       "    </tr>\n",
       "    <tr>\n",
       "      <th>10107</th>\n",
       "      <td>False</td>\n",
       "      <td>False</td>\n",
       "      <td>True</td>\n",
       "      <td>True</td>\n",
       "      <td>0</td>\n",
       "      <td>0</td>\n",
       "      <td>0</td>\n",
       "      <td>0</td>\n",
       "      <td>39</td>\n",
       "      <td>1</td>\n",
       "      <td>0</td>\n",
       "    </tr>\n",
       "  </tbody>\n",
       "</table>\n",
       "<p>10108 rows × 11 columns</p>\n",
       "</div>"
      ],
      "text/plain": [
       "      verified geo_enabled  ... bot Cluster ID\n",
       "0        False       False  ...   1          0\n",
       "1        False       False  ...   1          0\n",
       "2        False       False  ...   1          0\n",
       "3        False       False  ...   1          0\n",
       "4        False       False  ...   1          0\n",
       "...        ...         ...  ...  ..        ...\n",
       "10103    False       False  ...   1          0\n",
       "10104    False       False  ...   0          1\n",
       "10105    False       False  ...   1          0\n",
       "10106    False       False  ...   1          0\n",
       "10107    False       False  ...   1          0\n",
       "\n",
       "[10108 rows x 11 columns]"
      ]
     },
     "execution_count": 42,
     "metadata": {
      "tags": []
     },
     "output_type": "execute_result"
    }
   ],
   "source": [
    "labels = gm.predict(x_test_u_new_scaled)\n",
    "labels = labels.reshape(-1, 1)\n",
    "cols = test_u.columns.tolist()\n",
    "cols.append('Cluster ID')\n",
    "check = pd.DataFrame(np.concatenate((test_u, labels), axis=1), columns=cols)\n",
    "check"
   ]
  },
  {
   "cell_type": "code",
   "execution_count": null,
   "metadata": {
    "colab": {
     "base_uri": "https://localhost:8080/"
    },
    "id": "A9b5r8blPa7P",
    "outputId": "eda1ba41-0126-481b-f496-ae829de42624"
   },
   "outputs": [
    {
     "name": "stdout",
     "output_type": "stream",
     "text": [
      "-----------------------------------\n",
      "Testing Accuracy score: 0.9531064503363672\n",
      "Testing Precision score: 0.9583726415094339\n",
      "Testing Recall score: 0.9853297769156159\n",
      "Testing F1 score: 0.9716642754662841\n",
      "-----------------------------------\n",
      "\n"
     ]
    }
   ],
   "source": [
    "labels = np.uint(gm.predict(x_test_u_new_scaled))\n",
    "# flip the labels since the random assignment got them backwards\n",
    "labels_flipped = np.logical_not(labels).astype(int)\n",
    "print_analysis(labels_flipped, y_test_u, 'Testing')"
   ]
  },
  {
   "cell_type": "markdown",
   "metadata": {
    "id": "hag5_UfLEsOE"
   },
   "source": [
    "### Train Model on Balanced Data"
   ]
  },
  {
   "cell_type": "code",
   "execution_count": null,
   "metadata": {
    "colab": {
     "base_uri": "https://localhost:8080/"
    },
    "id": "NO526bQo_OEn",
    "outputId": "0b6023ae-2ff0-4d93-cf3d-3c7705638a66"
   },
   "outputs": [
    {
     "data": {
      "text/plain": [
       "array([[-2.77744956e-03, -5.71528344e-04,  4.41013628e-05,\n",
       "         6.33606808e-04, -1.18661748e-02, -1.70606769e-03,\n",
       "        -1.80791904e-02, -1.18010791e-04, -1.65283404e-03],\n",
       "       [ 5.99049580e+00,  1.23269138e+00, -9.51192892e-02,\n",
       "        -1.36658428e+00,  2.55933614e+01,  3.67970366e+00,\n",
       "         3.89938004e+01,  2.54529608e-01,  3.56488756e+00]])"
      ]
     },
     "execution_count": 27,
     "metadata": {
      "tags": []
     },
     "output_type": "execute_result"
    }
   ],
   "source": [
    "from sklearn.mixture import GaussianMixture\n",
    "\n",
    "gm = GaussianMixture(n_components=2, random_state=0).fit(x_train_b_scaled)\n",
    "gm.means_"
   ]
  },
  {
   "cell_type": "markdown",
   "metadata": {
    "id": "mtpIQyTvE44Z"
   },
   "source": [
    "### Evaluate on Training Data"
   ]
  },
  {
   "cell_type": "code",
   "execution_count": null,
   "metadata": {
    "colab": {
     "base_uri": "https://localhost:8080/",
     "height": 424
    },
    "id": "77ClIrllE0ze",
    "outputId": "50639eb1-9867-49a7-91fb-173c77cc120e"
   },
   "outputs": [
    {
     "data": {
      "text/html": [
       "<div>\n",
       "<style scoped>\n",
       "    .dataframe tbody tr th:only-of-type {\n",
       "        vertical-align: middle;\n",
       "    }\n",
       "\n",
       "    .dataframe tbody tr th {\n",
       "        vertical-align: top;\n",
       "    }\n",
       "\n",
       "    .dataframe thead th {\n",
       "        text-align: right;\n",
       "    }\n",
       "</style>\n",
       "<table border=\"1\" class=\"dataframe\">\n",
       "  <thead>\n",
       "    <tr style=\"text-align: right;\">\n",
       "      <th></th>\n",
       "      <th>verified</th>\n",
       "      <th>geo_enabled</th>\n",
       "      <th>profile_use_background_image</th>\n",
       "      <th>default_profile</th>\n",
       "      <th>followers_count</th>\n",
       "      <th>friends_count</th>\n",
       "      <th>listed_count</th>\n",
       "      <th>favourites_count</th>\n",
       "      <th>statuses_count</th>\n",
       "      <th>bot</th>\n",
       "      <th>Cluster ID</th>\n",
       "    </tr>\n",
       "  </thead>\n",
       "  <tbody>\n",
       "    <tr>\n",
       "      <th>0</th>\n",
       "      <td>False</td>\n",
       "      <td>True</td>\n",
       "      <td>True</td>\n",
       "      <td>True</td>\n",
       "      <td>122</td>\n",
       "      <td>109</td>\n",
       "      <td>0</td>\n",
       "      <td>1085</td>\n",
       "      <td>812</td>\n",
       "      <td>0</td>\n",
       "      <td>0</td>\n",
       "    </tr>\n",
       "    <tr>\n",
       "      <th>1</th>\n",
       "      <td>False</td>\n",
       "      <td>False</td>\n",
       "      <td>True</td>\n",
       "      <td>True</td>\n",
       "      <td>0</td>\n",
       "      <td>0</td>\n",
       "      <td>0</td>\n",
       "      <td>0</td>\n",
       "      <td>3</td>\n",
       "      <td>1</td>\n",
       "      <td>0</td>\n",
       "    </tr>\n",
       "    <tr>\n",
       "      <th>2</th>\n",
       "      <td>False</td>\n",
       "      <td>False</td>\n",
       "      <td>True</td>\n",
       "      <td>False</td>\n",
       "      <td>84</td>\n",
       "      <td>175</td>\n",
       "      <td>1</td>\n",
       "      <td>1561</td>\n",
       "      <td>3878</td>\n",
       "      <td>0</td>\n",
       "      <td>0</td>\n",
       "    </tr>\n",
       "    <tr>\n",
       "      <th>3</th>\n",
       "      <td>False</td>\n",
       "      <td>False</td>\n",
       "      <td>True</td>\n",
       "      <td>True</td>\n",
       "      <td>0</td>\n",
       "      <td>18</td>\n",
       "      <td>0</td>\n",
       "      <td>4</td>\n",
       "      <td>5</td>\n",
       "      <td>1</td>\n",
       "      <td>0</td>\n",
       "    </tr>\n",
       "    <tr>\n",
       "      <th>4</th>\n",
       "      <td>False</td>\n",
       "      <td>False</td>\n",
       "      <td>True</td>\n",
       "      <td>True</td>\n",
       "      <td>0</td>\n",
       "      <td>41</td>\n",
       "      <td>0</td>\n",
       "      <td>10</td>\n",
       "      <td>24</td>\n",
       "      <td>1</td>\n",
       "      <td>0</td>\n",
       "    </tr>\n",
       "    <tr>\n",
       "      <th>...</th>\n",
       "      <td>...</td>\n",
       "      <td>...</td>\n",
       "      <td>...</td>\n",
       "      <td>...</td>\n",
       "      <td>...</td>\n",
       "      <td>...</td>\n",
       "      <td>...</td>\n",
       "      <td>...</td>\n",
       "      <td>...</td>\n",
       "      <td>...</td>\n",
       "      <td>...</td>\n",
       "    </tr>\n",
       "    <tr>\n",
       "      <th>12942</th>\n",
       "      <td>False</td>\n",
       "      <td>False</td>\n",
       "      <td>True</td>\n",
       "      <td>True</td>\n",
       "      <td>0</td>\n",
       "      <td>0</td>\n",
       "      <td>0</td>\n",
       "      <td>0</td>\n",
       "      <td>27</td>\n",
       "      <td>1</td>\n",
       "      <td>0</td>\n",
       "    </tr>\n",
       "    <tr>\n",
       "      <th>12943</th>\n",
       "      <td>False</td>\n",
       "      <td>True</td>\n",
       "      <td>True</td>\n",
       "      <td>False</td>\n",
       "      <td>203</td>\n",
       "      <td>177</td>\n",
       "      <td>10</td>\n",
       "      <td>9129</td>\n",
       "      <td>14144</td>\n",
       "      <td>0</td>\n",
       "      <td>0</td>\n",
       "    </tr>\n",
       "    <tr>\n",
       "      <th>12944</th>\n",
       "      <td>False</td>\n",
       "      <td>False</td>\n",
       "      <td>True</td>\n",
       "      <td>True</td>\n",
       "      <td>153</td>\n",
       "      <td>166</td>\n",
       "      <td>0</td>\n",
       "      <td>27</td>\n",
       "      <td>13</td>\n",
       "      <td>1</td>\n",
       "      <td>0</td>\n",
       "    </tr>\n",
       "    <tr>\n",
       "      <th>12945</th>\n",
       "      <td>False</td>\n",
       "      <td>True</td>\n",
       "      <td>True</td>\n",
       "      <td>True</td>\n",
       "      <td>2085</td>\n",
       "      <td>1865</td>\n",
       "      <td>65</td>\n",
       "      <td>32121</td>\n",
       "      <td>40349</td>\n",
       "      <td>0</td>\n",
       "      <td>0</td>\n",
       "    </tr>\n",
       "    <tr>\n",
       "      <th>12946</th>\n",
       "      <td>False</td>\n",
       "      <td>False</td>\n",
       "      <td>True</td>\n",
       "      <td>False</td>\n",
       "      <td>303</td>\n",
       "      <td>1019</td>\n",
       "      <td>13</td>\n",
       "      <td>11926</td>\n",
       "      <td>20432</td>\n",
       "      <td>0</td>\n",
       "      <td>0</td>\n",
       "    </tr>\n",
       "  </tbody>\n",
       "</table>\n",
       "<p>12947 rows × 11 columns</p>\n",
       "</div>"
      ],
      "text/plain": [
       "      verified geo_enabled  ... bot Cluster ID\n",
       "0        False        True  ...   0          0\n",
       "1        False       False  ...   1          0\n",
       "2        False       False  ...   0          0\n",
       "3        False       False  ...   1          0\n",
       "4        False       False  ...   1          0\n",
       "...        ...         ...  ...  ..        ...\n",
       "12942    False       False  ...   1          0\n",
       "12943    False        True  ...   0          0\n",
       "12944    False       False  ...   1          0\n",
       "12945    False        True  ...   0          0\n",
       "12946    False       False  ...   0          0\n",
       "\n",
       "[12947 rows x 11 columns]"
      ]
     },
     "execution_count": 28,
     "metadata": {
      "tags": []
     },
     "output_type": "execute_result"
    }
   ],
   "source": [
    "labels = gm.predict(x_train_b_scaled)\n",
    "labels = labels.reshape(-1, 1)\n",
    "cols = train_b.columns.tolist()\n",
    "cols.append('Cluster ID')\n",
    "check = pd.DataFrame(np.concatenate((train_b, labels), axis=1), columns=cols)\n",
    "check"
   ]
  },
  {
   "cell_type": "code",
   "execution_count": null,
   "metadata": {
    "colab": {
     "base_uri": "https://localhost:8080/"
    },
    "id": "RT0GJudNE_IV",
    "outputId": "ab275437-7962-40f3-e2fe-e3f9b5897a35"
   },
   "outputs": [
    {
     "name": "stdout",
     "output_type": "stream",
     "text": [
      "-----------------------------------\n",
      "Training Accuracy score: 0.49787595581988103\n",
      "Training Precision score: 1.0\n",
      "Training Recall score: 0.49764314967931383\n",
      "Training F1 score: 0.6645683917238533\n",
      "-----------------------------------\n",
      "\n"
     ]
    }
   ],
   "source": [
    "labels = np.uint(gm.predict(x_train_b_scaled))\n",
    "# flip the labels since the random assignment got them backwards\n",
    "labels_flipped = np.logical_not(labels).astype(int)\n",
    "print_analysis(labels_flipped, y_train_b, 'Training')"
   ]
  },
  {
   "cell_type": "code",
   "execution_count": null,
   "metadata": {
    "colab": {
     "base_uri": "https://localhost:8080/"
    },
    "id": "f-Q6QVgzPmiw",
    "outputId": "75ff9302-f7a5-4bbb-d443-b53e3e906a4b"
   },
   "outputs": [
    {
     "data": {
      "text/plain": [
       "0    12941\n",
       "1        6\n",
       "Name: Cluster ID, dtype: int64"
      ]
     },
     "execution_count": 30,
     "metadata": {
      "tags": []
     },
     "output_type": "execute_result"
    }
   ],
   "source": [
    "check['Cluster ID'].value_counts()"
   ]
  },
  {
   "cell_type": "code",
   "execution_count": null,
   "metadata": {
    "colab": {
     "base_uri": "https://localhost:8080/",
     "height": 238
    },
    "id": "JxHCnQJtP0d4",
    "outputId": "2500643a-188f-4c4b-91cf-6f64e97aad49"
   },
   "outputs": [
    {
     "data": {
      "text/html": [
       "<div>\n",
       "<style scoped>\n",
       "    .dataframe tbody tr th:only-of-type {\n",
       "        vertical-align: middle;\n",
       "    }\n",
       "\n",
       "    .dataframe tbody tr th {\n",
       "        vertical-align: top;\n",
       "    }\n",
       "\n",
       "    .dataframe thead th {\n",
       "        text-align: right;\n",
       "    }\n",
       "</style>\n",
       "<table border=\"1\" class=\"dataframe\">\n",
       "  <thead>\n",
       "    <tr style=\"text-align: right;\">\n",
       "      <th></th>\n",
       "      <th>verified</th>\n",
       "      <th>geo_enabled</th>\n",
       "      <th>profile_use_background_image</th>\n",
       "      <th>default_profile</th>\n",
       "      <th>followers_count</th>\n",
       "      <th>friends_count</th>\n",
       "      <th>listed_count</th>\n",
       "      <th>favourites_count</th>\n",
       "      <th>statuses_count</th>\n",
       "      <th>bot</th>\n",
       "      <th>Cluster ID</th>\n",
       "    </tr>\n",
       "  </thead>\n",
       "  <tbody>\n",
       "    <tr>\n",
       "      <th>2539</th>\n",
       "      <td>True</td>\n",
       "      <td>False</td>\n",
       "      <td>True</td>\n",
       "      <td>False</td>\n",
       "      <td>2830107</td>\n",
       "      <td>635</td>\n",
       "      <td>31524</td>\n",
       "      <td>64348</td>\n",
       "      <td>33591</td>\n",
       "      <td>0</td>\n",
       "      <td>1</td>\n",
       "    </tr>\n",
       "    <tr>\n",
       "      <th>6175</th>\n",
       "      <td>True</td>\n",
       "      <td>True</td>\n",
       "      <td>True</td>\n",
       "      <td>False</td>\n",
       "      <td>1591499</td>\n",
       "      <td>350</td>\n",
       "      <td>26736</td>\n",
       "      <td>2114</td>\n",
       "      <td>202745</td>\n",
       "      <td>0</td>\n",
       "      <td>1</td>\n",
       "    </tr>\n",
       "    <tr>\n",
       "      <th>8093</th>\n",
       "      <td>True</td>\n",
       "      <td>True</td>\n",
       "      <td>False</td>\n",
       "      <td>False</td>\n",
       "      <td>6639843</td>\n",
       "      <td>5797</td>\n",
       "      <td>25439</td>\n",
       "      <td>6645</td>\n",
       "      <td>220668</td>\n",
       "      <td>0</td>\n",
       "      <td>1</td>\n",
       "    </tr>\n",
       "    <tr>\n",
       "      <th>8537</th>\n",
       "      <td>True</td>\n",
       "      <td>True</td>\n",
       "      <td>True</td>\n",
       "      <td>False</td>\n",
       "      <td>4193906</td>\n",
       "      <td>289</td>\n",
       "      <td>20713</td>\n",
       "      <td>162</td>\n",
       "      <td>10146</td>\n",
       "      <td>0</td>\n",
       "      <td>1</td>\n",
       "    </tr>\n",
       "    <tr>\n",
       "      <th>9403</th>\n",
       "      <td>True</td>\n",
       "      <td>True</td>\n",
       "      <td>True</td>\n",
       "      <td>False</td>\n",
       "      <td>50865898</td>\n",
       "      <td>8320</td>\n",
       "      <td>67930</td>\n",
       "      <td>376</td>\n",
       "      <td>11335</td>\n",
       "      <td>0</td>\n",
       "      <td>1</td>\n",
       "    </tr>\n",
       "    <tr>\n",
       "      <th>12130</th>\n",
       "      <td>True</td>\n",
       "      <td>True</td>\n",
       "      <td>True</td>\n",
       "      <td>False</td>\n",
       "      <td>4119086</td>\n",
       "      <td>93030</td>\n",
       "      <td>16676</td>\n",
       "      <td>95</td>\n",
       "      <td>62492</td>\n",
       "      <td>0</td>\n",
       "      <td>1</td>\n",
       "    </tr>\n",
       "  </tbody>\n",
       "</table>\n",
       "</div>"
      ],
      "text/plain": [
       "      verified geo_enabled  ... bot Cluster ID\n",
       "2539      True       False  ...   0          1\n",
       "6175      True        True  ...   0          1\n",
       "8093      True        True  ...   0          1\n",
       "8537      True        True  ...   0          1\n",
       "9403      True        True  ...   0          1\n",
       "12130     True        True  ...   0          1\n",
       "\n",
       "[6 rows x 11 columns]"
      ]
     },
     "execution_count": 31,
     "metadata": {
      "tags": []
     },
     "output_type": "execute_result"
    }
   ],
   "source": [
    "check[check['Cluster ID'] == 1]"
   ]
  },
  {
   "cell_type": "markdown",
   "metadata": {
    "id": "uYwgdSHBFOlF"
   },
   "source": [
    "### Evaluate on Testing Data"
   ]
  },
  {
   "cell_type": "code",
   "execution_count": null,
   "metadata": {
    "colab": {
     "base_uri": "https://localhost:8080/",
     "height": 424
    },
    "id": "fclvE8BjFMsD",
    "outputId": "c391940a-91c1-446e-c838-c5a0d0c203ac"
   },
   "outputs": [
    {
     "data": {
      "text/html": [
       "<div>\n",
       "<style scoped>\n",
       "    .dataframe tbody tr th:only-of-type {\n",
       "        vertical-align: middle;\n",
       "    }\n",
       "\n",
       "    .dataframe tbody tr th {\n",
       "        vertical-align: top;\n",
       "    }\n",
       "\n",
       "    .dataframe thead th {\n",
       "        text-align: right;\n",
       "    }\n",
       "</style>\n",
       "<table border=\"1\" class=\"dataframe\">\n",
       "  <thead>\n",
       "    <tr style=\"text-align: right;\">\n",
       "      <th></th>\n",
       "      <th>verified</th>\n",
       "      <th>geo_enabled</th>\n",
       "      <th>profile_use_background_image</th>\n",
       "      <th>default_profile</th>\n",
       "      <th>followers_count</th>\n",
       "      <th>friends_count</th>\n",
       "      <th>listed_count</th>\n",
       "      <th>favourites_count</th>\n",
       "      <th>statuses_count</th>\n",
       "      <th>bot</th>\n",
       "      <th>Cluster ID</th>\n",
       "    </tr>\n",
       "  </thead>\n",
       "  <tbody>\n",
       "    <tr>\n",
       "      <th>0</th>\n",
       "      <td>False</td>\n",
       "      <td>False</td>\n",
       "      <td>True</td>\n",
       "      <td>True</td>\n",
       "      <td>1</td>\n",
       "      <td>0</td>\n",
       "      <td>0</td>\n",
       "      <td>0</td>\n",
       "      <td>93</td>\n",
       "      <td>1</td>\n",
       "      <td>0</td>\n",
       "    </tr>\n",
       "    <tr>\n",
       "      <th>1</th>\n",
       "      <td>False</td>\n",
       "      <td>False</td>\n",
       "      <td>True</td>\n",
       "      <td>True</td>\n",
       "      <td>0</td>\n",
       "      <td>0</td>\n",
       "      <td>0</td>\n",
       "      <td>0</td>\n",
       "      <td>220</td>\n",
       "      <td>1</td>\n",
       "      <td>0</td>\n",
       "    </tr>\n",
       "    <tr>\n",
       "      <th>2</th>\n",
       "      <td>False</td>\n",
       "      <td>False</td>\n",
       "      <td>True</td>\n",
       "      <td>True</td>\n",
       "      <td>3</td>\n",
       "      <td>789</td>\n",
       "      <td>0</td>\n",
       "      <td>137</td>\n",
       "      <td>269</td>\n",
       "      <td>1</td>\n",
       "      <td>0</td>\n",
       "    </tr>\n",
       "    <tr>\n",
       "      <th>3</th>\n",
       "      <td>False</td>\n",
       "      <td>False</td>\n",
       "      <td>True</td>\n",
       "      <td>True</td>\n",
       "      <td>0</td>\n",
       "      <td>0</td>\n",
       "      <td>0</td>\n",
       "      <td>0</td>\n",
       "      <td>47</td>\n",
       "      <td>1</td>\n",
       "      <td>0</td>\n",
       "    </tr>\n",
       "    <tr>\n",
       "      <th>4</th>\n",
       "      <td>False</td>\n",
       "      <td>False</td>\n",
       "      <td>True</td>\n",
       "      <td>True</td>\n",
       "      <td>0</td>\n",
       "      <td>0</td>\n",
       "      <td>0</td>\n",
       "      <td>0</td>\n",
       "      <td>83</td>\n",
       "      <td>1</td>\n",
       "      <td>0</td>\n",
       "    </tr>\n",
       "    <tr>\n",
       "      <th>...</th>\n",
       "      <td>...</td>\n",
       "      <td>...</td>\n",
       "      <td>...</td>\n",
       "      <td>...</td>\n",
       "      <td>...</td>\n",
       "      <td>...</td>\n",
       "      <td>...</td>\n",
       "      <td>...</td>\n",
       "      <td>...</td>\n",
       "      <td>...</td>\n",
       "      <td>...</td>\n",
       "    </tr>\n",
       "    <tr>\n",
       "      <th>3232</th>\n",
       "      <td>False</td>\n",
       "      <td>True</td>\n",
       "      <td>True</td>\n",
       "      <td>False</td>\n",
       "      <td>13145</td>\n",
       "      <td>872</td>\n",
       "      <td>1019</td>\n",
       "      <td>8607</td>\n",
       "      <td>149818</td>\n",
       "      <td>0</td>\n",
       "      <td>0</td>\n",
       "    </tr>\n",
       "    <tr>\n",
       "      <th>3233</th>\n",
       "      <td>False</td>\n",
       "      <td>False</td>\n",
       "      <td>True</td>\n",
       "      <td>True</td>\n",
       "      <td>42</td>\n",
       "      <td>56</td>\n",
       "      <td>0</td>\n",
       "      <td>3280</td>\n",
       "      <td>1629</td>\n",
       "      <td>0</td>\n",
       "      <td>0</td>\n",
       "    </tr>\n",
       "    <tr>\n",
       "      <th>3234</th>\n",
       "      <td>False</td>\n",
       "      <td>True</td>\n",
       "      <td>False</td>\n",
       "      <td>False</td>\n",
       "      <td>687</td>\n",
       "      <td>605</td>\n",
       "      <td>30</td>\n",
       "      <td>3166</td>\n",
       "      <td>3776</td>\n",
       "      <td>0</td>\n",
       "      <td>0</td>\n",
       "    </tr>\n",
       "    <tr>\n",
       "      <th>3235</th>\n",
       "      <td>False</td>\n",
       "      <td>True</td>\n",
       "      <td>True</td>\n",
       "      <td>False</td>\n",
       "      <td>3114</td>\n",
       "      <td>4684</td>\n",
       "      <td>138</td>\n",
       "      <td>7809</td>\n",
       "      <td>8129</td>\n",
       "      <td>0</td>\n",
       "      <td>0</td>\n",
       "    </tr>\n",
       "    <tr>\n",
       "      <th>3236</th>\n",
       "      <td>False</td>\n",
       "      <td>True</td>\n",
       "      <td>True</td>\n",
       "      <td>True</td>\n",
       "      <td>49</td>\n",
       "      <td>164</td>\n",
       "      <td>2</td>\n",
       "      <td>5332</td>\n",
       "      <td>2907</td>\n",
       "      <td>0</td>\n",
       "      <td>0</td>\n",
       "    </tr>\n",
       "  </tbody>\n",
       "</table>\n",
       "<p>3237 rows × 11 columns</p>\n",
       "</div>"
      ],
      "text/plain": [
       "     verified geo_enabled  ... bot Cluster ID\n",
       "0       False       False  ...   1          0\n",
       "1       False       False  ...   1          0\n",
       "2       False       False  ...   1          0\n",
       "3       False       False  ...   1          0\n",
       "4       False       False  ...   1          0\n",
       "...       ...         ...  ...  ..        ...\n",
       "3232    False        True  ...   0          0\n",
       "3233    False       False  ...   0          0\n",
       "3234    False        True  ...   0          0\n",
       "3235    False        True  ...   0          0\n",
       "3236    False        True  ...   0          0\n",
       "\n",
       "[3237 rows x 11 columns]"
      ]
     },
     "execution_count": 32,
     "metadata": {
      "tags": []
     },
     "output_type": "execute_result"
    }
   ],
   "source": [
    "labels = gm.predict(x_test_b_scaled)\n",
    "labels = labels.reshape(-1, 1)\n",
    "cols = test_b.columns.tolist()\n",
    "cols.append('Cluster ID')\n",
    "check = pd.DataFrame(np.concatenate((test_b, labels), axis=1), columns=cols)\n",
    "check"
   ]
  },
  {
   "cell_type": "code",
   "execution_count": null,
   "metadata": {
    "colab": {
     "base_uri": "https://localhost:8080/"
    },
    "id": "o9ae605ZFWgW",
    "outputId": "27607eff-8851-4583-b18f-5c1839f1f0a5"
   },
   "outputs": [
    {
     "name": "stdout",
     "output_type": "stream",
     "text": [
      "-----------------------------------\n",
      "Testing Accuracy score: 0.5103490886623416\n",
      "Testing Precision score: 1.0\n",
      "Testing Recall score: 0.5103490886623416\n",
      "Testing F1 score: 0.6758028226631213\n",
      "-----------------------------------\n",
      "\n"
     ]
    }
   ],
   "source": [
    "labels = np.uint(gm.predict(x_test_b_scaled))\n",
    "# flip the labels since the random assignment got them backwards\n",
    "labels_flipped = np.logical_not(labels).astype(int)\n",
    "print_analysis(labels_flipped, y_test_b, 'Testing')"
   ]
  },
  {
   "cell_type": "markdown",
   "metadata": {
    "id": "y5DdftlEQEUz"
   },
   "source": [
    "Again appears to be struggling with a single outlier. Try removing"
   ]
  },
  {
   "cell_type": "code",
   "execution_count": null,
   "metadata": {
    "id": "IOEoHEd4Fawx"
   },
   "outputs": [],
   "source": [
    "train_b_new = train_b.drop(train_b.index[3798])\n",
    "x_train_b_new = train_b_new.to_numpy()[:,:-1].astype(int)\n",
    "x_train_b_new_scaled = scaler.fit_transform(x_train_b_new)\n",
    "y_train_b_new = train_b_new.to_numpy()[:,-1].astype(int)\n",
    "\n",
    "x_test_b_new_scaled = scaler.transform(x_test_b)"
   ]
  },
  {
   "cell_type": "code",
   "execution_count": null,
   "metadata": {
    "colab": {
     "base_uri": "https://localhost:8080/"
    },
    "id": "1Tl7Hj9KMoiE",
    "outputId": "089cf4c9-2acb-4450-9b9c-b7f4c4346aaa"
   },
   "outputs": [
    {
     "data": {
      "text/plain": [
       "array([[-0.16644822, -0.16312698,  0.05457096,  0.18143088, -0.01952676,\n",
       "        -0.10547728, -0.05637636, -0.21563272, -0.23475893],\n",
       "       [ 0.86421617,  0.84697198, -0.28333801, -0.94200767,  0.10138493,\n",
       "         0.54764881,  0.29271185,  1.11958717,  1.21889236]])"
      ]
     },
     "execution_count": 54,
     "metadata": {
      "tags": []
     },
     "output_type": "execute_result"
    }
   ],
   "source": [
    "gm = GaussianMixture(n_components=2, random_state=0).fit(x_train_b_new_scaled)\n",
    "gm.means_"
   ]
  },
  {
   "cell_type": "markdown",
   "metadata": {
    "id": "o7aIX2OEQvCW"
   },
   "source": [
    "### Evaluate on Training Data"
   ]
  },
  {
   "cell_type": "code",
   "execution_count": null,
   "metadata": {
    "colab": {
     "base_uri": "https://localhost:8080/",
     "height": 424
    },
    "id": "gejCZpAFQsRM",
    "outputId": "0ed04db8-bd20-4959-f803-ee611f01e355"
   },
   "outputs": [
    {
     "data": {
      "text/html": [
       "<div>\n",
       "<style scoped>\n",
       "    .dataframe tbody tr th:only-of-type {\n",
       "        vertical-align: middle;\n",
       "    }\n",
       "\n",
       "    .dataframe tbody tr th {\n",
       "        vertical-align: top;\n",
       "    }\n",
       "\n",
       "    .dataframe thead th {\n",
       "        text-align: right;\n",
       "    }\n",
       "</style>\n",
       "<table border=\"1\" class=\"dataframe\">\n",
       "  <thead>\n",
       "    <tr style=\"text-align: right;\">\n",
       "      <th></th>\n",
       "      <th>verified</th>\n",
       "      <th>geo_enabled</th>\n",
       "      <th>profile_use_background_image</th>\n",
       "      <th>default_profile</th>\n",
       "      <th>followers_count</th>\n",
       "      <th>friends_count</th>\n",
       "      <th>listed_count</th>\n",
       "      <th>favourites_count</th>\n",
       "      <th>statuses_count</th>\n",
       "      <th>bot</th>\n",
       "      <th>Cluster ID</th>\n",
       "    </tr>\n",
       "  </thead>\n",
       "  <tbody>\n",
       "    <tr>\n",
       "      <th>0</th>\n",
       "      <td>False</td>\n",
       "      <td>False</td>\n",
       "      <td>True</td>\n",
       "      <td>True</td>\n",
       "      <td>0</td>\n",
       "      <td>39</td>\n",
       "      <td>0</td>\n",
       "      <td>35</td>\n",
       "      <td>45</td>\n",
       "      <td>1</td>\n",
       "      <td>0</td>\n",
       "    </tr>\n",
       "    <tr>\n",
       "      <th>1</th>\n",
       "      <td>False</td>\n",
       "      <td>True</td>\n",
       "      <td>False</td>\n",
       "      <td>False</td>\n",
       "      <td>231</td>\n",
       "      <td>274</td>\n",
       "      <td>0</td>\n",
       "      <td>15243</td>\n",
       "      <td>13250</td>\n",
       "      <td>0</td>\n",
       "      <td>0</td>\n",
       "    </tr>\n",
       "    <tr>\n",
       "      <th>2</th>\n",
       "      <td>False</td>\n",
       "      <td>False</td>\n",
       "      <td>True</td>\n",
       "      <td>True</td>\n",
       "      <td>2</td>\n",
       "      <td>0</td>\n",
       "      <td>0</td>\n",
       "      <td>0</td>\n",
       "      <td>148</td>\n",
       "      <td>1</td>\n",
       "      <td>0</td>\n",
       "    </tr>\n",
       "    <tr>\n",
       "      <th>3</th>\n",
       "      <td>False</td>\n",
       "      <td>True</td>\n",
       "      <td>True</td>\n",
       "      <td>False</td>\n",
       "      <td>371</td>\n",
       "      <td>347</td>\n",
       "      <td>10</td>\n",
       "      <td>36</td>\n",
       "      <td>7267</td>\n",
       "      <td>0</td>\n",
       "      <td>0</td>\n",
       "    </tr>\n",
       "    <tr>\n",
       "      <th>4</th>\n",
       "      <td>False</td>\n",
       "      <td>True</td>\n",
       "      <td>True</td>\n",
       "      <td>True</td>\n",
       "      <td>43</td>\n",
       "      <td>51</td>\n",
       "      <td>0</td>\n",
       "      <td>4</td>\n",
       "      <td>166</td>\n",
       "      <td>0</td>\n",
       "      <td>0</td>\n",
       "    </tr>\n",
       "    <tr>\n",
       "      <th>...</th>\n",
       "      <td>...</td>\n",
       "      <td>...</td>\n",
       "      <td>...</td>\n",
       "      <td>...</td>\n",
       "      <td>...</td>\n",
       "      <td>...</td>\n",
       "      <td>...</td>\n",
       "      <td>...</td>\n",
       "      <td>...</td>\n",
       "      <td>...</td>\n",
       "      <td>...</td>\n",
       "    </tr>\n",
       "    <tr>\n",
       "      <th>12941</th>\n",
       "      <td>False</td>\n",
       "      <td>False</td>\n",
       "      <td>True</td>\n",
       "      <td>True</td>\n",
       "      <td>0</td>\n",
       "      <td>0</td>\n",
       "      <td>0</td>\n",
       "      <td>0</td>\n",
       "      <td>1</td>\n",
       "      <td>1</td>\n",
       "      <td>0</td>\n",
       "    </tr>\n",
       "    <tr>\n",
       "      <th>12942</th>\n",
       "      <td>False</td>\n",
       "      <td>False</td>\n",
       "      <td>True</td>\n",
       "      <td>True</td>\n",
       "      <td>50</td>\n",
       "      <td>52</td>\n",
       "      <td>7</td>\n",
       "      <td>70</td>\n",
       "      <td>128</td>\n",
       "      <td>0</td>\n",
       "      <td>0</td>\n",
       "    </tr>\n",
       "    <tr>\n",
       "      <th>12943</th>\n",
       "      <td>False</td>\n",
       "      <td>True</td>\n",
       "      <td>True</td>\n",
       "      <td>False</td>\n",
       "      <td>40</td>\n",
       "      <td>222</td>\n",
       "      <td>1</td>\n",
       "      <td>335</td>\n",
       "      <td>685</td>\n",
       "      <td>0</td>\n",
       "      <td>0</td>\n",
       "    </tr>\n",
       "    <tr>\n",
       "      <th>12944</th>\n",
       "      <td>False</td>\n",
       "      <td>False</td>\n",
       "      <td>True</td>\n",
       "      <td>True</td>\n",
       "      <td>0</td>\n",
       "      <td>0</td>\n",
       "      <td>0</td>\n",
       "      <td>0</td>\n",
       "      <td>18</td>\n",
       "      <td>1</td>\n",
       "      <td>0</td>\n",
       "    </tr>\n",
       "    <tr>\n",
       "      <th>12945</th>\n",
       "      <td>False</td>\n",
       "      <td>False</td>\n",
       "      <td>True</td>\n",
       "      <td>True</td>\n",
       "      <td>597</td>\n",
       "      <td>2123</td>\n",
       "      <td>14</td>\n",
       "      <td>1787</td>\n",
       "      <td>509</td>\n",
       "      <td>0</td>\n",
       "      <td>0</td>\n",
       "    </tr>\n",
       "  </tbody>\n",
       "</table>\n",
       "<p>12946 rows × 11 columns</p>\n",
       "</div>"
      ],
      "text/plain": [
       "      verified geo_enabled  ... bot Cluster ID\n",
       "0        False       False  ...   1          0\n",
       "1        False        True  ...   0          0\n",
       "2        False       False  ...   1          0\n",
       "3        False        True  ...   0          0\n",
       "4        False        True  ...   0          0\n",
       "...        ...         ...  ...  ..        ...\n",
       "12941    False       False  ...   1          0\n",
       "12942    False       False  ...   0          0\n",
       "12943    False        True  ...   0          0\n",
       "12944    False       False  ...   1          0\n",
       "12945    False       False  ...   0          0\n",
       "\n",
       "[12946 rows x 11 columns]"
      ]
     },
     "execution_count": 50,
     "metadata": {
      "tags": []
     },
     "output_type": "execute_result"
    }
   ],
   "source": [
    "labels = gm.predict(x_train_b_new_scaled)\n",
    "labels = labels.reshape(-1, 1)\n",
    "cols = train_b_new.columns.tolist()\n",
    "cols.append('Cluster ID')\n",
    "check = pd.DataFrame(np.concatenate((train_b_new, labels), axis=1), columns=cols)\n",
    "check"
   ]
  },
  {
   "cell_type": "code",
   "execution_count": null,
   "metadata": {
    "colab": {
     "base_uri": "https://localhost:8080/"
    },
    "id": "bzmp3sozQ1JQ",
    "outputId": "86a65350-6481-4088-c624-bbfc65f6168d"
   },
   "outputs": [
    {
     "name": "stdout",
     "output_type": "stream",
     "text": [
      "-----------------------------------\n",
      "Training Accuracy score: 0.6599721921829136\n",
      "Training Precision score: 0.9990713511840272\n",
      "Training Recall score: 0.5948760482904801\n",
      "Training F1 score: 0.7457255083179298\n",
      "-----------------------------------\n",
      "\n"
     ]
    }
   ],
   "source": [
    "labels = np.uint(gm.predict(x_train_b_new_scaled))\n",
    "# flip the labels since the random assignment got them backwards\n",
    "labels_flipped = np.logical_not(labels).astype(int)\n",
    "print_analysis(labels_flipped, y_train_b_new, 'Training')"
   ]
  },
  {
   "cell_type": "markdown",
   "metadata": {
    "id": "bcHjtlR-Q_P2"
   },
   "source": [
    "### Evaluate on Testing Data"
   ]
  },
  {
   "cell_type": "code",
   "execution_count": null,
   "metadata": {
    "colab": {
     "base_uri": "https://localhost:8080/",
     "height": 424
    },
    "id": "efSLbcYdQ3iU",
    "outputId": "2ec5214f-b359-45f4-9965-9e295977baab"
   },
   "outputs": [
    {
     "data": {
      "text/html": [
       "<div>\n",
       "<style scoped>\n",
       "    .dataframe tbody tr th:only-of-type {\n",
       "        vertical-align: middle;\n",
       "    }\n",
       "\n",
       "    .dataframe tbody tr th {\n",
       "        vertical-align: top;\n",
       "    }\n",
       "\n",
       "    .dataframe thead th {\n",
       "        text-align: right;\n",
       "    }\n",
       "</style>\n",
       "<table border=\"1\" class=\"dataframe\">\n",
       "  <thead>\n",
       "    <tr style=\"text-align: right;\">\n",
       "      <th></th>\n",
       "      <th>verified</th>\n",
       "      <th>geo_enabled</th>\n",
       "      <th>profile_use_background_image</th>\n",
       "      <th>default_profile</th>\n",
       "      <th>followers_count</th>\n",
       "      <th>friends_count</th>\n",
       "      <th>listed_count</th>\n",
       "      <th>favourites_count</th>\n",
       "      <th>statuses_count</th>\n",
       "      <th>bot</th>\n",
       "      <th>Cluster ID</th>\n",
       "    </tr>\n",
       "  </thead>\n",
       "  <tbody>\n",
       "    <tr>\n",
       "      <th>0</th>\n",
       "      <td>False</td>\n",
       "      <td>True</td>\n",
       "      <td>True</td>\n",
       "      <td>False</td>\n",
       "      <td>2722</td>\n",
       "      <td>2693</td>\n",
       "      <td>135</td>\n",
       "      <td>101</td>\n",
       "      <td>7599</td>\n",
       "      <td>0</td>\n",
       "      <td>1</td>\n",
       "    </tr>\n",
       "    <tr>\n",
       "      <th>1</th>\n",
       "      <td>False</td>\n",
       "      <td>False</td>\n",
       "      <td>False</td>\n",
       "      <td>False</td>\n",
       "      <td>33</td>\n",
       "      <td>109</td>\n",
       "      <td>1</td>\n",
       "      <td>126</td>\n",
       "      <td>175</td>\n",
       "      <td>0</td>\n",
       "      <td>0</td>\n",
       "    </tr>\n",
       "    <tr>\n",
       "      <th>2</th>\n",
       "      <td>False</td>\n",
       "      <td>False</td>\n",
       "      <td>True</td>\n",
       "      <td>True</td>\n",
       "      <td>3972</td>\n",
       "      <td>3816</td>\n",
       "      <td>66</td>\n",
       "      <td>26765</td>\n",
       "      <td>11974</td>\n",
       "      <td>0</td>\n",
       "      <td>1</td>\n",
       "    </tr>\n",
       "    <tr>\n",
       "      <th>3</th>\n",
       "      <td>False</td>\n",
       "      <td>False</td>\n",
       "      <td>True</td>\n",
       "      <td>True</td>\n",
       "      <td>0</td>\n",
       "      <td>177</td>\n",
       "      <td>0</td>\n",
       "      <td>0</td>\n",
       "      <td>82</td>\n",
       "      <td>1</td>\n",
       "      <td>0</td>\n",
       "    </tr>\n",
       "    <tr>\n",
       "      <th>4</th>\n",
       "      <td>False</td>\n",
       "      <td>False</td>\n",
       "      <td>True</td>\n",
       "      <td>True</td>\n",
       "      <td>0</td>\n",
       "      <td>0</td>\n",
       "      <td>2</td>\n",
       "      <td>0</td>\n",
       "      <td>17</td>\n",
       "      <td>1</td>\n",
       "      <td>0</td>\n",
       "    </tr>\n",
       "    <tr>\n",
       "      <th>...</th>\n",
       "      <td>...</td>\n",
       "      <td>...</td>\n",
       "      <td>...</td>\n",
       "      <td>...</td>\n",
       "      <td>...</td>\n",
       "      <td>...</td>\n",
       "      <td>...</td>\n",
       "      <td>...</td>\n",
       "      <td>...</td>\n",
       "      <td>...</td>\n",
       "      <td>...</td>\n",
       "    </tr>\n",
       "    <tr>\n",
       "      <th>3232</th>\n",
       "      <td>False</td>\n",
       "      <td>True</td>\n",
       "      <td>True</td>\n",
       "      <td>False</td>\n",
       "      <td>358</td>\n",
       "      <td>264</td>\n",
       "      <td>3</td>\n",
       "      <td>6452</td>\n",
       "      <td>6357</td>\n",
       "      <td>0</td>\n",
       "      <td>0</td>\n",
       "    </tr>\n",
       "    <tr>\n",
       "      <th>3233</th>\n",
       "      <td>False</td>\n",
       "      <td>False</td>\n",
       "      <td>True</td>\n",
       "      <td>False</td>\n",
       "      <td>2069</td>\n",
       "      <td>1883</td>\n",
       "      <td>58</td>\n",
       "      <td>7827</td>\n",
       "      <td>10921</td>\n",
       "      <td>0</td>\n",
       "      <td>1</td>\n",
       "    </tr>\n",
       "    <tr>\n",
       "      <th>3234</th>\n",
       "      <td>False</td>\n",
       "      <td>True</td>\n",
       "      <td>False</td>\n",
       "      <td>False</td>\n",
       "      <td>185</td>\n",
       "      <td>191</td>\n",
       "      <td>3</td>\n",
       "      <td>8986</td>\n",
       "      <td>22954</td>\n",
       "      <td>0</td>\n",
       "      <td>0</td>\n",
       "    </tr>\n",
       "    <tr>\n",
       "      <th>3235</th>\n",
       "      <td>False</td>\n",
       "      <td>False</td>\n",
       "      <td>True</td>\n",
       "      <td>True</td>\n",
       "      <td>158</td>\n",
       "      <td>154</td>\n",
       "      <td>0</td>\n",
       "      <td>75</td>\n",
       "      <td>85</td>\n",
       "      <td>1</td>\n",
       "      <td>0</td>\n",
       "    </tr>\n",
       "    <tr>\n",
       "      <th>3236</th>\n",
       "      <td>False</td>\n",
       "      <td>True</td>\n",
       "      <td>True</td>\n",
       "      <td>True</td>\n",
       "      <td>13</td>\n",
       "      <td>0</td>\n",
       "      <td>0</td>\n",
       "      <td>445</td>\n",
       "      <td>466</td>\n",
       "      <td>1</td>\n",
       "      <td>0</td>\n",
       "    </tr>\n",
       "  </tbody>\n",
       "</table>\n",
       "<p>3237 rows × 11 columns</p>\n",
       "</div>"
      ],
      "text/plain": [
       "     verified geo_enabled  ... bot Cluster ID\n",
       "0       False        True  ...   0          1\n",
       "1       False       False  ...   0          0\n",
       "2       False       False  ...   0          1\n",
       "3       False       False  ...   1          0\n",
       "4       False       False  ...   1          0\n",
       "...       ...         ...  ...  ..        ...\n",
       "3232    False        True  ...   0          0\n",
       "3233    False       False  ...   0          1\n",
       "3234    False        True  ...   0          0\n",
       "3235    False       False  ...   1          0\n",
       "3236    False        True  ...   1          0\n",
       "\n",
       "[3237 rows x 11 columns]"
      ]
     },
     "execution_count": 56,
     "metadata": {
      "tags": []
     },
     "output_type": "execute_result"
    }
   ],
   "source": [
    "labels = gm.predict(x_test_b_new_scaled)\n",
    "labels = labels.reshape(-1, 1)\n",
    "cols = test_b.columns.tolist()\n",
    "cols.append('Cluster ID')\n",
    "check = pd.DataFrame(np.concatenate((test_b, labels), axis=1), columns=cols)\n",
    "check"
   ]
  },
  {
   "cell_type": "code",
   "execution_count": null,
   "metadata": {
    "colab": {
     "base_uri": "https://localhost:8080/"
    },
    "id": "hBdYwwfARHyc",
    "outputId": "883e440d-13da-42fd-8388-f68bc6bee8ca"
   },
   "outputs": [
    {
     "name": "stdout",
     "output_type": "stream",
     "text": [
      "-----------------------------------\n",
      "Testing Accuracy score: 0.6570898980537535\n",
      "Testing Precision score: 0.9993868792152054\n",
      "Testing Recall score: 0.5951077035414385\n",
      "Testing F1 score: 0.7459954233409611\n",
      "-----------------------------------\n",
      "\n"
     ]
    }
   ],
   "source": [
    "labels = np.uint(gm.predict(x_test_b_new_scaled))\n",
    "# flip the labels since the random assignment got them backwards\n",
    "labels_flipped = np.logical_not(labels).astype(int)\n",
    "print_analysis(labels_flipped, y_test_b, 'Testing')"
   ]
  },
  {
   "cell_type": "code",
   "execution_count": null,
   "metadata": {
    "id": "F-ilDZu1RMxO"
   },
   "outputs": [],
   "source": []
  }
 ],
 "metadata": {
  "colab": {
   "collapsed_sections": [],
   "name": "cluster.ipynb",
   "provenance": [],
   "toc_visible": true
  },
  "kernelspec": {
   "display_name": "Python 3",
   "language": "python",
   "name": "python3"
  },
  "language_info": {
   "codemirror_mode": {
    "name": "ipython",
    "version": 3
   },
   "file_extension": ".py",
   "mimetype": "text/x-python",
   "name": "python",
   "nbconvert_exporter": "python",
   "pygments_lexer": "ipython3",
   "version": "3.8.5"
  }
 },
 "nbformat": 4,
 "nbformat_minor": 1
}
