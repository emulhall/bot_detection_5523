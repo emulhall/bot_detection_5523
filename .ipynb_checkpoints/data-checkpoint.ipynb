{
 "cells": [
  {
   "cell_type": "markdown",
   "metadata": {
    "id": "6AVO5EuMDqOR"
   },
   "source": [
    "This notebook simply builds our balanced and unbalanced training and testing datasets from our user information and user labels.  It performs high-level data exploration."
   ]
  },
  {
   "cell_type": "code",
   "execution_count": 1,
   "metadata": {
    "id": "E-l2Vk-xe5du"
   },
   "outputs": [],
   "source": [
    "import pandas as pd\n",
    "from sklearn.model_selection import train_test_split\n",
    "import math"
   ]
  },
  {
   "cell_type": "markdown",
   "metadata": {
    "id": "46B_MyiE3mFC"
   },
   "source": [
    "Import datasets"
   ]
  },
  {
   "cell_type": "code",
   "execution_count": 2,
   "metadata": {
    "colab": {
     "base_uri": "https://localhost:8080/",
     "height": 195
    },
    "id": "V3Mq9jbB-Kg0",
    "outputId": "fe03c912-d0d8-4f20-c349-ed2009dfc2ff"
   },
   "outputs": [
    {
     "data": {
      "text/html": [
       "<div>\n",
       "<style scoped>\n",
       "    .dataframe tbody tr th:only-of-type {\n",
       "        vertical-align: middle;\n",
       "    }\n",
       "\n",
       "    .dataframe tbody tr th {\n",
       "        vertical-align: top;\n",
       "    }\n",
       "\n",
       "    .dataframe thead th {\n",
       "        text-align: right;\n",
       "    }\n",
       "</style>\n",
       "<table border=\"1\" class=\"dataframe\">\n",
       "  <thead>\n",
       "    <tr style=\"text-align: right;\">\n",
       "      <th></th>\n",
       "      <th>user_id</th>\n",
       "      <th>bot</th>\n",
       "    </tr>\n",
       "  </thead>\n",
       "  <tbody>\n",
       "    <tr>\n",
       "      <th>0</th>\n",
       "      <td>2521267226</td>\n",
       "      <td>bot</td>\n",
       "    </tr>\n",
       "    <tr>\n",
       "      <th>1</th>\n",
       "      <td>2521271036</td>\n",
       "      <td>bot</td>\n",
       "    </tr>\n",
       "    <tr>\n",
       "      <th>2</th>\n",
       "      <td>2521301466</td>\n",
       "      <td>bot</td>\n",
       "    </tr>\n",
       "    <tr>\n",
       "      <th>3</th>\n",
       "      <td>2521307095</td>\n",
       "      <td>bot</td>\n",
       "    </tr>\n",
       "    <tr>\n",
       "      <th>4</th>\n",
       "      <td>2521308265</td>\n",
       "      <td>bot</td>\n",
       "    </tr>\n",
       "  </tbody>\n",
       "</table>\n",
       "</div>"
      ],
      "text/plain": [
       "      user_id  bot\n",
       "0  2521267226  bot\n",
       "1  2521271036  bot\n",
       "2  2521301466  bot\n",
       "3  2521307095  bot\n",
       "4  2521308265  bot"
      ]
     },
     "execution_count": 2,
     "metadata": {},
     "output_type": "execute_result"
    }
   ],
   "source": [
    "df_labels=pd.read_csv('./data/midterm-2018.tsv', sep='\\t')\n",
    "df_labels=df_labels.rename(columns={'2521260264':'user_id'})\n",
    "df_labels.head()"
   ]
  },
  {
   "cell_type": "code",
   "execution_count": 3,
   "metadata": {
    "colab": {
     "base_uri": "https://localhost:8080/",
     "height": 450
    },
    "id": "-BMNYgcV-MWB",
    "outputId": "93038cde-6aaf-407e-ef43-558ee2523755"
   },
   "outputs": [
    {
     "data": {
      "text/html": [
       "<div>\n",
       "<style scoped>\n",
       "    .dataframe tbody tr th:only-of-type {\n",
       "        vertical-align: middle;\n",
       "    }\n",
       "\n",
       "    .dataframe tbody tr th {\n",
       "        vertical-align: top;\n",
       "    }\n",
       "\n",
       "    .dataframe thead th {\n",
       "        text-align: right;\n",
       "    }\n",
       "</style>\n",
       "<table border=\"1\" class=\"dataframe\">\n",
       "  <thead>\n",
       "    <tr style=\"text-align: right;\">\n",
       "      <th></th>\n",
       "      <th>probe_timestamp</th>\n",
       "      <th>user_id</th>\n",
       "      <th>screen_name</th>\n",
       "      <th>name</th>\n",
       "      <th>description</th>\n",
       "      <th>user_created_at</th>\n",
       "      <th>url</th>\n",
       "      <th>lang</th>\n",
       "      <th>protected</th>\n",
       "      <th>verified</th>\n",
       "      <th>geo_enabled</th>\n",
       "      <th>profile_use_background_image</th>\n",
       "      <th>default_profile</th>\n",
       "      <th>followers_count</th>\n",
       "      <th>friends_count</th>\n",
       "      <th>listed_count</th>\n",
       "      <th>favourites_count</th>\n",
       "      <th>statuses_count</th>\n",
       "      <th>tid</th>\n",
       "    </tr>\n",
       "  </thead>\n",
       "  <tbody>\n",
       "    <tr>\n",
       "      <th>0</th>\n",
       "      <td>Tue Nov 06 20:35:08 2018</td>\n",
       "      <td>4107317134</td>\n",
       "      <td>danitheduck21</td>\n",
       "      <td>Dani🏳️‍🌈</td>\n",
       "      <td>Dani 💜 She/Her 💜 Randomness all over. Expect l...</td>\n",
       "      <td>2015-11-03 21:16:13</td>\n",
       "      <td>None</td>\n",
       "      <td>en</td>\n",
       "      <td>0.0</td>\n",
       "      <td>False</td>\n",
       "      <td>False</td>\n",
       "      <td>False</td>\n",
       "      <td>False</td>\n",
       "      <td>481</td>\n",
       "      <td>870</td>\n",
       "      <td>26</td>\n",
       "      <td>6542</td>\n",
       "      <td>67025</td>\n",
       "      <td>1059907055421509632</td>\n",
       "    </tr>\n",
       "    <tr>\n",
       "      <th>1</th>\n",
       "      <td>Tue Nov 06 17:57:51 2018</td>\n",
       "      <td>4858296837</td>\n",
       "      <td>ncaraballoPR</td>\n",
       "      <td>Natalie Caraballo</td>\n",
       "      <td>Things I don’t get tired of: Politics, Amy Win...</td>\n",
       "      <td>2016-01-28 20:03:51</td>\n",
       "      <td>None</td>\n",
       "      <td>en</td>\n",
       "      <td>0.0</td>\n",
       "      <td>False</td>\n",
       "      <td>False</td>\n",
       "      <td>False</td>\n",
       "      <td>False</td>\n",
       "      <td>202</td>\n",
       "      <td>712</td>\n",
       "      <td>5</td>\n",
       "      <td>1515</td>\n",
       "      <td>158</td>\n",
       "      <td>1059867472810180609</td>\n",
       "    </tr>\n",
       "    <tr>\n",
       "      <th>2</th>\n",
       "      <td>Tue Nov 06 20:35:23 2018</td>\n",
       "      <td>232631847</td>\n",
       "      <td>drmendezmd</td>\n",
       "      <td>Wilson</td>\n",
       "      <td>Latin american100%! Let fight for our country,...</td>\n",
       "      <td>2010-12-31 18:55:05</td>\n",
       "      <td>None</td>\n",
       "      <td>en</td>\n",
       "      <td>0.0</td>\n",
       "      <td>False</td>\n",
       "      <td>True</td>\n",
       "      <td>True</td>\n",
       "      <td>True</td>\n",
       "      <td>278</td>\n",
       "      <td>342</td>\n",
       "      <td>4</td>\n",
       "      <td>4780</td>\n",
       "      <td>4029</td>\n",
       "      <td>1059907117094711296</td>\n",
       "    </tr>\n",
       "    <tr>\n",
       "      <th>3</th>\n",
       "      <td>Tue Nov 06 19:23:19 2018</td>\n",
       "      <td>16700555</td>\n",
       "      <td>ScottNevins</td>\n",
       "      <td>Scott Nevins</td>\n",
       "      <td>TV Personality &amp; Host | Political/News Contrib...</td>\n",
       "      <td>2008-10-11 21:39:34</td>\n",
       "      <td>http://www.ScottNevins.com</td>\n",
       "      <td>en</td>\n",
       "      <td>0.0</td>\n",
       "      <td>True</td>\n",
       "      <td>False</td>\n",
       "      <td>True</td>\n",
       "      <td>False</td>\n",
       "      <td>29546</td>\n",
       "      <td>384</td>\n",
       "      <td>402</td>\n",
       "      <td>143163</td>\n",
       "      <td>53427</td>\n",
       "      <td>1059888980957650944</td>\n",
       "    </tr>\n",
       "    <tr>\n",
       "      <th>4</th>\n",
       "      <td>Tue Nov 06 20:35:24 2018</td>\n",
       "      <td>334443152</td>\n",
       "      <td>lild1206</td>\n",
       "      <td>D</td>\n",
       "      <td>None</td>\n",
       "      <td>2011-07-13 03:13:52</td>\n",
       "      <td>None</td>\n",
       "      <td>en</td>\n",
       "      <td>0.0</td>\n",
       "      <td>False</td>\n",
       "      <td>True</td>\n",
       "      <td>True</td>\n",
       "      <td>True</td>\n",
       "      <td>95</td>\n",
       "      <td>668</td>\n",
       "      <td>1</td>\n",
       "      <td>1178</td>\n",
       "      <td>1315</td>\n",
       "      <td>1059907122408898562</td>\n",
       "    </tr>\n",
       "  </tbody>\n",
       "</table>\n",
       "</div>"
      ],
      "text/plain": [
       "            probe_timestamp     user_id    screen_name               name  \\\n",
       "0  Tue Nov 06 20:35:08 2018  4107317134  danitheduck21           Dani🏳️‍🌈   \n",
       "1  Tue Nov 06 17:57:51 2018  4858296837   ncaraballoPR  Natalie Caraballo   \n",
       "2  Tue Nov 06 20:35:23 2018   232631847     drmendezmd             Wilson   \n",
       "3  Tue Nov 06 19:23:19 2018    16700555    ScottNevins       Scott Nevins   \n",
       "4  Tue Nov 06 20:35:24 2018   334443152       lild1206                  D   \n",
       "\n",
       "                                         description     user_created_at  \\\n",
       "0  Dani 💜 She/Her 💜 Randomness all over. Expect l... 2015-11-03 21:16:13   \n",
       "1  Things I don’t get tired of: Politics, Amy Win... 2016-01-28 20:03:51   \n",
       "2  Latin american100%! Let fight for our country,... 2010-12-31 18:55:05   \n",
       "3  TV Personality & Host | Political/News Contrib... 2008-10-11 21:39:34   \n",
       "4                                               None 2011-07-13 03:13:52   \n",
       "\n",
       "                          url lang  protected  verified  geo_enabled  \\\n",
       "0                        None   en        0.0     False        False   \n",
       "1                        None   en        0.0     False        False   \n",
       "2                        None   en        0.0     False         True   \n",
       "3  http://www.ScottNevins.com   en        0.0      True        False   \n",
       "4                        None   en        0.0     False         True   \n",
       "\n",
       "   profile_use_background_image  default_profile  followers_count  \\\n",
       "0                         False            False              481   \n",
       "1                         False            False              202   \n",
       "2                          True             True              278   \n",
       "3                          True            False            29546   \n",
       "4                          True             True               95   \n",
       "\n",
       "   friends_count  listed_count  favourites_count  statuses_count  \\\n",
       "0            870            26              6542           67025   \n",
       "1            712             5              1515             158   \n",
       "2            342             4              4780            4029   \n",
       "3            384           402            143163           53427   \n",
       "4            668             1              1178            1315   \n",
       "\n",
       "                   tid  \n",
       "0  1059907055421509632  \n",
       "1  1059867472810180609  \n",
       "2  1059907117094711296  \n",
       "3  1059888980957650944  \n",
       "4  1059907122408898562  "
      ]
     },
     "execution_count": 3,
     "metadata": {},
     "output_type": "execute_result"
    }
   ],
   "source": [
    "df_users=pd.read_json('./data/midterm-2018_processed_user_objects.json')\n",
    "df_users.head()"
   ]
  },
  {
   "cell_type": "markdown",
   "metadata": {
    "id": "Z-xB9jDC-TbQ"
   },
   "source": [
    "Merge our user objects and labels."
   ]
  },
  {
   "cell_type": "code",
   "execution_count": 4,
   "metadata": {
    "colab": {
     "base_uri": "https://localhost:8080/",
     "height": 450
    },
    "id": "Viq3g-0x-OHz",
    "outputId": "8f1807c9-cdd8-4508-a467-e699dcd6a392"
   },
   "outputs": [
    {
     "data": {
      "text/html": [
       "<div>\n",
       "<style scoped>\n",
       "    .dataframe tbody tr th:only-of-type {\n",
       "        vertical-align: middle;\n",
       "    }\n",
       "\n",
       "    .dataframe tbody tr th {\n",
       "        vertical-align: top;\n",
       "    }\n",
       "\n",
       "    .dataframe thead th {\n",
       "        text-align: right;\n",
       "    }\n",
       "</style>\n",
       "<table border=\"1\" class=\"dataframe\">\n",
       "  <thead>\n",
       "    <tr style=\"text-align: right;\">\n",
       "      <th></th>\n",
       "      <th>probe_timestamp</th>\n",
       "      <th>user_id</th>\n",
       "      <th>screen_name</th>\n",
       "      <th>name</th>\n",
       "      <th>description</th>\n",
       "      <th>user_created_at</th>\n",
       "      <th>url</th>\n",
       "      <th>lang</th>\n",
       "      <th>protected</th>\n",
       "      <th>verified</th>\n",
       "      <th>geo_enabled</th>\n",
       "      <th>profile_use_background_image</th>\n",
       "      <th>default_profile</th>\n",
       "      <th>followers_count</th>\n",
       "      <th>friends_count</th>\n",
       "      <th>listed_count</th>\n",
       "      <th>favourites_count</th>\n",
       "      <th>statuses_count</th>\n",
       "      <th>tid</th>\n",
       "      <th>bot</th>\n",
       "    </tr>\n",
       "  </thead>\n",
       "  <tbody>\n",
       "    <tr>\n",
       "      <th>0</th>\n",
       "      <td>Tue Nov 06 20:35:08 2018</td>\n",
       "      <td>4107317134</td>\n",
       "      <td>danitheduck21</td>\n",
       "      <td>Dani🏳️‍🌈</td>\n",
       "      <td>Dani 💜 She/Her 💜 Randomness all over. Expect l...</td>\n",
       "      <td>2015-11-03 21:16:13</td>\n",
       "      <td>None</td>\n",
       "      <td>en</td>\n",
       "      <td>0.0</td>\n",
       "      <td>False</td>\n",
       "      <td>False</td>\n",
       "      <td>False</td>\n",
       "      <td>False</td>\n",
       "      <td>481</td>\n",
       "      <td>870</td>\n",
       "      <td>26</td>\n",
       "      <td>6542</td>\n",
       "      <td>67025</td>\n",
       "      <td>1059907055421509632</td>\n",
       "      <td>human</td>\n",
       "    </tr>\n",
       "    <tr>\n",
       "      <th>1</th>\n",
       "      <td>Tue Nov 06 17:57:51 2018</td>\n",
       "      <td>4858296837</td>\n",
       "      <td>ncaraballoPR</td>\n",
       "      <td>Natalie Caraballo</td>\n",
       "      <td>Things I don’t get tired of: Politics, Amy Win...</td>\n",
       "      <td>2016-01-28 20:03:51</td>\n",
       "      <td>None</td>\n",
       "      <td>en</td>\n",
       "      <td>0.0</td>\n",
       "      <td>False</td>\n",
       "      <td>False</td>\n",
       "      <td>False</td>\n",
       "      <td>False</td>\n",
       "      <td>202</td>\n",
       "      <td>712</td>\n",
       "      <td>5</td>\n",
       "      <td>1515</td>\n",
       "      <td>158</td>\n",
       "      <td>1059867472810180609</td>\n",
       "      <td>human</td>\n",
       "    </tr>\n",
       "    <tr>\n",
       "      <th>2</th>\n",
       "      <td>Tue Nov 06 20:35:23 2018</td>\n",
       "      <td>232631847</td>\n",
       "      <td>drmendezmd</td>\n",
       "      <td>Wilson</td>\n",
       "      <td>Latin american100%! Let fight for our country,...</td>\n",
       "      <td>2010-12-31 18:55:05</td>\n",
       "      <td>None</td>\n",
       "      <td>en</td>\n",
       "      <td>0.0</td>\n",
       "      <td>False</td>\n",
       "      <td>True</td>\n",
       "      <td>True</td>\n",
       "      <td>True</td>\n",
       "      <td>278</td>\n",
       "      <td>342</td>\n",
       "      <td>4</td>\n",
       "      <td>4780</td>\n",
       "      <td>4029</td>\n",
       "      <td>1059907117094711296</td>\n",
       "      <td>human</td>\n",
       "    </tr>\n",
       "    <tr>\n",
       "      <th>3</th>\n",
       "      <td>Tue Nov 06 19:23:19 2018</td>\n",
       "      <td>16700555</td>\n",
       "      <td>ScottNevins</td>\n",
       "      <td>Scott Nevins</td>\n",
       "      <td>TV Personality &amp; Host | Political/News Contrib...</td>\n",
       "      <td>2008-10-11 21:39:34</td>\n",
       "      <td>http://www.ScottNevins.com</td>\n",
       "      <td>en</td>\n",
       "      <td>0.0</td>\n",
       "      <td>True</td>\n",
       "      <td>False</td>\n",
       "      <td>True</td>\n",
       "      <td>False</td>\n",
       "      <td>29546</td>\n",
       "      <td>384</td>\n",
       "      <td>402</td>\n",
       "      <td>143163</td>\n",
       "      <td>53427</td>\n",
       "      <td>1059888980957650944</td>\n",
       "      <td>human</td>\n",
       "    </tr>\n",
       "    <tr>\n",
       "      <th>4</th>\n",
       "      <td>Tue Nov 06 20:35:24 2018</td>\n",
       "      <td>334443152</td>\n",
       "      <td>lild1206</td>\n",
       "      <td>D</td>\n",
       "      <td>None</td>\n",
       "      <td>2011-07-13 03:13:52</td>\n",
       "      <td>None</td>\n",
       "      <td>en</td>\n",
       "      <td>0.0</td>\n",
       "      <td>False</td>\n",
       "      <td>True</td>\n",
       "      <td>True</td>\n",
       "      <td>True</td>\n",
       "      <td>95</td>\n",
       "      <td>668</td>\n",
       "      <td>1</td>\n",
       "      <td>1178</td>\n",
       "      <td>1315</td>\n",
       "      <td>1059907122408898562</td>\n",
       "      <td>human</td>\n",
       "    </tr>\n",
       "  </tbody>\n",
       "</table>\n",
       "</div>"
      ],
      "text/plain": [
       "            probe_timestamp     user_id    screen_name               name  \\\n",
       "0  Tue Nov 06 20:35:08 2018  4107317134  danitheduck21           Dani🏳️‍🌈   \n",
       "1  Tue Nov 06 17:57:51 2018  4858296837   ncaraballoPR  Natalie Caraballo   \n",
       "2  Tue Nov 06 20:35:23 2018   232631847     drmendezmd             Wilson   \n",
       "3  Tue Nov 06 19:23:19 2018    16700555    ScottNevins       Scott Nevins   \n",
       "4  Tue Nov 06 20:35:24 2018   334443152       lild1206                  D   \n",
       "\n",
       "                                         description     user_created_at  \\\n",
       "0  Dani 💜 She/Her 💜 Randomness all over. Expect l... 2015-11-03 21:16:13   \n",
       "1  Things I don’t get tired of: Politics, Amy Win... 2016-01-28 20:03:51   \n",
       "2  Latin american100%! Let fight for our country,... 2010-12-31 18:55:05   \n",
       "3  TV Personality & Host | Political/News Contrib... 2008-10-11 21:39:34   \n",
       "4                                               None 2011-07-13 03:13:52   \n",
       "\n",
       "                          url lang  protected  verified  geo_enabled  \\\n",
       "0                        None   en        0.0     False        False   \n",
       "1                        None   en        0.0     False        False   \n",
       "2                        None   en        0.0     False         True   \n",
       "3  http://www.ScottNevins.com   en        0.0      True        False   \n",
       "4                        None   en        0.0     False         True   \n",
       "\n",
       "   profile_use_background_image  default_profile  followers_count  \\\n",
       "0                         False            False              481   \n",
       "1                         False            False              202   \n",
       "2                          True             True              278   \n",
       "3                          True            False            29546   \n",
       "4                          True             True               95   \n",
       "\n",
       "   friends_count  listed_count  favourites_count  statuses_count  \\\n",
       "0            870            26              6542           67025   \n",
       "1            712             5              1515             158   \n",
       "2            342             4              4780            4029   \n",
       "3            384           402            143163           53427   \n",
       "4            668             1              1178            1315   \n",
       "\n",
       "                   tid    bot  \n",
       "0  1059907055421509632  human  \n",
       "1  1059867472810180609  human  \n",
       "2  1059907117094711296  human  \n",
       "3  1059888980957650944  human  \n",
       "4  1059907122408898562  human  "
      ]
     },
     "execution_count": 4,
     "metadata": {},
     "output_type": "execute_result"
    }
   ],
   "source": [
    "df=pd.merge(df_users, df_labels, on=['user_id'])\n",
    "df.head()"
   ]
  },
  {
   "cell_type": "markdown",
   "metadata": {
    "id": "EQrWB_1p-XoG"
   },
   "source": [
    "Look at the shape and information."
   ]
  },
  {
   "cell_type": "code",
   "execution_count": 5,
   "metadata": {
    "colab": {
     "base_uri": "https://localhost:8080/"
    },
    "id": "mbAsG8N9-Ocu",
    "outputId": "b863d43f-9d3d-4081-e3d8-e507124ff1a0"
   },
   "outputs": [
    {
     "name": "stdout",
     "output_type": "stream",
     "text": [
      "(50537, 20)\n"
     ]
    }
   ],
   "source": [
    "print(df.shape)"
   ]
  },
  {
   "cell_type": "code",
   "execution_count": 6,
   "metadata": {
    "colab": {
     "base_uri": "https://localhost:8080/"
    },
    "id": "GMqLk3tZ-OrE",
    "outputId": "16208d67-e112-4e8a-f6ce-534ff02d27a6"
   },
   "outputs": [
    {
     "name": "stdout",
     "output_type": "stream",
     "text": [
      "<class 'pandas.core.frame.DataFrame'>\n",
      "Int64Index: 50537 entries, 0 to 50536\n",
      "Data columns (total 20 columns):\n",
      " #   Column                        Non-Null Count  Dtype         \n",
      "---  ------                        --------------  -----         \n",
      " 0   probe_timestamp               50537 non-null  object        \n",
      " 1   user_id                       50537 non-null  int64         \n",
      " 2   screen_name                   50537 non-null  object        \n",
      " 3   name                          50537 non-null  object        \n",
      " 4   description                   22314 non-null  object        \n",
      " 5   user_created_at               50537 non-null  datetime64[ns]\n",
      " 6   url                           7473 non-null   object        \n",
      " 7   lang                          50537 non-null  object        \n",
      " 8   protected                     46994 non-null  float64       \n",
      " 9   verified                      50537 non-null  bool          \n",
      " 10  geo_enabled                   50537 non-null  bool          \n",
      " 11  profile_use_background_image  50537 non-null  bool          \n",
      " 12  default_profile               50537 non-null  bool          \n",
      " 13  followers_count               50537 non-null  int64         \n",
      " 14  friends_count                 50537 non-null  int64         \n",
      " 15  listed_count                  50537 non-null  int64         \n",
      " 16  favourites_count              50537 non-null  int64         \n",
      " 17  statuses_count                50537 non-null  int64         \n",
      " 18  tid                           50537 non-null  int64         \n",
      " 19  bot                           50537 non-null  object        \n",
      "dtypes: bool(4), datetime64[ns](1), float64(1), int64(7), object(7)\n",
      "memory usage: 6.7+ MB\n",
      "None\n"
     ]
    }
   ],
   "source": [
    "print(df.info())"
   ]
  },
  {
   "cell_type": "code",
   "execution_count": 7,
   "metadata": {
    "colab": {
     "base_uri": "https://localhost:8080/",
     "height": 284
    },
    "id": "ViQPJAOOxArm",
    "outputId": "aab97882-5143-468a-9958-78c4fe478bdc"
   },
   "outputs": [
    {
     "data": {
      "text/html": [
       "<div>\n",
       "<style scoped>\n",
       "    .dataframe tbody tr th:only-of-type {\n",
       "        vertical-align: middle;\n",
       "    }\n",
       "\n",
       "    .dataframe tbody tr th {\n",
       "        vertical-align: top;\n",
       "    }\n",
       "\n",
       "    .dataframe thead th {\n",
       "        text-align: right;\n",
       "    }\n",
       "</style>\n",
       "<table border=\"1\" class=\"dataframe\">\n",
       "  <thead>\n",
       "    <tr style=\"text-align: right;\">\n",
       "      <th></th>\n",
       "      <th>user_id</th>\n",
       "      <th>protected</th>\n",
       "      <th>followers_count</th>\n",
       "      <th>friends_count</th>\n",
       "      <th>listed_count</th>\n",
       "      <th>favourites_count</th>\n",
       "      <th>statuses_count</th>\n",
       "      <th>tid</th>\n",
       "    </tr>\n",
       "  </thead>\n",
       "  <tbody>\n",
       "    <tr>\n",
       "      <th>count</th>\n",
       "      <td>5.053700e+04</td>\n",
       "      <td>46994.0</td>\n",
       "      <td>5.053700e+04</td>\n",
       "      <td>50537.000000</td>\n",
       "      <td>50537.000000</td>\n",
       "      <td>50537.000000</td>\n",
       "      <td>50537.000000</td>\n",
       "      <td>5.053700e+04</td>\n",
       "    </tr>\n",
       "    <tr>\n",
       "      <th>mean</th>\n",
       "      <td>8.925762e+17</td>\n",
       "      <td>0.0</td>\n",
       "      <td>2.646671e+03</td>\n",
       "      <td>291.853157</td>\n",
       "      <td>15.767556</td>\n",
       "      <td>2314.882522</td>\n",
       "      <td>2450.896076</td>\n",
       "      <td>1.057336e+18</td>\n",
       "    </tr>\n",
       "    <tr>\n",
       "      <th>std</th>\n",
       "      <td>3.635423e+17</td>\n",
       "      <td>0.0</td>\n",
       "      <td>2.322737e+05</td>\n",
       "      <td>2671.700187</td>\n",
       "      <td>449.022183</td>\n",
       "      <td>12672.756530</td>\n",
       "      <td>13770.362987</td>\n",
       "      <td>6.132038e+15</td>\n",
       "    </tr>\n",
       "    <tr>\n",
       "      <th>min</th>\n",
       "      <td>7.461300e+04</td>\n",
       "      <td>0.0</td>\n",
       "      <td>0.000000e+00</td>\n",
       "      <td>0.000000</td>\n",
       "      <td>0.000000</td>\n",
       "      <td>0.000000</td>\n",
       "      <td>1.000000</td>\n",
       "      <td>7.960691e+17</td>\n",
       "    </tr>\n",
       "    <tr>\n",
       "      <th>25%</th>\n",
       "      <td>9.868175e+17</td>\n",
       "      <td>0.0</td>\n",
       "      <td>0.000000e+00</td>\n",
       "      <td>0.000000</td>\n",
       "      <td>0.000000</td>\n",
       "      <td>0.000000</td>\n",
       "      <td>8.000000</td>\n",
       "      <td>1.052275e+18</td>\n",
       "    </tr>\n",
       "    <tr>\n",
       "      <th>50%</th>\n",
       "      <td>1.052364e+18</td>\n",
       "      <td>0.0</td>\n",
       "      <td>1.000000e+00</td>\n",
       "      <td>9.000000</td>\n",
       "      <td>0.000000</td>\n",
       "      <td>0.000000</td>\n",
       "      <td>30.000000</td>\n",
       "      <td>1.057426e+18</td>\n",
       "    </tr>\n",
       "    <tr>\n",
       "      <th>75%</th>\n",
       "      <td>1.056739e+18</td>\n",
       "      <td>0.0</td>\n",
       "      <td>1.600000e+01</td>\n",
       "      <td>141.000000</td>\n",
       "      <td>0.000000</td>\n",
       "      <td>75.000000</td>\n",
       "      <td>147.000000</td>\n",
       "      <td>1.059911e+18</td>\n",
       "    </tr>\n",
       "    <tr>\n",
       "      <th>max</th>\n",
       "      <td>1.078964e+18</td>\n",
       "      <td>0.0</td>\n",
       "      <td>5.086590e+07</td>\n",
       "      <td>298234.000000</td>\n",
       "      <td>67930.000000</td>\n",
       "      <td>463821.000000</td>\n",
       "      <td>599307.000000</td>\n",
       "      <td>1.078970e+18</td>\n",
       "    </tr>\n",
       "  </tbody>\n",
       "</table>\n",
       "</div>"
      ],
      "text/plain": [
       "            user_id  protected  followers_count  friends_count  listed_count  \\\n",
       "count  5.053700e+04    46994.0     5.053700e+04   50537.000000  50537.000000   \n",
       "mean   8.925762e+17        0.0     2.646671e+03     291.853157     15.767556   \n",
       "std    3.635423e+17        0.0     2.322737e+05    2671.700187    449.022183   \n",
       "min    7.461300e+04        0.0     0.000000e+00       0.000000      0.000000   \n",
       "25%    9.868175e+17        0.0     0.000000e+00       0.000000      0.000000   \n",
       "50%    1.052364e+18        0.0     1.000000e+00       9.000000      0.000000   \n",
       "75%    1.056739e+18        0.0     1.600000e+01     141.000000      0.000000   \n",
       "max    1.078964e+18        0.0     5.086590e+07  298234.000000  67930.000000   \n",
       "\n",
       "       favourites_count  statuses_count           tid  \n",
       "count      50537.000000    50537.000000  5.053700e+04  \n",
       "mean        2314.882522     2450.896076  1.057336e+18  \n",
       "std        12672.756530    13770.362987  6.132038e+15  \n",
       "min            0.000000        1.000000  7.960691e+17  \n",
       "25%            0.000000        8.000000  1.052275e+18  \n",
       "50%            0.000000       30.000000  1.057426e+18  \n",
       "75%           75.000000      147.000000  1.059911e+18  \n",
       "max       463821.000000   599307.000000  1.078970e+18  "
      ]
     },
     "execution_count": 7,
     "metadata": {},
     "output_type": "execute_result"
    }
   ],
   "source": [
    "df.describe()"
   ]
  },
  {
   "cell_type": "code",
   "execution_count": 8,
   "metadata": {
    "colab": {
     "base_uri": "https://localhost:8080/",
     "height": 166
    },
    "id": "PTLG51NIx5ML",
    "outputId": "81324691-43be-4e72-f261-81e45a40f578"
   },
   "outputs": [
    {
     "data": {
      "text/html": [
       "<div>\n",
       "<style scoped>\n",
       "    .dataframe tbody tr th:only-of-type {\n",
       "        vertical-align: middle;\n",
       "    }\n",
       "\n",
       "    .dataframe tbody tr th {\n",
       "        vertical-align: top;\n",
       "    }\n",
       "\n",
       "    .dataframe thead th {\n",
       "        text-align: right;\n",
       "    }\n",
       "</style>\n",
       "<table border=\"1\" class=\"dataframe\">\n",
       "  <thead>\n",
       "    <tr style=\"text-align: right;\">\n",
       "      <th></th>\n",
       "      <th>probe_timestamp</th>\n",
       "      <th>screen_name</th>\n",
       "      <th>name</th>\n",
       "      <th>description</th>\n",
       "      <th>url</th>\n",
       "      <th>lang</th>\n",
       "      <th>verified</th>\n",
       "      <th>geo_enabled</th>\n",
       "      <th>profile_use_background_image</th>\n",
       "      <th>default_profile</th>\n",
       "      <th>bot</th>\n",
       "    </tr>\n",
       "  </thead>\n",
       "  <tbody>\n",
       "    <tr>\n",
       "      <th>count</th>\n",
       "      <td>50537</td>\n",
       "      <td>50537</td>\n",
       "      <td>50537</td>\n",
       "      <td>22314</td>\n",
       "      <td>7473</td>\n",
       "      <td>50537</td>\n",
       "      <td>50537</td>\n",
       "      <td>50537</td>\n",
       "      <td>50537</td>\n",
       "      <td>50537</td>\n",
       "      <td>50537</td>\n",
       "    </tr>\n",
       "    <tr>\n",
       "      <th>unique</th>\n",
       "      <td>49111</td>\n",
       "      <td>50531</td>\n",
       "      <td>42190</td>\n",
       "      <td>21861</td>\n",
       "      <td>7084</td>\n",
       "      <td>34</td>\n",
       "      <td>2</td>\n",
       "      <td>2</td>\n",
       "      <td>2</td>\n",
       "      <td>2</td>\n",
       "      <td>2</td>\n",
       "    </tr>\n",
       "    <tr>\n",
       "      <th>top</th>\n",
       "      <td>Wed Oct 10 14:17:55 2018</td>\n",
       "      <td>SMPotbury</td>\n",
       "      <td></td>\n",
       "      <td>Afraid of nada</td>\n",
       "      <td>http://wmna.sh/bstexomashore</td>\n",
       "      <td>en</td>\n",
       "      <td>False</td>\n",
       "      <td>False</td>\n",
       "      <td>True</td>\n",
       "      <td>True</td>\n",
       "      <td>bot</td>\n",
       "    </tr>\n",
       "    <tr>\n",
       "      <th>freq</th>\n",
       "      <td>5</td>\n",
       "      <td>2</td>\n",
       "      <td>446</td>\n",
       "      <td>43</td>\n",
       "      <td>40</td>\n",
       "      <td>48005</td>\n",
       "      <td>50105</td>\n",
       "      <td>45867</td>\n",
       "      <td>47491</td>\n",
       "      <td>44045</td>\n",
       "      <td>42445</td>\n",
       "    </tr>\n",
       "  </tbody>\n",
       "</table>\n",
       "</div>"
      ],
      "text/plain": [
       "                 probe_timestamp screen_name   name     description  \\\n",
       "count                      50537       50537  50537           22314   \n",
       "unique                     49111       50531  42190           21861   \n",
       "top     Wed Oct 10 14:17:55 2018   SMPotbury         Afraid of nada   \n",
       "freq                           5           2    446              43   \n",
       "\n",
       "                                 url   lang verified geo_enabled  \\\n",
       "count                           7473  50537    50537       50537   \n",
       "unique                          7084     34        2           2   \n",
       "top     http://wmna.sh/bstexomashore     en    False       False   \n",
       "freq                              40  48005    50105       45867   \n",
       "\n",
       "       profile_use_background_image default_profile    bot  \n",
       "count                         50537           50537  50537  \n",
       "unique                            2               2      2  \n",
       "top                            True            True    bot  \n",
       "freq                          47491           44045  42445  "
      ]
     },
     "execution_count": 8,
     "metadata": {},
     "output_type": "execute_result"
    }
   ],
   "source": [
    "df.describe(include=['object', 'bool'])"
   ]
  },
  {
   "cell_type": "code",
   "execution_count": 9,
   "metadata": {
    "colab": {
     "base_uri": "https://localhost:8080/"
    },
    "id": "-UKpuEUw-O2q",
    "outputId": "cafa8675-fb40-4497-b585-1bb9ad262faa"
   },
   "outputs": [
    {
     "name": "stdout",
     "output_type": "stream",
     "text": [
      "bot      42445\n",
      "human     8092\n",
      "Name: bot, dtype: int64\n"
     ]
    }
   ],
   "source": [
    "print(df['bot'].value_counts())"
   ]
  },
  {
   "cell_type": "markdown",
   "metadata": {
    "id": "VfrkFxaaE2Jp"
   },
   "source": [
    "Drop columns that are likely to be irrelevant."
   ]
  },
  {
   "cell_type": "code",
   "execution_count": 10,
   "metadata": {
    "colab": {
     "base_uri": "https://localhost:8080/"
    },
    "id": "5ijkzBl4E7DJ",
    "outputId": "0144f079-53e3-421d-d15c-2959e02a0364"
   },
   "outputs": [
    {
     "name": "stdout",
     "output_type": "stream",
     "text": [
      "(50537, 10)\n",
      "<class 'pandas.core.frame.DataFrame'>\n",
      "Int64Index: 50537 entries, 0 to 50536\n",
      "Data columns (total 10 columns):\n",
      " #   Column                        Non-Null Count  Dtype \n",
      "---  ------                        --------------  ----- \n",
      " 0   verified                      50537 non-null  bool  \n",
      " 1   geo_enabled                   50537 non-null  bool  \n",
      " 2   profile_use_background_image  50537 non-null  bool  \n",
      " 3   default_profile               50537 non-null  bool  \n",
      " 4   followers_count               50537 non-null  int64 \n",
      " 5   friends_count                 50537 non-null  int64 \n",
      " 6   listed_count                  50537 non-null  int64 \n",
      " 7   favourites_count              50537 non-null  int64 \n",
      " 8   statuses_count                50537 non-null  int64 \n",
      " 9   bot                           50537 non-null  object\n",
      "dtypes: bool(4), int64(5), object(1)\n",
      "memory usage: 2.9+ MB\n",
      "None\n"
     ]
    }
   ],
   "source": [
    "df.drop(columns=['probe_timestamp', 'user_id', 'screen_name', 'name', 'description', 'user_created_at', 'url', 'lang', 'protected', 'tid'], inplace=True)\n",
    "print(df.shape)\n",
    "print(df.info())"
   ]
  },
  {
   "cell_type": "code",
   "execution_count": 11,
   "metadata": {
    "colab": {
     "base_uri": "https://localhost:8080/",
     "height": 300
    },
    "id": "JfB1US5HpnXl",
    "outputId": "f09528fe-601b-4efc-fb73-d8cdff3d0c8d"
   },
   "outputs": [
    {
     "data": {
      "text/html": [
       "<div>\n",
       "<style scoped>\n",
       "    .dataframe tbody tr th:only-of-type {\n",
       "        vertical-align: middle;\n",
       "    }\n",
       "\n",
       "    .dataframe tbody tr th {\n",
       "        vertical-align: top;\n",
       "    }\n",
       "\n",
       "    .dataframe thead th {\n",
       "        text-align: right;\n",
       "    }\n",
       "</style>\n",
       "<table border=\"1\" class=\"dataframe\">\n",
       "  <thead>\n",
       "    <tr style=\"text-align: right;\">\n",
       "      <th></th>\n",
       "      <th>followers_count</th>\n",
       "      <th>friends_count</th>\n",
       "      <th>listed_count</th>\n",
       "      <th>favourites_count</th>\n",
       "      <th>statuses_count</th>\n",
       "    </tr>\n",
       "  </thead>\n",
       "  <tbody>\n",
       "    <tr>\n",
       "      <th>count</th>\n",
       "      <td>5.053700e+04</td>\n",
       "      <td>50537.000000</td>\n",
       "      <td>50537.000000</td>\n",
       "      <td>50537.000000</td>\n",
       "      <td>50537.000000</td>\n",
       "    </tr>\n",
       "    <tr>\n",
       "      <th>mean</th>\n",
       "      <td>2.646671e+03</td>\n",
       "      <td>291.853157</td>\n",
       "      <td>15.767556</td>\n",
       "      <td>2314.882522</td>\n",
       "      <td>2450.896076</td>\n",
       "    </tr>\n",
       "    <tr>\n",
       "      <th>std</th>\n",
       "      <td>2.322737e+05</td>\n",
       "      <td>2671.700187</td>\n",
       "      <td>449.022183</td>\n",
       "      <td>12672.756530</td>\n",
       "      <td>13770.362987</td>\n",
       "    </tr>\n",
       "    <tr>\n",
       "      <th>min</th>\n",
       "      <td>0.000000e+00</td>\n",
       "      <td>0.000000</td>\n",
       "      <td>0.000000</td>\n",
       "      <td>0.000000</td>\n",
       "      <td>1.000000</td>\n",
       "    </tr>\n",
       "    <tr>\n",
       "      <th>25%</th>\n",
       "      <td>0.000000e+00</td>\n",
       "      <td>0.000000</td>\n",
       "      <td>0.000000</td>\n",
       "      <td>0.000000</td>\n",
       "      <td>8.000000</td>\n",
       "    </tr>\n",
       "    <tr>\n",
       "      <th>50%</th>\n",
       "      <td>1.000000e+00</td>\n",
       "      <td>9.000000</td>\n",
       "      <td>0.000000</td>\n",
       "      <td>0.000000</td>\n",
       "      <td>30.000000</td>\n",
       "    </tr>\n",
       "    <tr>\n",
       "      <th>75%</th>\n",
       "      <td>1.600000e+01</td>\n",
       "      <td>141.000000</td>\n",
       "      <td>0.000000</td>\n",
       "      <td>75.000000</td>\n",
       "      <td>147.000000</td>\n",
       "    </tr>\n",
       "    <tr>\n",
       "      <th>max</th>\n",
       "      <td>5.086590e+07</td>\n",
       "      <td>298234.000000</td>\n",
       "      <td>67930.000000</td>\n",
       "      <td>463821.000000</td>\n",
       "      <td>599307.000000</td>\n",
       "    </tr>\n",
       "  </tbody>\n",
       "</table>\n",
       "</div>"
      ],
      "text/plain": [
       "       followers_count  friends_count  listed_count  favourites_count  \\\n",
       "count     5.053700e+04   50537.000000  50537.000000      50537.000000   \n",
       "mean      2.646671e+03     291.853157     15.767556       2314.882522   \n",
       "std       2.322737e+05    2671.700187    449.022183      12672.756530   \n",
       "min       0.000000e+00       0.000000      0.000000          0.000000   \n",
       "25%       0.000000e+00       0.000000      0.000000          0.000000   \n",
       "50%       1.000000e+00       9.000000      0.000000          0.000000   \n",
       "75%       1.600000e+01     141.000000      0.000000         75.000000   \n",
       "max       5.086590e+07  298234.000000  67930.000000     463821.000000   \n",
       "\n",
       "       statuses_count  \n",
       "count    50537.000000  \n",
       "mean      2450.896076  \n",
       "std      13770.362987  \n",
       "min          1.000000  \n",
       "25%          8.000000  \n",
       "50%         30.000000  \n",
       "75%        147.000000  \n",
       "max     599307.000000  "
      ]
     },
     "execution_count": 11,
     "metadata": {},
     "output_type": "execute_result"
    }
   ],
   "source": [
    "df.describe()"
   ]
  },
  {
   "cell_type": "code",
   "execution_count": 12,
   "metadata": {
    "colab": {
     "base_uri": "https://localhost:8080/",
     "height": 175
    },
    "id": "bkrcph2Wpj-e",
    "outputId": "471f3592-a8ea-4689-c0a5-25e20f61ac11"
   },
   "outputs": [
    {
     "data": {
      "text/html": [
       "<div>\n",
       "<style scoped>\n",
       "    .dataframe tbody tr th:only-of-type {\n",
       "        vertical-align: middle;\n",
       "    }\n",
       "\n",
       "    .dataframe tbody tr th {\n",
       "        vertical-align: top;\n",
       "    }\n",
       "\n",
       "    .dataframe thead th {\n",
       "        text-align: right;\n",
       "    }\n",
       "</style>\n",
       "<table border=\"1\" class=\"dataframe\">\n",
       "  <thead>\n",
       "    <tr style=\"text-align: right;\">\n",
       "      <th></th>\n",
       "      <th>verified</th>\n",
       "      <th>geo_enabled</th>\n",
       "      <th>profile_use_background_image</th>\n",
       "      <th>default_profile</th>\n",
       "      <th>bot</th>\n",
       "    </tr>\n",
       "  </thead>\n",
       "  <tbody>\n",
       "    <tr>\n",
       "      <th>count</th>\n",
       "      <td>50537</td>\n",
       "      <td>50537</td>\n",
       "      <td>50537</td>\n",
       "      <td>50537</td>\n",
       "      <td>50537</td>\n",
       "    </tr>\n",
       "    <tr>\n",
       "      <th>unique</th>\n",
       "      <td>2</td>\n",
       "      <td>2</td>\n",
       "      <td>2</td>\n",
       "      <td>2</td>\n",
       "      <td>2</td>\n",
       "    </tr>\n",
       "    <tr>\n",
       "      <th>top</th>\n",
       "      <td>False</td>\n",
       "      <td>False</td>\n",
       "      <td>True</td>\n",
       "      <td>True</td>\n",
       "      <td>bot</td>\n",
       "    </tr>\n",
       "    <tr>\n",
       "      <th>freq</th>\n",
       "      <td>50105</td>\n",
       "      <td>45867</td>\n",
       "      <td>47491</td>\n",
       "      <td>44045</td>\n",
       "      <td>42445</td>\n",
       "    </tr>\n",
       "  </tbody>\n",
       "</table>\n",
       "</div>"
      ],
      "text/plain": [
       "       verified geo_enabled profile_use_background_image default_profile  \\\n",
       "count     50537       50537                        50537           50537   \n",
       "unique        2           2                            2               2   \n",
       "top       False       False                         True            True   \n",
       "freq      50105       45867                        47491           44045   \n",
       "\n",
       "          bot  \n",
       "count   50537  \n",
       "unique      2  \n",
       "top       bot  \n",
       "freq    42445  "
      ]
     },
     "execution_count": 12,
     "metadata": {},
     "output_type": "execute_result"
    }
   ],
   "source": [
    "df.describe(include=['object', 'bool'])"
   ]
  },
  {
   "cell_type": "markdown",
   "metadata": {
    "id": "1Qzf5koRLCwD"
   },
   "source": [
    "Let's look at the differences between the two classes."
   ]
  },
  {
   "cell_type": "code",
   "execution_count": 13,
   "metadata": {
    "colab": {
     "base_uri": "https://localhost:8080/",
     "height": 300
    },
    "id": "sLp0IKgFqE2J",
    "outputId": "65b886aa-f189-4cb0-aaef-3cca2981a44e"
   },
   "outputs": [
    {
     "data": {
      "text/html": [
       "<div>\n",
       "<style scoped>\n",
       "    .dataframe tbody tr th:only-of-type {\n",
       "        vertical-align: middle;\n",
       "    }\n",
       "\n",
       "    .dataframe tbody tr th {\n",
       "        vertical-align: top;\n",
       "    }\n",
       "\n",
       "    .dataframe thead th {\n",
       "        text-align: right;\n",
       "    }\n",
       "</style>\n",
       "<table border=\"1\" class=\"dataframe\">\n",
       "  <thead>\n",
       "    <tr style=\"text-align: right;\">\n",
       "      <th></th>\n",
       "      <th>followers_count</th>\n",
       "      <th>friends_count</th>\n",
       "      <th>listed_count</th>\n",
       "      <th>favourites_count</th>\n",
       "      <th>statuses_count</th>\n",
       "    </tr>\n",
       "  </thead>\n",
       "  <tbody>\n",
       "    <tr>\n",
       "      <th>count</th>\n",
       "      <td>42445.000000</td>\n",
       "      <td>42445.000000</td>\n",
       "      <td>42445.000000</td>\n",
       "      <td>42445.000000</td>\n",
       "      <td>42445.000000</td>\n",
       "    </tr>\n",
       "    <tr>\n",
       "      <th>mean</th>\n",
       "      <td>19.216044</td>\n",
       "      <td>76.095158</td>\n",
       "      <td>0.086653</td>\n",
       "      <td>79.031594</td>\n",
       "      <td>123.407516</td>\n",
       "    </tr>\n",
       "    <tr>\n",
       "      <th>std</th>\n",
       "      <td>145.944639</td>\n",
       "      <td>232.620177</td>\n",
       "      <td>0.851544</td>\n",
       "      <td>757.281912</td>\n",
       "      <td>892.563302</td>\n",
       "    </tr>\n",
       "    <tr>\n",
       "      <th>min</th>\n",
       "      <td>0.000000</td>\n",
       "      <td>0.000000</td>\n",
       "      <td>0.000000</td>\n",
       "      <td>0.000000</td>\n",
       "      <td>1.000000</td>\n",
       "    </tr>\n",
       "    <tr>\n",
       "      <th>25%</th>\n",
       "      <td>0.000000</td>\n",
       "      <td>0.000000</td>\n",
       "      <td>0.000000</td>\n",
       "      <td>0.000000</td>\n",
       "      <td>7.000000</td>\n",
       "    </tr>\n",
       "    <tr>\n",
       "      <th>50%</th>\n",
       "      <td>0.000000</td>\n",
       "      <td>1.000000</td>\n",
       "      <td>0.000000</td>\n",
       "      <td>0.000000</td>\n",
       "      <td>20.000000</td>\n",
       "    </tr>\n",
       "    <tr>\n",
       "      <th>75%</th>\n",
       "      <td>2.000000</td>\n",
       "      <td>54.000000</td>\n",
       "      <td>0.000000</td>\n",
       "      <td>9.000000</td>\n",
       "      <td>69.000000</td>\n",
       "    </tr>\n",
       "    <tr>\n",
       "      <th>max</th>\n",
       "      <td>11598.000000</td>\n",
       "      <td>10937.000000</td>\n",
       "      <td>137.000000</td>\n",
       "      <td>74484.000000</td>\n",
       "      <td>80487.000000</td>\n",
       "    </tr>\n",
       "  </tbody>\n",
       "</table>\n",
       "</div>"
      ],
      "text/plain": [
       "       followers_count  friends_count  listed_count  favourites_count  \\\n",
       "count     42445.000000   42445.000000  42445.000000      42445.000000   \n",
       "mean         19.216044      76.095158      0.086653         79.031594   \n",
       "std         145.944639     232.620177      0.851544        757.281912   \n",
       "min           0.000000       0.000000      0.000000          0.000000   \n",
       "25%           0.000000       0.000000      0.000000          0.000000   \n",
       "50%           0.000000       1.000000      0.000000          0.000000   \n",
       "75%           2.000000      54.000000      0.000000          9.000000   \n",
       "max       11598.000000   10937.000000    137.000000      74484.000000   \n",
       "\n",
       "       statuses_count  \n",
       "count    42445.000000  \n",
       "mean       123.407516  \n",
       "std        892.563302  \n",
       "min          1.000000  \n",
       "25%          7.000000  \n",
       "50%         20.000000  \n",
       "75%         69.000000  \n",
       "max      80487.000000  "
      ]
     },
     "execution_count": 13,
     "metadata": {},
     "output_type": "execute_result"
    }
   ],
   "source": [
    "df[df['bot']=='bot'].describe()"
   ]
  },
  {
   "cell_type": "code",
   "execution_count": 14,
   "metadata": {
    "colab": {
     "base_uri": "https://localhost:8080/",
     "height": 175
    },
    "id": "9jzFU-qTLMdX",
    "outputId": "4ace88e9-d575-449d-e273-0e15a59a3992"
   },
   "outputs": [
    {
     "data": {
      "text/html": [
       "<div>\n",
       "<style scoped>\n",
       "    .dataframe tbody tr th:only-of-type {\n",
       "        vertical-align: middle;\n",
       "    }\n",
       "\n",
       "    .dataframe tbody tr th {\n",
       "        vertical-align: top;\n",
       "    }\n",
       "\n",
       "    .dataframe thead th {\n",
       "        text-align: right;\n",
       "    }\n",
       "</style>\n",
       "<table border=\"1\" class=\"dataframe\">\n",
       "  <thead>\n",
       "    <tr style=\"text-align: right;\">\n",
       "      <th></th>\n",
       "      <th>verified</th>\n",
       "      <th>geo_enabled</th>\n",
       "      <th>profile_use_background_image</th>\n",
       "      <th>default_profile</th>\n",
       "      <th>bot</th>\n",
       "    </tr>\n",
       "  </thead>\n",
       "  <tbody>\n",
       "    <tr>\n",
       "      <th>count</th>\n",
       "      <td>42445</td>\n",
       "      <td>42445</td>\n",
       "      <td>42445</td>\n",
       "      <td>42445</td>\n",
       "      <td>42445</td>\n",
       "    </tr>\n",
       "    <tr>\n",
       "      <th>unique</th>\n",
       "      <td>1</td>\n",
       "      <td>2</td>\n",
       "      <td>2</td>\n",
       "      <td>2</td>\n",
       "      <td>1</td>\n",
       "    </tr>\n",
       "    <tr>\n",
       "      <th>top</th>\n",
       "      <td>False</td>\n",
       "      <td>False</td>\n",
       "      <td>True</td>\n",
       "      <td>True</td>\n",
       "      <td>bot</td>\n",
       "    </tr>\n",
       "    <tr>\n",
       "      <th>freq</th>\n",
       "      <td>42445</td>\n",
       "      <td>42277</td>\n",
       "      <td>41306</td>\n",
       "      <td>41306</td>\n",
       "      <td>42445</td>\n",
       "    </tr>\n",
       "  </tbody>\n",
       "</table>\n",
       "</div>"
      ],
      "text/plain": [
       "       verified geo_enabled profile_use_background_image default_profile  \\\n",
       "count     42445       42445                        42445           42445   \n",
       "unique        1           2                            2               2   \n",
       "top       False       False                         True            True   \n",
       "freq      42445       42277                        41306           41306   \n",
       "\n",
       "          bot  \n",
       "count   42445  \n",
       "unique      1  \n",
       "top       bot  \n",
       "freq    42445  "
      ]
     },
     "execution_count": 14,
     "metadata": {},
     "output_type": "execute_result"
    }
   ],
   "source": [
    "df[df['bot']=='bot'].describe(include=['object', 'bool'])"
   ]
  },
  {
   "cell_type": "code",
   "execution_count": 15,
   "metadata": {
    "colab": {
     "base_uri": "https://localhost:8080/",
     "height": 300
    },
    "id": "dlW61lzJqLtb",
    "outputId": "80ae945d-4c66-42b7-ed5b-9ac565995983"
   },
   "outputs": [
    {
     "data": {
      "text/html": [
       "<div>\n",
       "<style scoped>\n",
       "    .dataframe tbody tr th:only-of-type {\n",
       "        vertical-align: middle;\n",
       "    }\n",
       "\n",
       "    .dataframe tbody tr th {\n",
       "        vertical-align: top;\n",
       "    }\n",
       "\n",
       "    .dataframe thead th {\n",
       "        text-align: right;\n",
       "    }\n",
       "</style>\n",
       "<table border=\"1\" class=\"dataframe\">\n",
       "  <thead>\n",
       "    <tr style=\"text-align: right;\">\n",
       "      <th></th>\n",
       "      <th>followers_count</th>\n",
       "      <th>friends_count</th>\n",
       "      <th>listed_count</th>\n",
       "      <th>favourites_count</th>\n",
       "      <th>statuses_count</th>\n",
       "    </tr>\n",
       "  </thead>\n",
       "  <tbody>\n",
       "    <tr>\n",
       "      <th>count</th>\n",
       "      <td>8.092000e+03</td>\n",
       "      <td>8092.000000</td>\n",
       "      <td>8092.000000</td>\n",
       "      <td>8092.000000</td>\n",
       "      <td>8092.000000</td>\n",
       "    </tr>\n",
       "    <tr>\n",
       "      <th>mean</th>\n",
       "      <td>1.642847e+04</td>\n",
       "      <td>1423.569451</td>\n",
       "      <td>98.018660</td>\n",
       "      <td>14042.600346</td>\n",
       "      <td>14659.281142</td>\n",
       "    </tr>\n",
       "    <tr>\n",
       "      <th>std</th>\n",
       "      <td>5.803013e+05</td>\n",
       "      <td>6540.220500</td>\n",
       "      <td>1118.595029</td>\n",
       "      <td>28918.900237</td>\n",
       "      <td>31665.673860</td>\n",
       "    </tr>\n",
       "    <tr>\n",
       "      <th>min</th>\n",
       "      <td>0.000000e+00</td>\n",
       "      <td>0.000000</td>\n",
       "      <td>0.000000</td>\n",
       "      <td>0.000000</td>\n",
       "      <td>1.000000</td>\n",
       "    </tr>\n",
       "    <tr>\n",
       "      <th>25%</th>\n",
       "      <td>1.070000e+02</td>\n",
       "      <td>211.000000</td>\n",
       "      <td>1.000000</td>\n",
       "      <td>930.750000</td>\n",
       "      <td>1067.750000</td>\n",
       "    </tr>\n",
       "    <tr>\n",
       "      <th>50%</th>\n",
       "      <td>3.620000e+02</td>\n",
       "      <td>478.000000</td>\n",
       "      <td>7.000000</td>\n",
       "      <td>3983.500000</td>\n",
       "      <td>4351.500000</td>\n",
       "    </tr>\n",
       "    <tr>\n",
       "      <th>75%</th>\n",
       "      <td>1.345250e+03</td>\n",
       "      <td>1092.500000</td>\n",
       "      <td>32.000000</td>\n",
       "      <td>13780.500000</td>\n",
       "      <td>14197.250000</td>\n",
       "    </tr>\n",
       "    <tr>\n",
       "      <th>max</th>\n",
       "      <td>5.086590e+07</td>\n",
       "      <td>298234.000000</td>\n",
       "      <td>67930.000000</td>\n",
       "      <td>463821.000000</td>\n",
       "      <td>599307.000000</td>\n",
       "    </tr>\n",
       "  </tbody>\n",
       "</table>\n",
       "</div>"
      ],
      "text/plain": [
       "       followers_count  friends_count  listed_count  favourites_count  \\\n",
       "count     8.092000e+03    8092.000000   8092.000000       8092.000000   \n",
       "mean      1.642847e+04    1423.569451     98.018660      14042.600346   \n",
       "std       5.803013e+05    6540.220500   1118.595029      28918.900237   \n",
       "min       0.000000e+00       0.000000      0.000000          0.000000   \n",
       "25%       1.070000e+02     211.000000      1.000000        930.750000   \n",
       "50%       3.620000e+02     478.000000      7.000000       3983.500000   \n",
       "75%       1.345250e+03    1092.500000     32.000000      13780.500000   \n",
       "max       5.086590e+07  298234.000000  67930.000000     463821.000000   \n",
       "\n",
       "       statuses_count  \n",
       "count     8092.000000  \n",
       "mean     14659.281142  \n",
       "std      31665.673860  \n",
       "min          1.000000  \n",
       "25%       1067.750000  \n",
       "50%       4351.500000  \n",
       "75%      14197.250000  \n",
       "max     599307.000000  "
      ]
     },
     "execution_count": 15,
     "metadata": {},
     "output_type": "execute_result"
    }
   ],
   "source": [
    "df[df['bot']=='human'].describe()"
   ]
  },
  {
   "cell_type": "code",
   "execution_count": 16,
   "metadata": {
    "colab": {
     "base_uri": "https://localhost:8080/",
     "height": 175
    },
    "id": "EkMrOkKRLoVa",
    "outputId": "66d6a6ed-ea04-4673-f271-2605c827dfda"
   },
   "outputs": [
    {
     "data": {
      "text/html": [
       "<div>\n",
       "<style scoped>\n",
       "    .dataframe tbody tr th:only-of-type {\n",
       "        vertical-align: middle;\n",
       "    }\n",
       "\n",
       "    .dataframe tbody tr th {\n",
       "        vertical-align: top;\n",
       "    }\n",
       "\n",
       "    .dataframe thead th {\n",
       "        text-align: right;\n",
       "    }\n",
       "</style>\n",
       "<table border=\"1\" class=\"dataframe\">\n",
       "  <thead>\n",
       "    <tr style=\"text-align: right;\">\n",
       "      <th></th>\n",
       "      <th>verified</th>\n",
       "      <th>geo_enabled</th>\n",
       "      <th>profile_use_background_image</th>\n",
       "      <th>default_profile</th>\n",
       "      <th>bot</th>\n",
       "    </tr>\n",
       "  </thead>\n",
       "  <tbody>\n",
       "    <tr>\n",
       "      <th>count</th>\n",
       "      <td>8092</td>\n",
       "      <td>8092</td>\n",
       "      <td>8092</td>\n",
       "      <td>8092</td>\n",
       "      <td>8092</td>\n",
       "    </tr>\n",
       "    <tr>\n",
       "      <th>unique</th>\n",
       "      <td>2</td>\n",
       "      <td>2</td>\n",
       "      <td>2</td>\n",
       "      <td>2</td>\n",
       "      <td>1</td>\n",
       "    </tr>\n",
       "    <tr>\n",
       "      <th>top</th>\n",
       "      <td>False</td>\n",
       "      <td>True</td>\n",
       "      <td>True</td>\n",
       "      <td>False</td>\n",
       "      <td>human</td>\n",
       "    </tr>\n",
       "    <tr>\n",
       "      <th>freq</th>\n",
       "      <td>7660</td>\n",
       "      <td>4502</td>\n",
       "      <td>6185</td>\n",
       "      <td>5353</td>\n",
       "      <td>8092</td>\n",
       "    </tr>\n",
       "  </tbody>\n",
       "</table>\n",
       "</div>"
      ],
      "text/plain": [
       "       verified geo_enabled profile_use_background_image default_profile  \\\n",
       "count      8092        8092                         8092            8092   \n",
       "unique        2           2                            2               2   \n",
       "top       False        True                         True           False   \n",
       "freq       7660        4502                         6185            5353   \n",
       "\n",
       "          bot  \n",
       "count    8092  \n",
       "unique      1  \n",
       "top     human  \n",
       "freq     8092  "
      ]
     },
     "execution_count": 16,
     "metadata": {},
     "output_type": "execute_result"
    }
   ],
   "source": [
    "df[df['bot']=='human'].describe(include=['object', 'bool'])"
   ]
  },
  {
   "cell_type": "markdown",
   "metadata": {
    "id": "1q50Yhn6JXhj"
   },
   "source": [
    "Create unbalanced train and test dataframes"
   ]
  },
  {
   "cell_type": "code",
   "execution_count": 17,
   "metadata": {
    "id": "5v4gz5NR-hJz"
   },
   "outputs": [],
   "source": [
    "train_u, test_u = train_test_split(df, test_size=0.2)"
   ]
  },
  {
   "cell_type": "code",
   "execution_count": 18,
   "metadata": {
    "colab": {
     "base_uri": "https://localhost:8080/"
    },
    "id": "sNKAwPqe-hD_",
    "outputId": "1210a283-7167-48f4-8dd6-848e4862c6da"
   },
   "outputs": [
    {
     "name": "stdout",
     "output_type": "stream",
     "text": [
      "pass: data types are all same between train and test\n"
     ]
    }
   ],
   "source": [
    "if all(train_u.dtypes == test_u.dtypes):\n",
    "  print(\"pass: data types are all same between train and test\")\n",
    "else:\n",
    "  print('\\nFAIL: DATA TYPES ARE NOT EQUAL BETWEEN TRAIN AND TEST, SOMETHING IS WRONG\\n')"
   ]
  },
  {
   "cell_type": "markdown",
   "metadata": {
    "id": "pOCHnjrDDD_G"
   },
   "source": [
    "Save our unbalanced training and test sets."
   ]
  },
  {
   "cell_type": "code",
   "execution_count": 19,
   "metadata": {
    "id": "oVV_jt0BC7AZ"
   },
   "outputs": [],
   "source": [
    "train_u.to_json('./data/unbal_train.json')\n",
    "test_u.to_json('./data/unbal_test.json')"
   ]
  },
  {
   "cell_type": "markdown",
   "metadata": {
    "id": "N9BsESGiJafM"
   },
   "source": [
    "Create balanced train and test datframes"
   ]
  },
  {
   "cell_type": "code",
   "execution_count": 20,
   "metadata": {
    "id": "o37s6UbC-g1P"
   },
   "outputs": [],
   "source": [
    "bots=df[df['bot']=='bot']\n",
    "humans=df[df['bot']=='human']\n",
    "bots_sample=bots.sample(8092)\n",
    "bal_df=bots_sample.append(humans)\n",
    "\n",
    "train_b, test_b = train_test_split(bal_df, test_size=0.2)"
   ]
  },
  {
   "cell_type": "code",
   "execution_count": 21,
   "metadata": {
    "colab": {
     "base_uri": "https://localhost:8080/"
    },
    "id": "ZTDdfMg5Jlfr",
    "outputId": "61bb7a42-f854-4307-bdc1-dd0b45712027"
   },
   "outputs": [
    {
     "name": "stdout",
     "output_type": "stream",
     "text": [
      "pass: data types are all same between train and test\n"
     ]
    }
   ],
   "source": [
    "if all(train_b.dtypes == test_b.dtypes):\n",
    "  print(\"pass: data types are all same between train and test\")\n",
    "else:\n",
    "  print('\\nFAIL: DATA TYPES ARE NOT EQUAL BETWEEN TRAIN AND TEST, SOMETHING IS WRONG\\n')"
   ]
  },
  {
   "cell_type": "code",
   "execution_count": 22,
   "metadata": {
    "id": "HQTrEDiKDKm4"
   },
   "outputs": [],
   "source": [
    "train_b.to_json('./data/bal_train.json')\n",
    "test_b.to_json('./data/bal_test.json')"
   ]
  },
  {
   "cell_type": "markdown",
   "metadata": {
    "id": "cd49lvubb26y"
   },
   "source": [
    "Create an unbalanced cropped dataset"
   ]
  },
  {
   "cell_type": "code",
   "execution_count": 24,
   "metadata": {
    "colab": {
     "base_uri": "https://localhost:8080/"
    },
    "id": "sTQwT9LCb59J",
    "outputId": "bb9f3ca2-f33d-4698-e359-d7822f1720b7"
   },
   "outputs": [
    {
     "name": "stdout",
     "output_type": "stream",
     "text": [
      "16184\n"
     ]
    }
   ],
   "source": [
    "crop_bots=bots.sample(math.floor(len(bal_df)*0.83))\n",
    "crop_humans=humans.sample(len(bal_df)-len(crop_bots))\n",
    "crop_df=crop_bots.append(crop_humans)\n",
    "print(len(crop_df))\n",
    "\n",
    "train_c, test_c = train_test_split(crop_df, test_size=0.2)\n",
    "\n",
    "train_c.to_json('./data/crop_unbal_train.json')\n",
    "test_c.to_json('./data/crop_unbal_test.json')\n"
   ]
  },
  {
   "cell_type": "markdown",
   "metadata": {
    "id": "2nc0v7kYftK4"
   },
   "source": [
    "Create an unbalanced dataset with more humans than bots"
   ]
  },
  {
   "cell_type": "code",
   "execution_count": 25,
   "metadata": {
    "id": "n_LGMT1afwfs"
   },
   "outputs": [],
   "source": [
    "less_bots=bots.sample(math.floor(len(humans)/0.83-len(humans)))\n",
    "more_humans=less_bots.append(humans)\n",
    "\n",
    "train_m, test_m = train_test_split(more_humans, test_size=0.2)\n",
    "\n",
    "train_m.to_json('./data/more_human_train.json')\n",
    "test_m.to_json('./data/more_human_test.json')"
   ]
  },
  {
   "cell_type": "code",
   "execution_count": null,
   "metadata": {},
   "outputs": [],
   "source": []
  }
 ],
 "metadata": {
  "colab": {
   "collapsed_sections": [],
   "name": "data.ipynb",
   "provenance": []
  },
  "kernelspec": {
   "display_name": "Python 3",
   "language": "python",
   "name": "python3"
  },
  "language_info": {
   "codemirror_mode": {
    "name": "ipython",
    "version": 3
   },
   "file_extension": ".py",
   "mimetype": "text/x-python",
   "name": "python",
   "nbconvert_exporter": "python",
   "pygments_lexer": "ipython3",
   "version": "3.8.5"
  }
 },
 "nbformat": 4,
 "nbformat_minor": 1
}
