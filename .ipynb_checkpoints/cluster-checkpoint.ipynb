{
 "cells": [
  {
   "cell_type": "markdown",
   "metadata": {
    "id": "d6G_zLB8KxrL"
   },
   "source": [
    "# The Clustering Methods\n",
    "1. K-Means\n",
    "2. Fuzzy C-means or EM\n",
    "4. DBScan\n",
    "5. Spectral"
   ]
  },
  {
   "cell_type": "markdown",
   "metadata": {
    "id": "4PPFT0W560sk"
   },
   "source": [
    "## Import the Data"
   ]
  },
  {
   "cell_type": "code",
   "execution_count": null,
   "metadata": {
    "colab": {
     "base_uri": "https://localhost:8080/"
    },
    "id": "PmzJDssKKOZ6",
    "outputId": "3ce292d7-42f6-40ba-bb12-1c30079c0eda"
   },
   "outputs": [
    {
     "name": "stdout",
     "output_type": "stream",
     "text": [
      "Drive already mounted at /content/gdrive; to attempt to forcibly remount, call drive.mount(\"/content/gdrive\", force_remount=True).\n",
      "/content/gdrive/Shareddrives/CSCI 5523 - Data Mining Final Project\n",
      " Balance_deprecated.ipynb   classification.ipynb   data\n",
      "'Bot Detection.gslides'     cluster_2.ipynb\t   data.ipynb\n",
      " botDetection.mp4\t    cluster.ipynb\t   Proposal.gdoc\n"
     ]
    }
   ],
   "source": [
    "import pandas as pd\n",
    "from sklearn.model_selection import train_test_split\n",
    "import math\n",
    "import numpy as np\n",
    "from sklearn.mixture import GaussianMixture\n",
    "from sklearn import cluster"
   ]
  },
  {
   "cell_type": "code",
   "execution_count": null,
   "metadata": {
    "id": "6SEUwNehS5bJ"
   },
   "outputs": [],
   "source": [
    "# Dataset 1\n",
    "unbal_train = pd.read_json('data/unbal_train.json').replace({'human': 0, 'bot':1})\n",
    "unbal_test = pd.read_json('data/unbal_test.json').replace({'human': 0, 'bot':1})\n",
    "# Dataset 2\n",
    "bal_train = pd.read_json('data/bal_train.json').replace({'human': 0, 'bot':1})\n",
    "bal_test = pd.read_json('data/bal_test.json').replace({'human': 0, 'bot':1})\n",
    "# Dataset 3\n",
    "crop_unbal_train = pd.read_json('data/crop_unbal_train.json').replace({'human': 0, 'bot':1})\n",
    "crop_unbal_test = pd.read_json('data/crop_unbal_test.json').replace({'human': 0, 'bot':1})\n",
    "# Dataset 4\n",
    "human_train = pd.read_json('data/more_human_train.json').replace({'human': 0, 'bot':1})\n",
    "human_test = pd.read_json('data/more_human_test.json').replace({'human': 0, 'bot':1})\n",
    "\n",
    "train_df = [unbal_train, bal_train, crop_unbal_train, human_train]\n",
    "test_df = [unbal_test, bal_test, crop_unbal_test, human_test]\n"
   ]
  },
  {
   "cell_type": "code",
   "execution_count": null,
   "metadata": {
    "id": "4PaECAU6NrEa"
   },
   "outputs": [],
   "source": [
    "from sklearn.metrics import accuracy_score, precision_score, recall_score, f1_score\n",
    "\n",
    "def print_analysis(test, predictions, label):\n",
    "  print(\"-----------------------------------\")\n",
    "  print('{} Accuracy score: {}'.format(label, accuracy_score(test, predictions)))\n",
    "  print('{} Precision score: {}'.format(label, precision_score(test, predictions)))\n",
    "  print('{} Recall score: {}'.format(label, recall_score(test, predictions)))\n",
    "  print('{} F1 score: {}'.format(label, f1_score(test, predictions)))\n",
    "  print(\"-----------------------------------\\n\")"
   ]
  },
  {
   "cell_type": "code",
   "execution_count": null,
   "metadata": {
    "id": "ucOyHS_NNsK0"
   },
   "outputs": [],
   "source": [
    "from sklearn.preprocessing import StandardScaler\n",
    "scaler = StandardScaler()\n",
    "\n",
    "# # UNBALANCED\n",
    "# x_train_u = train_u.to_numpy()[:,:-1].astype(int)   # all cols of train_u except for class label\n",
    "# x_train_u_scaled = scaler.fit_transform(x_train_u)\n",
    "\n",
    "# y_train_u = train_u.to_numpy()[:,-1].astype(int)    # only class label (last) column of train_u\n",
    "\n",
    "# x_test_u = test_u.to_numpy()[:,:-1].astype(int)   # all cols of test_u except for class label\n",
    "# x_test_u_scaled = scaler.transform(x_test_u)\n",
    "\n",
    "# y_test_u = test_u.to_numpy()[:,-1].astype(int)    # only class label (last) column of test_u\n",
    "\n",
    "# # BALANCED\n",
    "# x_train_b = train_b.to_numpy()[:,:-1].astype(int)   # all cols of train_b except for class label\n",
    "# x_train_b_scaled = scaler.fit_transform(x_train_b)\n",
    "\n",
    "# y_train_b = train_b.to_numpy()[:,-1].astype(int)    # only class label (last) column of train_b\n",
    "\n",
    "# x_test_b = test_b.to_numpy()[:,:-1].astype(int)   # all cols of test_b except for class label\n",
    "# x_test_b_scaled = scaler.transform(x_test_b)\n",
    "\n",
    "# y_test_b = test_b.to_numpy()[:,-1].astype(int)    # only class label (last) column of test_b\n",
    "\n",
    "train_data = []\n",
    "train_labels = []\n",
    "test_data = []\n",
    "test_labels = []\n",
    "for i in range(len(train_df)):\n",
    "  train = train_df[i]\n",
    "  test = test_df[i]\n",
    "  x_train = train.to_numpy()[:, :-1].astype(int)\n",
    "  x_train_scaled = scaler.fit_transform(x_train)\n",
    "  train_data.append(x_train_scaled)\n",
    "  y_train = train.to_numpy()[:, -1].astype(int)\n",
    "  train_labels.append(y_train)\n",
    "\n",
    "  x_test = test.to_numpy()[:, :-1].astype(int)\n",
    "  x_test_scaled = scaler.transform(x_test)\n",
    "  test_data.append(x_test_scaled)\n",
    "  y_test = test.to_numpy()[:, -1].astype(int)\n",
    "  test_labels.append(y_test)"
   ]
  },
  {
   "cell_type": "markdown",
   "metadata": {
    "id": "cXwrU5-77BEH"
   },
   "source": [
    "# K-Means Clustering"
   ]
  },
  {
   "cell_type": "markdown",
   "metadata": {
    "id": "_qXPLCXt7FEn"
   },
   "source": [
    "### K-means training and resulting centroids"
   ]
  },
  {
   "cell_type": "code",
   "execution_count": null,
   "metadata": {
    "colab": {
     "base_uri": "https://localhost:8080/"
    },
    "id": "VzTaWA6NN8O2",
    "outputId": "437bfb3c-cdfc-4ad8-9369-d9887514d7c4"
   },
   "outputs": [
    {
     "name": "stdout",
     "output_type": "stream",
     "text": [
      "Dataset 1\n",
      "   verified  geo_enabled  ...  favourites_count  statuses_count\n",
      "0 -0.089679    -0.237592  ...         -0.147124       -0.158361\n",
      "1  0.634291     1.680458  ...          1.040588        1.120071\n",
      "\n",
      "[2 rows x 9 columns]\n",
      "Dataset 2\n",
      "   verified  geo_enabled  ...  favourites_count  statuses_count\n",
      "0 -0.157993    -0.423617  ...         -0.236015       -0.253172\n",
      "1  0.344719     0.924274  ...          0.514952        0.552387\n",
      "\n",
      "[2 rows x 9 columns]\n",
      "Dataset 3\n",
      "   verified  geo_enabled  ...  favourites_count  statuses_count\n",
      "0 -0.093626    -0.240170  ...         -0.148566       -0.149068\n",
      "1  0.646861     1.659331  ...          1.026442        1.029911\n",
      "\n",
      "[2 rows x 9 columns]\n",
      "Dataset 4\n",
      "   verified  geo_enabled  ...  favourites_count  statuses_count\n",
      "0 -0.000607    -0.000138  ...          0.000056        0.000003\n",
      "1  4.735021     1.079716  ...         -0.435631       -0.024269\n",
      "\n",
      "[2 rows x 9 columns]\n"
     ]
    }
   ],
   "source": [
    "k_means = []\n",
    "for i in range(len(train_data)):\n",
    "  print('Dataset '+ str(i+1))\n",
    "  data = pd.DataFrame(train_data[i], columns = train_df[i].columns[:-1])\n",
    "  k = cluster.KMeans(n_clusters=2, max_iter=100, random_state=1)\n",
    "  k.fit(data)\n",
    "  k_means.append(k)\n",
    "  centroids = k.cluster_centers_\n",
    "  print(pd.DataFrame(centroids, columns=data.columns))\n",
    "\n",
    "# # K-means on Unbalanced Data\n",
    "# data = pd.DataFrame(x_train_u_scaled, columns=train_u.columns[:-1])\n",
    "# k_means = cluster.KMeans(n_clusters=2, max_iter=100, random_state=1)\n",
    "# k_means.fit(data) \n",
    "# labels = k_means.labels_\n",
    "# pd.DataFrame(labels, columns=['Cluster ID'])"
   ]
  },
  {
   "cell_type": "markdown",
   "metadata": {
    "id": "QncaKe_67Jp-"
   },
   "source": [
    "### Evalute Models on Training Data"
   ]
  },
  {
   "cell_type": "code",
   "execution_count": null,
   "metadata": {
    "colab": {
     "base_uri": "https://localhost:8080/"
    },
    "id": "E8uNRSo5p9wv",
    "outputId": "536ca2d1-b567-43e0-a2a4-69c8e6881123"
   },
   "outputs": [
    {
     "name": "stdout",
     "output_type": "stream",
     "text": [
      "Dataset 1\n",
      "-----------------------------------\n",
      "Training Accuracy score: 0.08318286378589626\n",
      "Training Precision score: 0.027502652989034312\n",
      "Training Recall score: 0.18630191693290735\n",
      "Training F1 score: 0.04792972362067194\n",
      "-----------------------------------\n",
      "\n",
      "-----------------------------------\n",
      "Training Flipped Accuracy score: 0.9168171362141038\n",
      "Training Flipped Precision score: 0.9724973470109657\n",
      "Training Flipped Recall score: 0.9313966291183197\n",
      "Training Flipped F1 score: 0.9515033528012112\n",
      "-----------------------------------\n",
      "\n",
      "Dataset 2\n",
      "-----------------------------------\n",
      "Training Accuracy score: 0.21387193944543137\n",
      "Training Precision score: 0.025629077353215284\n",
      "Training Recall score: 0.04054054054054054\n",
      "Training F1 score: 0.031404644080700414\n",
      "-----------------------------------\n",
      "\n",
      "-----------------------------------\n",
      "Training Flipped Accuracy score: 0.7861280605545686\n",
      "Training Flipped Precision score: 0.9743709226467847\n",
      "Training Flipped Recall score: 0.706657654613045\n",
      "Training Flipped F1 score: 0.8191968658178257\n",
      "-----------------------------------\n",
      "\n",
      "Dataset 3\n",
      "-----------------------------------\n",
      "Training Accuracy score: 0.08712443036996988\n",
      "Training Precision score: 0.025447427293064876\n",
      "Training Recall score: 0.16676847892486255\n",
      "Training F1 score: 0.044156894460169835\n",
      "-----------------------------------\n",
      "\n",
      "-----------------------------------\n",
      "Training Flipped Accuracy score: 0.9128755696300301\n",
      "Training Flipped Precision score: 0.9745525727069351\n",
      "Training Flipped Recall score: 0.9244031830238727\n",
      "Training Flipped F1 score: 0.9488156820038116\n",
      "-----------------------------------\n",
      "\n",
      "Dataset 4\n",
      "-----------------------------------\n",
      "Training Accuracy score: 0.8293370944992948\n",
      "Training Precision score: 0.0\n",
      "Training Recall score: 0.0\n",
      "Training F1 score: 0.0\n",
      "-----------------------------------\n",
      "\n",
      "-----------------------------------\n",
      "Training Flipped Accuracy score: 0.17066290550070523\n",
      "Training Flipped Precision score: 1.0\n",
      "Training Flipped Recall score: 0.17055655296229802\n",
      "Training Flipped F1 score: 0.29141104294478526\n",
      "-----------------------------------\n",
      "\n"
     ]
    }
   ],
   "source": [
    "for i in range(len(k_means)):\n",
    "  print('Dataset '+ str(i+1))\n",
    "  k = k_means[i]\n",
    "  labels = np.uint(k.predict(train_data[i]))\n",
    "  # flip the labels since the random assignment got them backwards\n",
    "  labels_flipped = np.logical_not(labels).astype(int)\n",
    "  print_analysis(labels, train_labels[i], 'Training')\n",
    "  print_analysis(labels_flipped, train_labels[i], 'Training Flipped')\n",
    "\n",
    "\n",
    "# # Evaluate on training data\n",
    "# labels = k_means.predict(x_train_u_scaled)\n",
    "# labels = labels.reshape(-1, 1)\n",
    "# cols = train_u.columns.tolist()\n",
    "# cols.append('Cluster ID')\n",
    "# check = pd.DataFrame(np.concatenate((train_u, labels), axis=1), columns=cols)\n",
    "# check"
   ]
  },
  {
   "cell_type": "markdown",
   "metadata": {
    "id": "-iPh2TEb7NpQ"
   },
   "source": [
    "### Evaluate Model on Testing Data"
   ]
  },
  {
   "cell_type": "code",
   "execution_count": null,
   "metadata": {
    "colab": {
     "base_uri": "https://localhost:8080/"
    },
    "id": "INammp1ctT0Y",
    "outputId": "33030ac9-0c98-4960-afb2-80e96af1caa5"
   },
   "outputs": [
    {
     "name": "stdout",
     "output_type": "stream",
     "text": [
      "Dataset 1\n",
      "-----------------------------------\n",
      "Testing Accuracy score: 0.07785912148793035\n",
      "Testing Precision score: 0.024644994718929704\n",
      "Testing Recall score: 0.1721311475409836\n",
      "Testing F1 score: 0.043116723129042196\n",
      "-----------------------------------\n",
      "\n",
      "-----------------------------------\n",
      "Testing Flipped Accuracy score: 0.9221408785120696\n",
      "Testing Flipped Precision score: 0.9753550052810703\n",
      "Testing Flipped Recall score: 0.9350810081008101\n",
      "Testing Flipped F1 score: 0.9547934976161756\n",
      "-----------------------------------\n",
      "\n",
      "Dataset 2\n",
      "-----------------------------------\n",
      "Testing Accuracy score: 0.19894964473277726\n",
      "Testing Precision score: 0.02599758162031439\n",
      "Testing Recall score: 0.041951219512195125\n",
      "Testing F1 score: 0.03210153042179919\n",
      "-----------------------------------\n",
      "\n",
      "-----------------------------------\n",
      "Testing Flipped Accuracy score: 0.8010503552672228\n",
      "Testing Flipped Precision score: 0.9740024183796856\n",
      "Testing Flipped Recall score: 0.7283001808318263\n",
      "Testing Flipped F1 score: 0.8334195550957061\n",
      "-----------------------------------\n",
      "\n",
      "Dataset 3\n",
      "-----------------------------------\n",
      "Testing Accuracy score: 0.08804448563484708\n",
      "Testing Precision score: 0.03143491124260355\n",
      "Testing Recall score: 0.20334928229665072\n",
      "Testing F1 score: 0.05445227418321589\n",
      "-----------------------------------\n",
      "\n",
      "-----------------------------------\n",
      "Testing Flipped Accuracy score: 0.9119555143651529\n",
      "Testing Flipped Precision score: 0.9685650887573964\n",
      "Testing Flipped Recall score: 0.9290528556225612\n",
      "Testing Flipped F1 score: 0.9483976099945681\n",
      "-----------------------------------\n",
      "\n",
      "Dataset 4\n",
      "-----------------------------------\n",
      "Testing Accuracy score: 0.8323076923076923\n",
      "Testing Precision score: 0.0\n",
      "Testing Recall score: 0.0\n",
      "Testing F1 score: 0.0\n",
      "-----------------------------------\n",
      "\n",
      "-----------------------------------\n",
      "Testing Flipped Accuracy score: 0.1676923076923077\n",
      "Testing Flipped Precision score: 1.0\n",
      "Testing Flipped Recall score: 0.1676923076923077\n",
      "Testing Flipped F1 score: 0.2872200263504611\n",
      "-----------------------------------\n",
      "\n"
     ]
    },
    {
     "name": "stderr",
     "output_type": "stream",
     "text": [
      "/usr/local/lib/python3.7/dist-packages/sklearn/metrics/_classification.py:1272: UndefinedMetricWarning: Recall is ill-defined and being set to 0.0 due to no true samples. Use `zero_division` parameter to control this behavior.\n",
      "  _warn_prf(average, modifier, msg_start, len(result))\n"
     ]
    }
   ],
   "source": [
    "for i in range(len(k_means)):\n",
    "  print('Dataset '+ str(i+1))\n",
    "  k = k_means[i]\n",
    "  labels = np.uint(k.predict(test_data[i]))\n",
    "  # flip the labels since the random assignment got them backwards\n",
    "  labels_flipped = np.logical_not(labels).astype(int)\n",
    "  print_analysis(labels, test_labels[i], 'Testing')\n",
    "  print_analysis(labels_flipped, test_labels[i], 'Testing Flipped')\n",
    "\n"
   ]
  },
  {
   "cell_type": "markdown",
   "metadata": {
    "id": "Esp5JNJK6qXZ"
   },
   "source": [
    "# Prototype-Based Model: Gaussian Mixture"
   ]
  },
  {
   "cell_type": "markdown",
   "metadata": {
    "id": "4Fx83FRh7dv5"
   },
   "source": [
    "### Gaussian Mixture training and resulting centroids"
   ]
  },
  {
   "cell_type": "code",
   "execution_count": null,
   "metadata": {
    "colab": {
     "base_uri": "https://localhost:8080/"
    },
    "id": "HEai_g_56wQO",
    "outputId": "a016227e-33aa-4181-c3e4-5f2a6b6c721a"
   },
   "outputs": [
    {
     "name": "stdout",
     "output_type": "stream",
     "text": [
      "Dataset 1\n",
      "   verified  geo_enabled  ...  favourites_count  statuses_count\n",
      "0 -0.077743    -0.219195  ...         -0.111328       -0.134562\n",
      "1  0.767573     2.164166  ...          1.099164        1.328558\n",
      "\n",
      "[2 rows x 9 columns]\n",
      "Dataset 2\n",
      "   verified  geo_enabled  ...  favourites_count  statuses_count\n",
      "0 -0.167663    -0.200376  ...         -0.221606       -0.232353\n",
      "1  0.526870     0.629668  ...          0.696383        0.730155\n",
      "\n",
      "[2 rows x 9 columns]\n",
      "Dataset 3\n",
      "   verified  geo_enabled  ...  favourites_count  statuses_count\n",
      "0 -0.095495    -0.328203  ...         -0.187164       -0.173137\n",
      "1  0.395642     1.359770  ...          0.775435        0.717318\n",
      "\n",
      "[2 rows x 9 columns]\n",
      "Dataset 4\n",
      "   verified  geo_enabled  ...  favourites_count  statuses_count\n",
      "0  0.540536     0.214335  ...          0.307285        0.379966\n",
      "1 -0.211192    -0.083742  ...         -0.120059       -0.148456\n",
      "\n",
      "[2 rows x 9 columns]\n"
     ]
    }
   ],
   "source": [
    "gaussian = []\n",
    "for i in range(len(train_data)):\n",
    "  print('Dataset '+ str(i+1))\n",
    "  data = pd.DataFrame(train_data[i], columns = train_df[i].columns[:-1])\n",
    "  gm = GaussianMixture(n_components=2, random_state=1).fit(data)\n",
    "  gaussian.append(gm)\n",
    "  centroids = gm.means_\n",
    "  print(pd.DataFrame(centroids, columns=data.columns))"
   ]
  },
  {
   "cell_type": "markdown",
   "metadata": {
    "id": "J_duRq2V-VDX"
   },
   "source": [
    "### Evaluate on Training Data"
   ]
  },
  {
   "cell_type": "code",
   "execution_count": null,
   "metadata": {
    "colab": {
     "base_uri": "https://localhost:8080/"
    },
    "id": "LSP8bP37-QK3",
    "outputId": "5271e577-b4a6-48bd-e86e-5e6cdfa49064"
   },
   "outputs": [
    {
     "name": "stdout",
     "output_type": "stream",
     "text": [
      "Dataset 1\n",
      "-----------------------------------\n",
      "Training Accuracy score: 0.06980138019738306\n",
      "Training Precision score: 0.0005305978068623983\n",
      "Training Recall score: 0.004840010755579457\n",
      "Training F1 score: 0.000956353106819329\n",
      "-----------------------------------\n",
      "\n",
      "-----------------------------------\n",
      "Training Flipped Accuracy score: 0.930198619802617\n",
      "Training Flipped Precision score: 0.9994694021931376\n",
      "Training Flipped Recall score: 0.9236175429038409\n",
      "Training Flipped F1 score: 0.9600475691593283\n",
      "-----------------------------------\n",
      "\n",
      "Dataset 2\n",
      "-----------------------------------\n",
      "Training Accuracy score: 0.28693905924152313\n",
      "Training Precision score: 0.026250388319353838\n",
      "Training Recall score: 0.05395913154533844\n",
      "Training F1 score: 0.03531870428422153\n",
      "-----------------------------------\n",
      "\n",
      "-----------------------------------\n",
      "Training Flipped Accuracy score: 0.7130609407584768\n",
      "Training Flipped Precision score: 0.9737496116806461\n",
      "Training Flipped Recall score: 0.6387162506367804\n",
      "Training Flipped F1 score: 0.7714268135113517\n",
      "-----------------------------------\n",
      "\n",
      "Dataset 3\n",
      "-----------------------------------\n",
      "Training Accuracy score: 0.05020468062099328\n",
      "Training Precision score: 0.04427665920954511\n",
      "Training Recall score: 0.1885668916236602\n",
      "Training F1 score: 0.07171435041896279\n",
      "-----------------------------------\n",
      "\n",
      "-----------------------------------\n",
      "Training Flipped Accuracy score: 0.9497953193790067\n",
      "Training Flipped Precision score: 0.9557233407904548\n",
      "Training Flipped Recall score: 0.9832182585347142\n",
      "Training Flipped F1 score: 0.9692758555492532\n",
      "-----------------------------------\n",
      "\n",
      "Dataset 4\n",
      "-----------------------------------\n",
      "Training Accuracy score: 0.44210796255930246\n",
      "Training Precision score: 0.9721804511278196\n",
      "Training Recall score: 0.23060460139111824\n",
      "Training F1 score: 0.3727836240449762\n",
      "-----------------------------------\n",
      "\n",
      "-----------------------------------\n",
      "Training Flipped Accuracy score: 0.5578920374406975\n",
      "Training Flipped Precision score: 0.027819548872180452\n",
      "Training Flipped Recall score: 0.01687956204379562\n",
      "Training Flipped F1 score: 0.021010789324247586\n",
      "-----------------------------------\n",
      "\n"
     ]
    }
   ],
   "source": [
    "for i in range(len(gaussian)):\n",
    "  print('Dataset '+ str(i+1))\n",
    "  gm = gaussian[i]\n",
    "  labels = np.uint(gm.predict(train_data[i]))\n",
    "  # flip the labels since the random assignment got them backwards\n",
    "  labels_flipped = np.logical_not(labels).astype(int)\n",
    "  print_analysis(labels, train_labels[i], 'Training')\n",
    "  print_analysis(labels_flipped, train_labels[i], 'Training Flipped')\n"
   ]
  },
  {
   "cell_type": "markdown",
   "metadata": {
    "id": "tqR7uIAa-71d"
   },
   "source": [
    "### Evaluate on Testing Data"
   ]
  },
  {
   "cell_type": "code",
   "execution_count": null,
   "metadata": {
    "colab": {
     "base_uri": "https://localhost:8080/"
    },
    "id": "bOaNrVQa-4TW",
    "outputId": "9aca3b26-cfd8-4d40-871f-64074466fdd9"
   },
   "outputs": [
    {
     "name": "stdout",
     "output_type": "stream",
     "text": [
      "Dataset 1\n",
      "-----------------------------------\n",
      "Training Accuracy score: 0.06519588444796201\n",
      "Training Precision score: 0.0002347142354183781\n",
      "Training Recall score: 0.002145922746781116\n",
      "Training F1 score: 0.0004231460911879826\n",
      "-----------------------------------\n",
      "\n",
      "-----------------------------------\n",
      "Training Flipped Accuracy score: 0.934804115552038\n",
      "Training Flipped Precision score: 0.9997652857645816\n",
      "Training Flipped Recall score: 0.9284001743679163\n",
      "Training Flipped F1 score: 0.9627620500649827\n",
      "-----------------------------------\n",
      "\n",
      "Dataset 2\n",
      "-----------------------------------\n",
      "Training Accuracy score: 0.2829780661105962\n",
      "Training Precision score: 0.02781136638452237\n",
      "Training Recall score: 0.06060606060606061\n",
      "Training F1 score: 0.03812681309573145\n",
      "-----------------------------------\n",
      "\n",
      "-----------------------------------\n",
      "Training Flipped Accuracy score: 0.7170219338894037\n",
      "Training Flipped Precision score: 0.9721886336154776\n",
      "Training Flipped Recall score: 0.648910411622276\n",
      "Training Flipped F1 score: 0.7783155856727976\n",
      "-----------------------------------\n",
      "\n",
      "Dataset 3\n",
      "-----------------------------------\n",
      "Training Accuracy score: 0.05004633920296571\n",
      "Training Precision score: 0.04807692307692308\n",
      "Training Recall score: 0.20602218700475436\n",
      "Training F1 score: 0.07796101949025487\n",
      "-----------------------------------\n",
      "\n",
      "-----------------------------------\n",
      "Training Flipped Accuracy score: 0.9499536607970342\n",
      "Training Flipped Precision score: 0.9519230769230769\n",
      "Training Flipped Recall score: 0.9877206446661551\n",
      "Training Flipped F1 score: 0.9694915254237289\n",
      "-----------------------------------\n",
      "\n",
      "Dataset 4\n",
      "-----------------------------------\n",
      "Training Accuracy score: 0.44051282051282054\n",
      "Training Precision score: 0.9724770642201835\n",
      "Training Recall score: 0.22714285714285715\n",
      "Training F1 score: 0.3682686740011581\n",
      "-----------------------------------\n",
      "\n",
      "-----------------------------------\n",
      "Training Flipped Accuracy score: 0.5594871794871795\n",
      "Training Flipped Precision score: 0.027522935779816515\n",
      "Training Flipped Recall score: 0.016363636363636365\n",
      "Training Flipped F1 score: 0.02052451539338655\n",
      "-----------------------------------\n",
      "\n"
     ]
    }
   ],
   "source": [
    "for i in range(len(gaussian)):\n",
    "  print('Dataset '+ str(i+1))\n",
    "  gm = gaussian[i]\n",
    "  labels = np.uint(gm.predict(test_data[i]))\n",
    "  # flip the labels since the random assignment got them backwards\n",
    "  labels_flipped = np.logical_not(labels).astype(int)\n",
    "  print_analysis(labels, test_labels[i], 'Testing')\n",
    "  print_analysis(labels_flipped, test_labels[i], 'Testing Flipped')"
   ]
  },
  {
   "cell_type": "markdown",
   "metadata": {
    "id": "ViBHJj0asC2U"
   },
   "source": [
    "# Check for outliers"
   ]
  },
  {
   "cell_type": "code",
   "execution_count": null,
   "metadata": {
    "colab": {
     "base_uri": "https://localhost:8080/"
    },
    "id": "YA3TXpPkLdD5",
    "outputId": "c49448d3-0698-43cc-d4e0-d2d12ebd205d"
   },
   "outputs": [
    {
     "data": {
      "text/plain": [
       "0    8208\n",
       "1    1900\n",
       "Name: Cluster ID, dtype: int64"
      ]
     },
     "execution_count": 26,
     "metadata": {
      "tags": []
     },
     "output_type": "execute_result"
    }
   ],
   "source": [
    "cols = train_df[0].columns.tolist()\n",
    "cols.append('Cluster ID')\n",
    "check = pd.DataFrame(np.concatenate((train_data[-1], labels), axis=1), columns=cols)\n",
    "check['Cluster ID'].value_counts()"
   ]
  },
  {
   "cell_type": "markdown",
   "metadata": {
    "id": "pQhAYdQXLbPP"
   },
   "source": [
    "This appears to struggling with a single outlier so what if we remove it"
   ]
  },
  {
   "cell_type": "code",
   "execution_count": null,
   "metadata": {
    "id": "rze-9DMELvV2"
   },
   "outputs": [],
   "source": [
    "train_u_new = train_u.drop(train_u.index[17007])\n",
    "x_train_u_new = train_u_new.to_numpy()[:,:-1].astype(int)\n",
    "x_train_u_new_scaled = scaler.fit_transform(x_train_u_new)\n",
    "y_train_u_new = train_u_new.to_numpy()[:,-1].astype(int)\n",
    "\n",
    "x_test_u_new_scaled = scaler.transform(x_test_u)"
   ]
  },
  {
   "cell_type": "code",
   "execution_count": null,
   "metadata": {
    "colab": {
     "base_uri": "https://localhost:8080/"
    },
    "id": "BsemOtLMNP7p",
    "outputId": "93f2ff57-dec6-462d-f7e6-b4a7ac431591"
   },
   "outputs": [
    {
     "data": {
      "text/plain": [
       "array([[-0.09412137, -0.31914039,  0.25360375,  0.38436984, -0.01097372,\n",
       "        -0.08258622, -0.03375535, -0.17752917, -0.17573083],\n",
       "       [ 0.41520221,  1.4078396 , -1.1187346 , -1.69558947,  0.04840892,\n",
       "         0.36431661,  0.14890661,  0.78314308,  0.77520998]])"
      ]
     },
     "execution_count": 39,
     "metadata": {
      "tags": []
     },
     "output_type": "execute_result"
    }
   ],
   "source": [
    "gm = GaussianMixture(n_components=2, random_state=0).fit(x_train_u_new_scaled)\n",
    "gm.means_"
   ]
  },
  {
   "cell_type": "markdown",
   "metadata": {
    "id": "gFkajSp1OqJw"
   },
   "source": [
    "### Evaluate on Training Data"
   ]
  },
  {
   "cell_type": "code",
   "execution_count": null,
   "metadata": {
    "colab": {
     "base_uri": "https://localhost:8080/",
     "height": 424
    },
    "id": "8g7RNKXeOubV",
    "outputId": "36d9667c-1940-4f1d-db23-f3df6be557ca"
   },
   "outputs": [
    {
     "data": {
      "text/html": [
       "<div>\n",
       "<style scoped>\n",
       "    .dataframe tbody tr th:only-of-type {\n",
       "        vertical-align: middle;\n",
       "    }\n",
       "\n",
       "    .dataframe tbody tr th {\n",
       "        vertical-align: top;\n",
       "    }\n",
       "\n",
       "    .dataframe thead th {\n",
       "        text-align: right;\n",
       "    }\n",
       "</style>\n",
       "<table border=\"1\" class=\"dataframe\">\n",
       "  <thead>\n",
       "    <tr style=\"text-align: right;\">\n",
       "      <th></th>\n",
       "      <th>verified</th>\n",
       "      <th>geo_enabled</th>\n",
       "      <th>profile_use_background_image</th>\n",
       "      <th>default_profile</th>\n",
       "      <th>followers_count</th>\n",
       "      <th>friends_count</th>\n",
       "      <th>listed_count</th>\n",
       "      <th>favourites_count</th>\n",
       "      <th>statuses_count</th>\n",
       "      <th>bot</th>\n",
       "      <th>Cluster ID</th>\n",
       "    </tr>\n",
       "  </thead>\n",
       "  <tbody>\n",
       "    <tr>\n",
       "      <th>0</th>\n",
       "      <td>False</td>\n",
       "      <td>False</td>\n",
       "      <td>True</td>\n",
       "      <td>True</td>\n",
       "      <td>1629</td>\n",
       "      <td>1644</td>\n",
       "      <td>0</td>\n",
       "      <td>76</td>\n",
       "      <td>1375</td>\n",
       "      <td>0</td>\n",
       "      <td>1</td>\n",
       "    </tr>\n",
       "    <tr>\n",
       "      <th>1</th>\n",
       "      <td>False</td>\n",
       "      <td>False</td>\n",
       "      <td>True</td>\n",
       "      <td>False</td>\n",
       "      <td>136</td>\n",
       "      <td>339</td>\n",
       "      <td>14</td>\n",
       "      <td>14474</td>\n",
       "      <td>7915</td>\n",
       "      <td>0</td>\n",
       "      <td>1</td>\n",
       "    </tr>\n",
       "    <tr>\n",
       "      <th>2</th>\n",
       "      <td>False</td>\n",
       "      <td>False</td>\n",
       "      <td>True</td>\n",
       "      <td>True</td>\n",
       "      <td>0</td>\n",
       "      <td>0</td>\n",
       "      <td>0</td>\n",
       "      <td>0</td>\n",
       "      <td>1</td>\n",
       "      <td>1</td>\n",
       "      <td>0</td>\n",
       "    </tr>\n",
       "    <tr>\n",
       "      <th>3</th>\n",
       "      <td>False</td>\n",
       "      <td>False</td>\n",
       "      <td>True</td>\n",
       "      <td>True</td>\n",
       "      <td>2</td>\n",
       "      <td>0</td>\n",
       "      <td>0</td>\n",
       "      <td>0</td>\n",
       "      <td>103</td>\n",
       "      <td>1</td>\n",
       "      <td>0</td>\n",
       "    </tr>\n",
       "    <tr>\n",
       "      <th>4</th>\n",
       "      <td>False</td>\n",
       "      <td>False</td>\n",
       "      <td>True</td>\n",
       "      <td>True</td>\n",
       "      <td>0</td>\n",
       "      <td>0</td>\n",
       "      <td>0</td>\n",
       "      <td>0</td>\n",
       "      <td>37</td>\n",
       "      <td>1</td>\n",
       "      <td>0</td>\n",
       "    </tr>\n",
       "    <tr>\n",
       "      <th>...</th>\n",
       "      <td>...</td>\n",
       "      <td>...</td>\n",
       "      <td>...</td>\n",
       "      <td>...</td>\n",
       "      <td>...</td>\n",
       "      <td>...</td>\n",
       "      <td>...</td>\n",
       "      <td>...</td>\n",
       "      <td>...</td>\n",
       "      <td>...</td>\n",
       "      <td>...</td>\n",
       "    </tr>\n",
       "    <tr>\n",
       "      <th>40423</th>\n",
       "      <td>False</td>\n",
       "      <td>False</td>\n",
       "      <td>True</td>\n",
       "      <td>True</td>\n",
       "      <td>12</td>\n",
       "      <td>116</td>\n",
       "      <td>0</td>\n",
       "      <td>109</td>\n",
       "      <td>92</td>\n",
       "      <td>1</td>\n",
       "      <td>0</td>\n",
       "    </tr>\n",
       "    <tr>\n",
       "      <th>40424</th>\n",
       "      <td>False</td>\n",
       "      <td>False</td>\n",
       "      <td>True</td>\n",
       "      <td>True</td>\n",
       "      <td>0</td>\n",
       "      <td>0</td>\n",
       "      <td>0</td>\n",
       "      <td>0</td>\n",
       "      <td>15</td>\n",
       "      <td>1</td>\n",
       "      <td>0</td>\n",
       "    </tr>\n",
       "    <tr>\n",
       "      <th>40425</th>\n",
       "      <td>False</td>\n",
       "      <td>False</td>\n",
       "      <td>True</td>\n",
       "      <td>True</td>\n",
       "      <td>0</td>\n",
       "      <td>0</td>\n",
       "      <td>0</td>\n",
       "      <td>0</td>\n",
       "      <td>59</td>\n",
       "      <td>1</td>\n",
       "      <td>0</td>\n",
       "    </tr>\n",
       "    <tr>\n",
       "      <th>40426</th>\n",
       "      <td>False</td>\n",
       "      <td>False</td>\n",
       "      <td>True</td>\n",
       "      <td>True</td>\n",
       "      <td>0</td>\n",
       "      <td>55</td>\n",
       "      <td>0</td>\n",
       "      <td>0</td>\n",
       "      <td>8</td>\n",
       "      <td>1</td>\n",
       "      <td>0</td>\n",
       "    </tr>\n",
       "    <tr>\n",
       "      <th>40427</th>\n",
       "      <td>False</td>\n",
       "      <td>False</td>\n",
       "      <td>True</td>\n",
       "      <td>True</td>\n",
       "      <td>0</td>\n",
       "      <td>0</td>\n",
       "      <td>0</td>\n",
       "      <td>0</td>\n",
       "      <td>7</td>\n",
       "      <td>1</td>\n",
       "      <td>0</td>\n",
       "    </tr>\n",
       "  </tbody>\n",
       "</table>\n",
       "<p>40428 rows × 11 columns</p>\n",
       "</div>"
      ],
      "text/plain": [
       "      verified geo_enabled  ... bot Cluster ID\n",
       "0        False       False  ...   0          1\n",
       "1        False       False  ...   0          1\n",
       "2        False       False  ...   1          0\n",
       "3        False       False  ...   1          0\n",
       "4        False       False  ...   1          0\n",
       "...        ...         ...  ...  ..        ...\n",
       "40423    False       False  ...   1          0\n",
       "40424    False       False  ...   1          0\n",
       "40425    False       False  ...   1          0\n",
       "40426    False       False  ...   1          0\n",
       "40427    False       False  ...   1          0\n",
       "\n",
       "[40428 rows x 11 columns]"
      ]
     },
     "execution_count": 40,
     "metadata": {
      "tags": []
     },
     "output_type": "execute_result"
    }
   ],
   "source": [
    "labels = gm.predict(x_train_u_new_scaled)\n",
    "labels = labels.reshape(-1, 1)\n",
    "cols = test_u.columns.tolist()\n",
    "cols.append('Cluster ID')\n",
    "check = pd.DataFrame(np.concatenate((train_u_new, labels), axis=1), columns=cols)\n",
    "check\n"
   ]
  },
  {
   "cell_type": "code",
   "execution_count": null,
   "metadata": {
    "colab": {
     "base_uri": "https://localhost:8080/"
    },
    "id": "YAzEQKiwPBoi",
    "outputId": "c664d6c3-72fa-429f-d317-a7d1060f46ed"
   },
   "outputs": [
    {
     "name": "stdout",
     "output_type": "stream",
     "text": [
      "-----------------------------------\n",
      "Training Accuracy score: 0.951246660730187\n",
      "Training Precision score: 0.956130020021199\n",
      "Training Recall score: 0.9854043392504931\n",
      "Training F1 score: 0.9705464815672679\n",
      "-----------------------------------\n",
      "\n"
     ]
    }
   ],
   "source": [
    "labels = np.uint(gm.predict(x_train_u_new_scaled))\n",
    "# flip the labels since the random assignment got them backwards\n",
    "labels_flipped = np.logical_not(labels).astype(int)\n",
    "print_analysis(labels_flipped, y_train_u_new, 'Training')"
   ]
  },
  {
   "cell_type": "markdown",
   "metadata": {
    "id": "au3rrd6nPKUc"
   },
   "source": [
    "### Evaluate on Testing Data"
   ]
  },
  {
   "cell_type": "code",
   "execution_count": null,
   "metadata": {
    "colab": {
     "base_uri": "https://localhost:8080/",
     "height": 424
    },
    "id": "SvVb1lbtPM3k",
    "outputId": "292ec021-d30e-4b68-ce60-24ddf76a81c5"
   },
   "outputs": [
    {
     "data": {
      "text/html": [
       "<div>\n",
       "<style scoped>\n",
       "    .dataframe tbody tr th:only-of-type {\n",
       "        vertical-align: middle;\n",
       "    }\n",
       "\n",
       "    .dataframe tbody tr th {\n",
       "        vertical-align: top;\n",
       "    }\n",
       "\n",
       "    .dataframe thead th {\n",
       "        text-align: right;\n",
       "    }\n",
       "</style>\n",
       "<table border=\"1\" class=\"dataframe\">\n",
       "  <thead>\n",
       "    <tr style=\"text-align: right;\">\n",
       "      <th></th>\n",
       "      <th>verified</th>\n",
       "      <th>geo_enabled</th>\n",
       "      <th>profile_use_background_image</th>\n",
       "      <th>default_profile</th>\n",
       "      <th>followers_count</th>\n",
       "      <th>friends_count</th>\n",
       "      <th>listed_count</th>\n",
       "      <th>favourites_count</th>\n",
       "      <th>statuses_count</th>\n",
       "      <th>bot</th>\n",
       "      <th>Cluster ID</th>\n",
       "    </tr>\n",
       "  </thead>\n",
       "  <tbody>\n",
       "    <tr>\n",
       "      <th>0</th>\n",
       "      <td>False</td>\n",
       "      <td>False</td>\n",
       "      <td>True</td>\n",
       "      <td>True</td>\n",
       "      <td>206</td>\n",
       "      <td>201</td>\n",
       "      <td>0</td>\n",
       "      <td>7</td>\n",
       "      <td>151</td>\n",
       "      <td>1</td>\n",
       "      <td>0</td>\n",
       "    </tr>\n",
       "    <tr>\n",
       "      <th>1</th>\n",
       "      <td>False</td>\n",
       "      <td>False</td>\n",
       "      <td>True</td>\n",
       "      <td>True</td>\n",
       "      <td>1</td>\n",
       "      <td>3</td>\n",
       "      <td>0</td>\n",
       "      <td>2</td>\n",
       "      <td>14</td>\n",
       "      <td>1</td>\n",
       "      <td>0</td>\n",
       "    </tr>\n",
       "    <tr>\n",
       "      <th>2</th>\n",
       "      <td>False</td>\n",
       "      <td>False</td>\n",
       "      <td>True</td>\n",
       "      <td>True</td>\n",
       "      <td>0</td>\n",
       "      <td>0</td>\n",
       "      <td>0</td>\n",
       "      <td>0</td>\n",
       "      <td>3</td>\n",
       "      <td>1</td>\n",
       "      <td>0</td>\n",
       "    </tr>\n",
       "    <tr>\n",
       "      <th>3</th>\n",
       "      <td>False</td>\n",
       "      <td>False</td>\n",
       "      <td>True</td>\n",
       "      <td>True</td>\n",
       "      <td>0</td>\n",
       "      <td>0</td>\n",
       "      <td>0</td>\n",
       "      <td>0</td>\n",
       "      <td>21</td>\n",
       "      <td>1</td>\n",
       "      <td>0</td>\n",
       "    </tr>\n",
       "    <tr>\n",
       "      <th>4</th>\n",
       "      <td>False</td>\n",
       "      <td>False</td>\n",
       "      <td>True</td>\n",
       "      <td>True</td>\n",
       "      <td>0</td>\n",
       "      <td>0</td>\n",
       "      <td>0</td>\n",
       "      <td>0</td>\n",
       "      <td>44</td>\n",
       "      <td>1</td>\n",
       "      <td>0</td>\n",
       "    </tr>\n",
       "    <tr>\n",
       "      <th>...</th>\n",
       "      <td>...</td>\n",
       "      <td>...</td>\n",
       "      <td>...</td>\n",
       "      <td>...</td>\n",
       "      <td>...</td>\n",
       "      <td>...</td>\n",
       "      <td>...</td>\n",
       "      <td>...</td>\n",
       "      <td>...</td>\n",
       "      <td>...</td>\n",
       "      <td>...</td>\n",
       "    </tr>\n",
       "    <tr>\n",
       "      <th>10103</th>\n",
       "      <td>False</td>\n",
       "      <td>False</td>\n",
       "      <td>True</td>\n",
       "      <td>True</td>\n",
       "      <td>5</td>\n",
       "      <td>62</td>\n",
       "      <td>0</td>\n",
       "      <td>9</td>\n",
       "      <td>4</td>\n",
       "      <td>1</td>\n",
       "      <td>0</td>\n",
       "    </tr>\n",
       "    <tr>\n",
       "      <th>10104</th>\n",
       "      <td>False</td>\n",
       "      <td>False</td>\n",
       "      <td>True</td>\n",
       "      <td>False</td>\n",
       "      <td>5524</td>\n",
       "      <td>347</td>\n",
       "      <td>131</td>\n",
       "      <td>321</td>\n",
       "      <td>8319</td>\n",
       "      <td>0</td>\n",
       "      <td>1</td>\n",
       "    </tr>\n",
       "    <tr>\n",
       "      <th>10105</th>\n",
       "      <td>False</td>\n",
       "      <td>False</td>\n",
       "      <td>True</td>\n",
       "      <td>True</td>\n",
       "      <td>0</td>\n",
       "      <td>0</td>\n",
       "      <td>0</td>\n",
       "      <td>0</td>\n",
       "      <td>33</td>\n",
       "      <td>1</td>\n",
       "      <td>0</td>\n",
       "    </tr>\n",
       "    <tr>\n",
       "      <th>10106</th>\n",
       "      <td>False</td>\n",
       "      <td>False</td>\n",
       "      <td>True</td>\n",
       "      <td>True</td>\n",
       "      <td>2</td>\n",
       "      <td>217</td>\n",
       "      <td>0</td>\n",
       "      <td>0</td>\n",
       "      <td>43</td>\n",
       "      <td>1</td>\n",
       "      <td>0</td>\n",
       "    </tr>\n",
       "    <tr>\n",
       "      <th>10107</th>\n",
       "      <td>False</td>\n",
       "      <td>False</td>\n",
       "      <td>True</td>\n",
       "      <td>True</td>\n",
       "      <td>0</td>\n",
       "      <td>0</td>\n",
       "      <td>0</td>\n",
       "      <td>0</td>\n",
       "      <td>39</td>\n",
       "      <td>1</td>\n",
       "      <td>0</td>\n",
       "    </tr>\n",
       "  </tbody>\n",
       "</table>\n",
       "<p>10108 rows × 11 columns</p>\n",
       "</div>"
      ],
      "text/plain": [
       "      verified geo_enabled  ... bot Cluster ID\n",
       "0        False       False  ...   1          0\n",
       "1        False       False  ...   1          0\n",
       "2        False       False  ...   1          0\n",
       "3        False       False  ...   1          0\n",
       "4        False       False  ...   1          0\n",
       "...        ...         ...  ...  ..        ...\n",
       "10103    False       False  ...   1          0\n",
       "10104    False       False  ...   0          1\n",
       "10105    False       False  ...   1          0\n",
       "10106    False       False  ...   1          0\n",
       "10107    False       False  ...   1          0\n",
       "\n",
       "[10108 rows x 11 columns]"
      ]
     },
     "execution_count": 42,
     "metadata": {
      "tags": []
     },
     "output_type": "execute_result"
    }
   ],
   "source": [
    "labels = gm.predict(x_test_u_new_scaled)\n",
    "labels = labels.reshape(-1, 1)\n",
    "cols = test_u.columns.tolist()\n",
    "cols.append('Cluster ID')\n",
    "check = pd.DataFrame(np.concatenate((test_u, labels), axis=1), columns=cols)\n",
    "check"
   ]
  },
  {
   "cell_type": "code",
   "execution_count": null,
   "metadata": {
    "colab": {
     "base_uri": "https://localhost:8080/"
    },
    "id": "A9b5r8blPa7P",
    "outputId": "eda1ba41-0126-481b-f496-ae829de42624"
   },
   "outputs": [
    {
     "name": "stdout",
     "output_type": "stream",
     "text": [
      "-----------------------------------\n",
      "Testing Accuracy score: 0.9531064503363672\n",
      "Testing Precision score: 0.9583726415094339\n",
      "Testing Recall score: 0.9853297769156159\n",
      "Testing F1 score: 0.9716642754662841\n",
      "-----------------------------------\n",
      "\n"
     ]
    }
   ],
   "source": [
    "labels = np.uint(gm.predict(x_test_u_new_scaled))\n",
    "# flip the labels since the random assignment got them backwards\n",
    "labels_flipped = np.logical_not(labels).astype(int)\n",
    "print_analysis(labels_flipped, y_test_u, 'Testing')"
   ]
  },
  {
   "cell_type": "markdown",
   "metadata": {
    "id": "hag5_UfLEsOE"
   },
   "source": [
    "### Train Model on Balanced Data"
   ]
  },
  {
   "cell_type": "code",
   "execution_count": null,
   "metadata": {
    "colab": {
     "base_uri": "https://localhost:8080/"
    },
    "id": "NO526bQo_OEn",
    "outputId": "0b6023ae-2ff0-4d93-cf3d-3c7705638a66"
   },
   "outputs": [
    {
     "data": {
      "text/plain": [
       "array([[-2.77744956e-03, -5.71528344e-04,  4.41013628e-05,\n",
       "         6.33606808e-04, -1.18661748e-02, -1.70606769e-03,\n",
       "        -1.80791904e-02, -1.18010791e-04, -1.65283404e-03],\n",
       "       [ 5.99049580e+00,  1.23269138e+00, -9.51192892e-02,\n",
       "        -1.36658428e+00,  2.55933614e+01,  3.67970366e+00,\n",
       "         3.89938004e+01,  2.54529608e-01,  3.56488756e+00]])"
      ]
     },
     "execution_count": 27,
     "metadata": {
      "tags": []
     },
     "output_type": "execute_result"
    }
   ],
   "source": [
    "from sklearn.mixture import GaussianMixture\n",
    "\n",
    "gm = GaussianMixture(n_components=2, random_state=0).fit(x_train_b_scaled)\n",
    "gm.means_"
   ]
  },
  {
   "cell_type": "markdown",
   "metadata": {
    "id": "mtpIQyTvE44Z"
   },
   "source": [
    "### Evaluate on Training Data"
   ]
  },
  {
   "cell_type": "code",
   "execution_count": null,
   "metadata": {
    "colab": {
     "base_uri": "https://localhost:8080/",
     "height": 424
    },
    "id": "77ClIrllE0ze",
    "outputId": "50639eb1-9867-49a7-91fb-173c77cc120e"
   },
   "outputs": [
    {
     "data": {
      "text/html": [
       "<div>\n",
       "<style scoped>\n",
       "    .dataframe tbody tr th:only-of-type {\n",
       "        vertical-align: middle;\n",
       "    }\n",
       "\n",
       "    .dataframe tbody tr th {\n",
       "        vertical-align: top;\n",
       "    }\n",
       "\n",
       "    .dataframe thead th {\n",
       "        text-align: right;\n",
       "    }\n",
       "</style>\n",
       "<table border=\"1\" class=\"dataframe\">\n",
       "  <thead>\n",
       "    <tr style=\"text-align: right;\">\n",
       "      <th></th>\n",
       "      <th>verified</th>\n",
       "      <th>geo_enabled</th>\n",
       "      <th>profile_use_background_image</th>\n",
       "      <th>default_profile</th>\n",
       "      <th>followers_count</th>\n",
       "      <th>friends_count</th>\n",
       "      <th>listed_count</th>\n",
       "      <th>favourites_count</th>\n",
       "      <th>statuses_count</th>\n",
       "      <th>bot</th>\n",
       "      <th>Cluster ID</th>\n",
       "    </tr>\n",
       "  </thead>\n",
       "  <tbody>\n",
       "    <tr>\n",
       "      <th>0</th>\n",
       "      <td>False</td>\n",
       "      <td>True</td>\n",
       "      <td>True</td>\n",
       "      <td>True</td>\n",
       "      <td>122</td>\n",
       "      <td>109</td>\n",
       "      <td>0</td>\n",
       "      <td>1085</td>\n",
       "      <td>812</td>\n",
       "      <td>0</td>\n",
       "      <td>0</td>\n",
       "    </tr>\n",
       "    <tr>\n",
       "      <th>1</th>\n",
       "      <td>False</td>\n",
       "      <td>False</td>\n",
       "      <td>True</td>\n",
       "      <td>True</td>\n",
       "      <td>0</td>\n",
       "      <td>0</td>\n",
       "      <td>0</td>\n",
       "      <td>0</td>\n",
       "      <td>3</td>\n",
       "      <td>1</td>\n",
       "      <td>0</td>\n",
       "    </tr>\n",
       "    <tr>\n",
       "      <th>2</th>\n",
       "      <td>False</td>\n",
       "      <td>False</td>\n",
       "      <td>True</td>\n",
       "      <td>False</td>\n",
       "      <td>84</td>\n",
       "      <td>175</td>\n",
       "      <td>1</td>\n",
       "      <td>1561</td>\n",
       "      <td>3878</td>\n",
       "      <td>0</td>\n",
       "      <td>0</td>\n",
       "    </tr>\n",
       "    <tr>\n",
       "      <th>3</th>\n",
       "      <td>False</td>\n",
       "      <td>False</td>\n",
       "      <td>True</td>\n",
       "      <td>True</td>\n",
       "      <td>0</td>\n",
       "      <td>18</td>\n",
       "      <td>0</td>\n",
       "      <td>4</td>\n",
       "      <td>5</td>\n",
       "      <td>1</td>\n",
       "      <td>0</td>\n",
       "    </tr>\n",
       "    <tr>\n",
       "      <th>4</th>\n",
       "      <td>False</td>\n",
       "      <td>False</td>\n",
       "      <td>True</td>\n",
       "      <td>True</td>\n",
       "      <td>0</td>\n",
       "      <td>41</td>\n",
       "      <td>0</td>\n",
       "      <td>10</td>\n",
       "      <td>24</td>\n",
       "      <td>1</td>\n",
       "      <td>0</td>\n",
       "    </tr>\n",
       "    <tr>\n",
       "      <th>...</th>\n",
       "      <td>...</td>\n",
       "      <td>...</td>\n",
       "      <td>...</td>\n",
       "      <td>...</td>\n",
       "      <td>...</td>\n",
       "      <td>...</td>\n",
       "      <td>...</td>\n",
       "      <td>...</td>\n",
       "      <td>...</td>\n",
       "      <td>...</td>\n",
       "      <td>...</td>\n",
       "    </tr>\n",
       "    <tr>\n",
       "      <th>12942</th>\n",
       "      <td>False</td>\n",
       "      <td>False</td>\n",
       "      <td>True</td>\n",
       "      <td>True</td>\n",
       "      <td>0</td>\n",
       "      <td>0</td>\n",
       "      <td>0</td>\n",
       "      <td>0</td>\n",
       "      <td>27</td>\n",
       "      <td>1</td>\n",
       "      <td>0</td>\n",
       "    </tr>\n",
       "    <tr>\n",
       "      <th>12943</th>\n",
       "      <td>False</td>\n",
       "      <td>True</td>\n",
       "      <td>True</td>\n",
       "      <td>False</td>\n",
       "      <td>203</td>\n",
       "      <td>177</td>\n",
       "      <td>10</td>\n",
       "      <td>9129</td>\n",
       "      <td>14144</td>\n",
       "      <td>0</td>\n",
       "      <td>0</td>\n",
       "    </tr>\n",
       "    <tr>\n",
       "      <th>12944</th>\n",
       "      <td>False</td>\n",
       "      <td>False</td>\n",
       "      <td>True</td>\n",
       "      <td>True</td>\n",
       "      <td>153</td>\n",
       "      <td>166</td>\n",
       "      <td>0</td>\n",
       "      <td>27</td>\n",
       "      <td>13</td>\n",
       "      <td>1</td>\n",
       "      <td>0</td>\n",
       "    </tr>\n",
       "    <tr>\n",
       "      <th>12945</th>\n",
       "      <td>False</td>\n",
       "      <td>True</td>\n",
       "      <td>True</td>\n",
       "      <td>True</td>\n",
       "      <td>2085</td>\n",
       "      <td>1865</td>\n",
       "      <td>65</td>\n",
       "      <td>32121</td>\n",
       "      <td>40349</td>\n",
       "      <td>0</td>\n",
       "      <td>0</td>\n",
       "    </tr>\n",
       "    <tr>\n",
       "      <th>12946</th>\n",
       "      <td>False</td>\n",
       "      <td>False</td>\n",
       "      <td>True</td>\n",
       "      <td>False</td>\n",
       "      <td>303</td>\n",
       "      <td>1019</td>\n",
       "      <td>13</td>\n",
       "      <td>11926</td>\n",
       "      <td>20432</td>\n",
       "      <td>0</td>\n",
       "      <td>0</td>\n",
       "    </tr>\n",
       "  </tbody>\n",
       "</table>\n",
       "<p>12947 rows × 11 columns</p>\n",
       "</div>"
      ],
      "text/plain": [
       "      verified geo_enabled  ... bot Cluster ID\n",
       "0        False        True  ...   0          0\n",
       "1        False       False  ...   1          0\n",
       "2        False       False  ...   0          0\n",
       "3        False       False  ...   1          0\n",
       "4        False       False  ...   1          0\n",
       "...        ...         ...  ...  ..        ...\n",
       "12942    False       False  ...   1          0\n",
       "12943    False        True  ...   0          0\n",
       "12944    False       False  ...   1          0\n",
       "12945    False        True  ...   0          0\n",
       "12946    False       False  ...   0          0\n",
       "\n",
       "[12947 rows x 11 columns]"
      ]
     },
     "execution_count": 28,
     "metadata": {
      "tags": []
     },
     "output_type": "execute_result"
    }
   ],
   "source": [
    "labels = gm.predict(x_train_b_scaled)\n",
    "labels = labels.reshape(-1, 1)\n",
    "cols = train_b.columns.tolist()\n",
    "cols.append('Cluster ID')\n",
    "check = pd.DataFrame(np.concatenate((train_b, labels), axis=1), columns=cols)\n",
    "check"
   ]
  },
  {
   "cell_type": "code",
   "execution_count": null,
   "metadata": {
    "colab": {
     "base_uri": "https://localhost:8080/"
    },
    "id": "RT0GJudNE_IV",
    "outputId": "ab275437-7962-40f3-e2fe-e3f9b5897a35"
   },
   "outputs": [
    {
     "name": "stdout",
     "output_type": "stream",
     "text": [
      "-----------------------------------\n",
      "Training Accuracy score: 0.49787595581988103\n",
      "Training Precision score: 1.0\n",
      "Training Recall score: 0.49764314967931383\n",
      "Training F1 score: 0.6645683917238533\n",
      "-----------------------------------\n",
      "\n"
     ]
    }
   ],
   "source": [
    "labels = np.uint(gm.predict(x_train_b_scaled))\n",
    "# flip the labels since the random assignment got them backwards\n",
    "labels_flipped = np.logical_not(labels).astype(int)\n",
    "print_analysis(labels_flipped, y_train_b, 'Training')"
   ]
  },
  {
   "cell_type": "code",
   "execution_count": null,
   "metadata": {
    "colab": {
     "base_uri": "https://localhost:8080/"
    },
    "id": "f-Q6QVgzPmiw",
    "outputId": "75ff9302-f7a5-4bbb-d443-b53e3e906a4b"
   },
   "outputs": [
    {
     "data": {
      "text/plain": [
       "0    12941\n",
       "1        6\n",
       "Name: Cluster ID, dtype: int64"
      ]
     },
     "execution_count": 30,
     "metadata": {
      "tags": []
     },
     "output_type": "execute_result"
    }
   ],
   "source": [
    "check['Cluster ID'].value_counts()"
   ]
  },
  {
   "cell_type": "code",
   "execution_count": null,
   "metadata": {
    "colab": {
     "base_uri": "https://localhost:8080/",
     "height": 238
    },
    "id": "JxHCnQJtP0d4",
    "outputId": "2500643a-188f-4c4b-91cf-6f64e97aad49"
   },
   "outputs": [
    {
     "data": {
      "text/html": [
       "<div>\n",
       "<style scoped>\n",
       "    .dataframe tbody tr th:only-of-type {\n",
       "        vertical-align: middle;\n",
       "    }\n",
       "\n",
       "    .dataframe tbody tr th {\n",
       "        vertical-align: top;\n",
       "    }\n",
       "\n",
       "    .dataframe thead th {\n",
       "        text-align: right;\n",
       "    }\n",
       "</style>\n",
       "<table border=\"1\" class=\"dataframe\">\n",
       "  <thead>\n",
       "    <tr style=\"text-align: right;\">\n",
       "      <th></th>\n",
       "      <th>verified</th>\n",
       "      <th>geo_enabled</th>\n",
       "      <th>profile_use_background_image</th>\n",
       "      <th>default_profile</th>\n",
       "      <th>followers_count</th>\n",
       "      <th>friends_count</th>\n",
       "      <th>listed_count</th>\n",
       "      <th>favourites_count</th>\n",
       "      <th>statuses_count</th>\n",
       "      <th>bot</th>\n",
       "      <th>Cluster ID</th>\n",
       "    </tr>\n",
       "  </thead>\n",
       "  <tbody>\n",
       "    <tr>\n",
       "      <th>2539</th>\n",
       "      <td>True</td>\n",
       "      <td>False</td>\n",
       "      <td>True</td>\n",
       "      <td>False</td>\n",
       "      <td>2830107</td>\n",
       "      <td>635</td>\n",
       "      <td>31524</td>\n",
       "      <td>64348</td>\n",
       "      <td>33591</td>\n",
       "      <td>0</td>\n",
       "      <td>1</td>\n",
       "    </tr>\n",
       "    <tr>\n",
       "      <th>6175</th>\n",
       "      <td>True</td>\n",
       "      <td>True</td>\n",
       "      <td>True</td>\n",
       "      <td>False</td>\n",
       "      <td>1591499</td>\n",
       "      <td>350</td>\n",
       "      <td>26736</td>\n",
       "      <td>2114</td>\n",
       "      <td>202745</td>\n",
       "      <td>0</td>\n",
       "      <td>1</td>\n",
       "    </tr>\n",
       "    <tr>\n",
       "      <th>8093</th>\n",
       "      <td>True</td>\n",
       "      <td>True</td>\n",
       "      <td>False</td>\n",
       "      <td>False</td>\n",
       "      <td>6639843</td>\n",
       "      <td>5797</td>\n",
       "      <td>25439</td>\n",
       "      <td>6645</td>\n",
       "      <td>220668</td>\n",
       "      <td>0</td>\n",
       "      <td>1</td>\n",
       "    </tr>\n",
       "    <tr>\n",
       "      <th>8537</th>\n",
       "      <td>True</td>\n",
       "      <td>True</td>\n",
       "      <td>True</td>\n",
       "      <td>False</td>\n",
       "      <td>4193906</td>\n",
       "      <td>289</td>\n",
       "      <td>20713</td>\n",
       "      <td>162</td>\n",
       "      <td>10146</td>\n",
       "      <td>0</td>\n",
       "      <td>1</td>\n",
       "    </tr>\n",
       "    <tr>\n",
       "      <th>9403</th>\n",
       "      <td>True</td>\n",
       "      <td>True</td>\n",
       "      <td>True</td>\n",
       "      <td>False</td>\n",
       "      <td>50865898</td>\n",
       "      <td>8320</td>\n",
       "      <td>67930</td>\n",
       "      <td>376</td>\n",
       "      <td>11335</td>\n",
       "      <td>0</td>\n",
       "      <td>1</td>\n",
       "    </tr>\n",
       "    <tr>\n",
       "      <th>12130</th>\n",
       "      <td>True</td>\n",
       "      <td>True</td>\n",
       "      <td>True</td>\n",
       "      <td>False</td>\n",
       "      <td>4119086</td>\n",
       "      <td>93030</td>\n",
       "      <td>16676</td>\n",
       "      <td>95</td>\n",
       "      <td>62492</td>\n",
       "      <td>0</td>\n",
       "      <td>1</td>\n",
       "    </tr>\n",
       "  </tbody>\n",
       "</table>\n",
       "</div>"
      ],
      "text/plain": [
       "      verified geo_enabled  ... bot Cluster ID\n",
       "2539      True       False  ...   0          1\n",
       "6175      True        True  ...   0          1\n",
       "8093      True        True  ...   0          1\n",
       "8537      True        True  ...   0          1\n",
       "9403      True        True  ...   0          1\n",
       "12130     True        True  ...   0          1\n",
       "\n",
       "[6 rows x 11 columns]"
      ]
     },
     "execution_count": 31,
     "metadata": {
      "tags": []
     },
     "output_type": "execute_result"
    }
   ],
   "source": [
    "check[check['Cluster ID'] == 1]"
   ]
  },
  {
   "cell_type": "markdown",
   "metadata": {
    "id": "uYwgdSHBFOlF"
   },
   "source": [
    "### Evaluate on Testing Data"
   ]
  },
  {
   "cell_type": "code",
   "execution_count": null,
   "metadata": {
    "colab": {
     "base_uri": "https://localhost:8080/",
     "height": 424
    },
    "id": "fclvE8BjFMsD",
    "outputId": "c391940a-91c1-446e-c838-c5a0d0c203ac"
   },
   "outputs": [
    {
     "data": {
      "text/html": [
       "<div>\n",
       "<style scoped>\n",
       "    .dataframe tbody tr th:only-of-type {\n",
       "        vertical-align: middle;\n",
       "    }\n",
       "\n",
       "    .dataframe tbody tr th {\n",
       "        vertical-align: top;\n",
       "    }\n",
       "\n",
       "    .dataframe thead th {\n",
       "        text-align: right;\n",
       "    }\n",
       "</style>\n",
       "<table border=\"1\" class=\"dataframe\">\n",
       "  <thead>\n",
       "    <tr style=\"text-align: right;\">\n",
       "      <th></th>\n",
       "      <th>verified</th>\n",
       "      <th>geo_enabled</th>\n",
       "      <th>profile_use_background_image</th>\n",
       "      <th>default_profile</th>\n",
       "      <th>followers_count</th>\n",
       "      <th>friends_count</th>\n",
       "      <th>listed_count</th>\n",
       "      <th>favourites_count</th>\n",
       "      <th>statuses_count</th>\n",
       "      <th>bot</th>\n",
       "      <th>Cluster ID</th>\n",
       "    </tr>\n",
       "  </thead>\n",
       "  <tbody>\n",
       "    <tr>\n",
       "      <th>0</th>\n",
       "      <td>False</td>\n",
       "      <td>False</td>\n",
       "      <td>True</td>\n",
       "      <td>True</td>\n",
       "      <td>1</td>\n",
       "      <td>0</td>\n",
       "      <td>0</td>\n",
       "      <td>0</td>\n",
       "      <td>93</td>\n",
       "      <td>1</td>\n",
       "      <td>0</td>\n",
       "    </tr>\n",
       "    <tr>\n",
       "      <th>1</th>\n",
       "      <td>False</td>\n",
       "      <td>False</td>\n",
       "      <td>True</td>\n",
       "      <td>True</td>\n",
       "      <td>0</td>\n",
       "      <td>0</td>\n",
       "      <td>0</td>\n",
       "      <td>0</td>\n",
       "      <td>220</td>\n",
       "      <td>1</td>\n",
       "      <td>0</td>\n",
       "    </tr>\n",
       "    <tr>\n",
       "      <th>2</th>\n",
       "      <td>False</td>\n",
       "      <td>False</td>\n",
       "      <td>True</td>\n",
       "      <td>True</td>\n",
       "      <td>3</td>\n",
       "      <td>789</td>\n",
       "      <td>0</td>\n",
       "      <td>137</td>\n",
       "      <td>269</td>\n",
       "      <td>1</td>\n",
       "      <td>0</td>\n",
       "    </tr>\n",
       "    <tr>\n",
       "      <th>3</th>\n",
       "      <td>False</td>\n",
       "      <td>False</td>\n",
       "      <td>True</td>\n",
       "      <td>True</td>\n",
       "      <td>0</td>\n",
       "      <td>0</td>\n",
       "      <td>0</td>\n",
       "      <td>0</td>\n",
       "      <td>47</td>\n",
       "      <td>1</td>\n",
       "      <td>0</td>\n",
       "    </tr>\n",
       "    <tr>\n",
       "      <th>4</th>\n",
       "      <td>False</td>\n",
       "      <td>False</td>\n",
       "      <td>True</td>\n",
       "      <td>True</td>\n",
       "      <td>0</td>\n",
       "      <td>0</td>\n",
       "      <td>0</td>\n",
       "      <td>0</td>\n",
       "      <td>83</td>\n",
       "      <td>1</td>\n",
       "      <td>0</td>\n",
       "    </tr>\n",
       "    <tr>\n",
       "      <th>...</th>\n",
       "      <td>...</td>\n",
       "      <td>...</td>\n",
       "      <td>...</td>\n",
       "      <td>...</td>\n",
       "      <td>...</td>\n",
       "      <td>...</td>\n",
       "      <td>...</td>\n",
       "      <td>...</td>\n",
       "      <td>...</td>\n",
       "      <td>...</td>\n",
       "      <td>...</td>\n",
       "    </tr>\n",
       "    <tr>\n",
       "      <th>3232</th>\n",
       "      <td>False</td>\n",
       "      <td>True</td>\n",
       "      <td>True</td>\n",
       "      <td>False</td>\n",
       "      <td>13145</td>\n",
       "      <td>872</td>\n",
       "      <td>1019</td>\n",
       "      <td>8607</td>\n",
       "      <td>149818</td>\n",
       "      <td>0</td>\n",
       "      <td>0</td>\n",
       "    </tr>\n",
       "    <tr>\n",
       "      <th>3233</th>\n",
       "      <td>False</td>\n",
       "      <td>False</td>\n",
       "      <td>True</td>\n",
       "      <td>True</td>\n",
       "      <td>42</td>\n",
       "      <td>56</td>\n",
       "      <td>0</td>\n",
       "      <td>3280</td>\n",
       "      <td>1629</td>\n",
       "      <td>0</td>\n",
       "      <td>0</td>\n",
       "    </tr>\n",
       "    <tr>\n",
       "      <th>3234</th>\n",
       "      <td>False</td>\n",
       "      <td>True</td>\n",
       "      <td>False</td>\n",
       "      <td>False</td>\n",
       "      <td>687</td>\n",
       "      <td>605</td>\n",
       "      <td>30</td>\n",
       "      <td>3166</td>\n",
       "      <td>3776</td>\n",
       "      <td>0</td>\n",
       "      <td>0</td>\n",
       "    </tr>\n",
       "    <tr>\n",
       "      <th>3235</th>\n",
       "      <td>False</td>\n",
       "      <td>True</td>\n",
       "      <td>True</td>\n",
       "      <td>False</td>\n",
       "      <td>3114</td>\n",
       "      <td>4684</td>\n",
       "      <td>138</td>\n",
       "      <td>7809</td>\n",
       "      <td>8129</td>\n",
       "      <td>0</td>\n",
       "      <td>0</td>\n",
       "    </tr>\n",
       "    <tr>\n",
       "      <th>3236</th>\n",
       "      <td>False</td>\n",
       "      <td>True</td>\n",
       "      <td>True</td>\n",
       "      <td>True</td>\n",
       "      <td>49</td>\n",
       "      <td>164</td>\n",
       "      <td>2</td>\n",
       "      <td>5332</td>\n",
       "      <td>2907</td>\n",
       "      <td>0</td>\n",
       "      <td>0</td>\n",
       "    </tr>\n",
       "  </tbody>\n",
       "</table>\n",
       "<p>3237 rows × 11 columns</p>\n",
       "</div>"
      ],
      "text/plain": [
       "     verified geo_enabled  ... bot Cluster ID\n",
       "0       False       False  ...   1          0\n",
       "1       False       False  ...   1          0\n",
       "2       False       False  ...   1          0\n",
       "3       False       False  ...   1          0\n",
       "4       False       False  ...   1          0\n",
       "...       ...         ...  ...  ..        ...\n",
       "3232    False        True  ...   0          0\n",
       "3233    False       False  ...   0          0\n",
       "3234    False        True  ...   0          0\n",
       "3235    False        True  ...   0          0\n",
       "3236    False        True  ...   0          0\n",
       "\n",
       "[3237 rows x 11 columns]"
      ]
     },
     "execution_count": 32,
     "metadata": {
      "tags": []
     },
     "output_type": "execute_result"
    }
   ],
   "source": [
    "labels = gm.predict(x_test_b_scaled)\n",
    "labels = labels.reshape(-1, 1)\n",
    "cols = test_b.columns.tolist()\n",
    "cols.append('Cluster ID')\n",
    "check = pd.DataFrame(np.concatenate((test_b, labels), axis=1), columns=cols)\n",
    "check"
   ]
  },
  {
   "cell_type": "code",
   "execution_count": null,
   "metadata": {
    "colab": {
     "base_uri": "https://localhost:8080/"
    },
    "id": "o9ae605ZFWgW",
    "outputId": "27607eff-8851-4583-b18f-5c1839f1f0a5"
   },
   "outputs": [
    {
     "name": "stdout",
     "output_type": "stream",
     "text": [
      "-----------------------------------\n",
      "Testing Accuracy score: 0.5103490886623416\n",
      "Testing Precision score: 1.0\n",
      "Testing Recall score: 0.5103490886623416\n",
      "Testing F1 score: 0.6758028226631213\n",
      "-----------------------------------\n",
      "\n"
     ]
    }
   ],
   "source": [
    "labels = np.uint(gm.predict(x_test_b_scaled))\n",
    "# flip the labels since the random assignment got them backwards\n",
    "labels_flipped = np.logical_not(labels).astype(int)\n",
    "print_analysis(labels_flipped, y_test_b, 'Testing')"
   ]
  },
  {
   "cell_type": "markdown",
   "metadata": {
    "id": "y5DdftlEQEUz"
   },
   "source": [
    "Again appears to be struggling with a single outlier. Try removing"
   ]
  },
  {
   "cell_type": "code",
   "execution_count": null,
   "metadata": {
    "id": "IOEoHEd4Fawx"
   },
   "outputs": [],
   "source": [
    "train_b_new = train_b.drop(train_b.index[3798])\n",
    "x_train_b_new = train_b_new.to_numpy()[:,:-1].astype(int)\n",
    "x_train_b_new_scaled = scaler.fit_transform(x_train_b_new)\n",
    "y_train_b_new = train_b_new.to_numpy()[:,-1].astype(int)\n",
    "\n",
    "x_test_b_new_scaled = scaler.transform(x_test_b)"
   ]
  },
  {
   "cell_type": "code",
   "execution_count": null,
   "metadata": {
    "colab": {
     "base_uri": "https://localhost:8080/"
    },
    "id": "1Tl7Hj9KMoiE",
    "outputId": "089cf4c9-2acb-4450-9b9c-b7f4c4346aaa"
   },
   "outputs": [
    {
     "data": {
      "text/plain": [
       "array([[-0.16644822, -0.16312698,  0.05457096,  0.18143088, -0.01952676,\n",
       "        -0.10547728, -0.05637636, -0.21563272, -0.23475893],\n",
       "       [ 0.86421617,  0.84697198, -0.28333801, -0.94200767,  0.10138493,\n",
       "         0.54764881,  0.29271185,  1.11958717,  1.21889236]])"
      ]
     },
     "execution_count": 54,
     "metadata": {
      "tags": []
     },
     "output_type": "execute_result"
    }
   ],
   "source": [
    "gm = GaussianMixture(n_components=2, random_state=0).fit(x_train_b_new_scaled)\n",
    "gm.means_"
   ]
  },
  {
   "cell_type": "markdown",
   "metadata": {
    "id": "o7aIX2OEQvCW"
   },
   "source": [
    "### Evaluate on Training Data"
   ]
  },
  {
   "cell_type": "code",
   "execution_count": null,
   "metadata": {
    "colab": {
     "base_uri": "https://localhost:8080/",
     "height": 424
    },
    "id": "gejCZpAFQsRM",
    "outputId": "0ed04db8-bd20-4959-f803-ee611f01e355"
   },
   "outputs": [
    {
     "data": {
      "text/html": [
       "<div>\n",
       "<style scoped>\n",
       "    .dataframe tbody tr th:only-of-type {\n",
       "        vertical-align: middle;\n",
       "    }\n",
       "\n",
       "    .dataframe tbody tr th {\n",
       "        vertical-align: top;\n",
       "    }\n",
       "\n",
       "    .dataframe thead th {\n",
       "        text-align: right;\n",
       "    }\n",
       "</style>\n",
       "<table border=\"1\" class=\"dataframe\">\n",
       "  <thead>\n",
       "    <tr style=\"text-align: right;\">\n",
       "      <th></th>\n",
       "      <th>verified</th>\n",
       "      <th>geo_enabled</th>\n",
       "      <th>profile_use_background_image</th>\n",
       "      <th>default_profile</th>\n",
       "      <th>followers_count</th>\n",
       "      <th>friends_count</th>\n",
       "      <th>listed_count</th>\n",
       "      <th>favourites_count</th>\n",
       "      <th>statuses_count</th>\n",
       "      <th>bot</th>\n",
       "      <th>Cluster ID</th>\n",
       "    </tr>\n",
       "  </thead>\n",
       "  <tbody>\n",
       "    <tr>\n",
       "      <th>0</th>\n",
       "      <td>False</td>\n",
       "      <td>False</td>\n",
       "      <td>True</td>\n",
       "      <td>True</td>\n",
       "      <td>0</td>\n",
       "      <td>39</td>\n",
       "      <td>0</td>\n",
       "      <td>35</td>\n",
       "      <td>45</td>\n",
       "      <td>1</td>\n",
       "      <td>0</td>\n",
       "    </tr>\n",
       "    <tr>\n",
       "      <th>1</th>\n",
       "      <td>False</td>\n",
       "      <td>True</td>\n",
       "      <td>False</td>\n",
       "      <td>False</td>\n",
       "      <td>231</td>\n",
       "      <td>274</td>\n",
       "      <td>0</td>\n",
       "      <td>15243</td>\n",
       "      <td>13250</td>\n",
       "      <td>0</td>\n",
       "      <td>0</td>\n",
       "    </tr>\n",
       "    <tr>\n",
       "      <th>2</th>\n",
       "      <td>False</td>\n",
       "      <td>False</td>\n",
       "      <td>True</td>\n",
       "      <td>True</td>\n",
       "      <td>2</td>\n",
       "      <td>0</td>\n",
       "      <td>0</td>\n",
       "      <td>0</td>\n",
       "      <td>148</td>\n",
       "      <td>1</td>\n",
       "      <td>0</td>\n",
       "    </tr>\n",
       "    <tr>\n",
       "      <th>3</th>\n",
       "      <td>False</td>\n",
       "      <td>True</td>\n",
       "      <td>True</td>\n",
       "      <td>False</td>\n",
       "      <td>371</td>\n",
       "      <td>347</td>\n",
       "      <td>10</td>\n",
       "      <td>36</td>\n",
       "      <td>7267</td>\n",
       "      <td>0</td>\n",
       "      <td>0</td>\n",
       "    </tr>\n",
       "    <tr>\n",
       "      <th>4</th>\n",
       "      <td>False</td>\n",
       "      <td>True</td>\n",
       "      <td>True</td>\n",
       "      <td>True</td>\n",
       "      <td>43</td>\n",
       "      <td>51</td>\n",
       "      <td>0</td>\n",
       "      <td>4</td>\n",
       "      <td>166</td>\n",
       "      <td>0</td>\n",
       "      <td>0</td>\n",
       "    </tr>\n",
       "    <tr>\n",
       "      <th>...</th>\n",
       "      <td>...</td>\n",
       "      <td>...</td>\n",
       "      <td>...</td>\n",
       "      <td>...</td>\n",
       "      <td>...</td>\n",
       "      <td>...</td>\n",
       "      <td>...</td>\n",
       "      <td>...</td>\n",
       "      <td>...</td>\n",
       "      <td>...</td>\n",
       "      <td>...</td>\n",
       "    </tr>\n",
       "    <tr>\n",
       "      <th>12941</th>\n",
       "      <td>False</td>\n",
       "      <td>False</td>\n",
       "      <td>True</td>\n",
       "      <td>True</td>\n",
       "      <td>0</td>\n",
       "      <td>0</td>\n",
       "      <td>0</td>\n",
       "      <td>0</td>\n",
       "      <td>1</td>\n",
       "      <td>1</td>\n",
       "      <td>0</td>\n",
       "    </tr>\n",
       "    <tr>\n",
       "      <th>12942</th>\n",
       "      <td>False</td>\n",
       "      <td>False</td>\n",
       "      <td>True</td>\n",
       "      <td>True</td>\n",
       "      <td>50</td>\n",
       "      <td>52</td>\n",
       "      <td>7</td>\n",
       "      <td>70</td>\n",
       "      <td>128</td>\n",
       "      <td>0</td>\n",
       "      <td>0</td>\n",
       "    </tr>\n",
       "    <tr>\n",
       "      <th>12943</th>\n",
       "      <td>False</td>\n",
       "      <td>True</td>\n",
       "      <td>True</td>\n",
       "      <td>False</td>\n",
       "      <td>40</td>\n",
       "      <td>222</td>\n",
       "      <td>1</td>\n",
       "      <td>335</td>\n",
       "      <td>685</td>\n",
       "      <td>0</td>\n",
       "      <td>0</td>\n",
       "    </tr>\n",
       "    <tr>\n",
       "      <th>12944</th>\n",
       "      <td>False</td>\n",
       "      <td>False</td>\n",
       "      <td>True</td>\n",
       "      <td>True</td>\n",
       "      <td>0</td>\n",
       "      <td>0</td>\n",
       "      <td>0</td>\n",
       "      <td>0</td>\n",
       "      <td>18</td>\n",
       "      <td>1</td>\n",
       "      <td>0</td>\n",
       "    </tr>\n",
       "    <tr>\n",
       "      <th>12945</th>\n",
       "      <td>False</td>\n",
       "      <td>False</td>\n",
       "      <td>True</td>\n",
       "      <td>True</td>\n",
       "      <td>597</td>\n",
       "      <td>2123</td>\n",
       "      <td>14</td>\n",
       "      <td>1787</td>\n",
       "      <td>509</td>\n",
       "      <td>0</td>\n",
       "      <td>0</td>\n",
       "    </tr>\n",
       "  </tbody>\n",
       "</table>\n",
       "<p>12946 rows × 11 columns</p>\n",
       "</div>"
      ],
      "text/plain": [
       "      verified geo_enabled  ... bot Cluster ID\n",
       "0        False       False  ...   1          0\n",
       "1        False        True  ...   0          0\n",
       "2        False       False  ...   1          0\n",
       "3        False        True  ...   0          0\n",
       "4        False        True  ...   0          0\n",
       "...        ...         ...  ...  ..        ...\n",
       "12941    False       False  ...   1          0\n",
       "12942    False       False  ...   0          0\n",
       "12943    False        True  ...   0          0\n",
       "12944    False       False  ...   1          0\n",
       "12945    False       False  ...   0          0\n",
       "\n",
       "[12946 rows x 11 columns]"
      ]
     },
     "execution_count": 50,
     "metadata": {
      "tags": []
     },
     "output_type": "execute_result"
    }
   ],
   "source": [
    "labels = gm.predict(x_train_b_new_scaled)\n",
    "labels = labels.reshape(-1, 1)\n",
    "cols = train_b_new.columns.tolist()\n",
    "cols.append('Cluster ID')\n",
    "check = pd.DataFrame(np.concatenate((train_b_new, labels), axis=1), columns=cols)\n",
    "check"
   ]
  },
  {
   "cell_type": "code",
   "execution_count": null,
   "metadata": {
    "colab": {
     "base_uri": "https://localhost:8080/"
    },
    "id": "bzmp3sozQ1JQ",
    "outputId": "86a65350-6481-4088-c624-bbfc65f6168d"
   },
   "outputs": [
    {
     "name": "stdout",
     "output_type": "stream",
     "text": [
      "-----------------------------------\n",
      "Training Accuracy score: 0.6599721921829136\n",
      "Training Precision score: 0.9990713511840272\n",
      "Training Recall score: 0.5948760482904801\n",
      "Training F1 score: 0.7457255083179298\n",
      "-----------------------------------\n",
      "\n"
     ]
    }
   ],
   "source": [
    "labels = np.uint(gm.predict(x_train_b_new_scaled))\n",
    "# flip the labels since the random assignment got them backwards\n",
    "labels_flipped = np.logical_not(labels).astype(int)\n",
    "print_analysis(labels_flipped, y_train_b_new, 'Training')"
   ]
  },
  {
   "cell_type": "markdown",
   "metadata": {
    "id": "bcHjtlR-Q_P2"
   },
   "source": [
    "### Evaluate on Testing Data"
   ]
  },
  {
   "cell_type": "code",
   "execution_count": null,
   "metadata": {
    "colab": {
     "base_uri": "https://localhost:8080/",
     "height": 424
    },
    "id": "efSLbcYdQ3iU",
    "outputId": "2ec5214f-b359-45f4-9965-9e295977baab"
   },
   "outputs": [
    {
     "data": {
      "text/html": [
       "<div>\n",
       "<style scoped>\n",
       "    .dataframe tbody tr th:only-of-type {\n",
       "        vertical-align: middle;\n",
       "    }\n",
       "\n",
       "    .dataframe tbody tr th {\n",
       "        vertical-align: top;\n",
       "    }\n",
       "\n",
       "    .dataframe thead th {\n",
       "        text-align: right;\n",
       "    }\n",
       "</style>\n",
       "<table border=\"1\" class=\"dataframe\">\n",
       "  <thead>\n",
       "    <tr style=\"text-align: right;\">\n",
       "      <th></th>\n",
       "      <th>verified</th>\n",
       "      <th>geo_enabled</th>\n",
       "      <th>profile_use_background_image</th>\n",
       "      <th>default_profile</th>\n",
       "      <th>followers_count</th>\n",
       "      <th>friends_count</th>\n",
       "      <th>listed_count</th>\n",
       "      <th>favourites_count</th>\n",
       "      <th>statuses_count</th>\n",
       "      <th>bot</th>\n",
       "      <th>Cluster ID</th>\n",
       "    </tr>\n",
       "  </thead>\n",
       "  <tbody>\n",
       "    <tr>\n",
       "      <th>0</th>\n",
       "      <td>False</td>\n",
       "      <td>True</td>\n",
       "      <td>True</td>\n",
       "      <td>False</td>\n",
       "      <td>2722</td>\n",
       "      <td>2693</td>\n",
       "      <td>135</td>\n",
       "      <td>101</td>\n",
       "      <td>7599</td>\n",
       "      <td>0</td>\n",
       "      <td>1</td>\n",
       "    </tr>\n",
       "    <tr>\n",
       "      <th>1</th>\n",
       "      <td>False</td>\n",
       "      <td>False</td>\n",
       "      <td>False</td>\n",
       "      <td>False</td>\n",
       "      <td>33</td>\n",
       "      <td>109</td>\n",
       "      <td>1</td>\n",
       "      <td>126</td>\n",
       "      <td>175</td>\n",
       "      <td>0</td>\n",
       "      <td>0</td>\n",
       "    </tr>\n",
       "    <tr>\n",
       "      <th>2</th>\n",
       "      <td>False</td>\n",
       "      <td>False</td>\n",
       "      <td>True</td>\n",
       "      <td>True</td>\n",
       "      <td>3972</td>\n",
       "      <td>3816</td>\n",
       "      <td>66</td>\n",
       "      <td>26765</td>\n",
       "      <td>11974</td>\n",
       "      <td>0</td>\n",
       "      <td>1</td>\n",
       "    </tr>\n",
       "    <tr>\n",
       "      <th>3</th>\n",
       "      <td>False</td>\n",
       "      <td>False</td>\n",
       "      <td>True</td>\n",
       "      <td>True</td>\n",
       "      <td>0</td>\n",
       "      <td>177</td>\n",
       "      <td>0</td>\n",
       "      <td>0</td>\n",
       "      <td>82</td>\n",
       "      <td>1</td>\n",
       "      <td>0</td>\n",
       "    </tr>\n",
       "    <tr>\n",
       "      <th>4</th>\n",
       "      <td>False</td>\n",
       "      <td>False</td>\n",
       "      <td>True</td>\n",
       "      <td>True</td>\n",
       "      <td>0</td>\n",
       "      <td>0</td>\n",
       "      <td>2</td>\n",
       "      <td>0</td>\n",
       "      <td>17</td>\n",
       "      <td>1</td>\n",
       "      <td>0</td>\n",
       "    </tr>\n",
       "    <tr>\n",
       "      <th>...</th>\n",
       "      <td>...</td>\n",
       "      <td>...</td>\n",
       "      <td>...</td>\n",
       "      <td>...</td>\n",
       "      <td>...</td>\n",
       "      <td>...</td>\n",
       "      <td>...</td>\n",
       "      <td>...</td>\n",
       "      <td>...</td>\n",
       "      <td>...</td>\n",
       "      <td>...</td>\n",
       "    </tr>\n",
       "    <tr>\n",
       "      <th>3232</th>\n",
       "      <td>False</td>\n",
       "      <td>True</td>\n",
       "      <td>True</td>\n",
       "      <td>False</td>\n",
       "      <td>358</td>\n",
       "      <td>264</td>\n",
       "      <td>3</td>\n",
       "      <td>6452</td>\n",
       "      <td>6357</td>\n",
       "      <td>0</td>\n",
       "      <td>0</td>\n",
       "    </tr>\n",
       "    <tr>\n",
       "      <th>3233</th>\n",
       "      <td>False</td>\n",
       "      <td>False</td>\n",
       "      <td>True</td>\n",
       "      <td>False</td>\n",
       "      <td>2069</td>\n",
       "      <td>1883</td>\n",
       "      <td>58</td>\n",
       "      <td>7827</td>\n",
       "      <td>10921</td>\n",
       "      <td>0</td>\n",
       "      <td>1</td>\n",
       "    </tr>\n",
       "    <tr>\n",
       "      <th>3234</th>\n",
       "      <td>False</td>\n",
       "      <td>True</td>\n",
       "      <td>False</td>\n",
       "      <td>False</td>\n",
       "      <td>185</td>\n",
       "      <td>191</td>\n",
       "      <td>3</td>\n",
       "      <td>8986</td>\n",
       "      <td>22954</td>\n",
       "      <td>0</td>\n",
       "      <td>0</td>\n",
       "    </tr>\n",
       "    <tr>\n",
       "      <th>3235</th>\n",
       "      <td>False</td>\n",
       "      <td>False</td>\n",
       "      <td>True</td>\n",
       "      <td>True</td>\n",
       "      <td>158</td>\n",
       "      <td>154</td>\n",
       "      <td>0</td>\n",
       "      <td>75</td>\n",
       "      <td>85</td>\n",
       "      <td>1</td>\n",
       "      <td>0</td>\n",
       "    </tr>\n",
       "    <tr>\n",
       "      <th>3236</th>\n",
       "      <td>False</td>\n",
       "      <td>True</td>\n",
       "      <td>True</td>\n",
       "      <td>True</td>\n",
       "      <td>13</td>\n",
       "      <td>0</td>\n",
       "      <td>0</td>\n",
       "      <td>445</td>\n",
       "      <td>466</td>\n",
       "      <td>1</td>\n",
       "      <td>0</td>\n",
       "    </tr>\n",
       "  </tbody>\n",
       "</table>\n",
       "<p>3237 rows × 11 columns</p>\n",
       "</div>"
      ],
      "text/plain": [
       "     verified geo_enabled  ... bot Cluster ID\n",
       "0       False        True  ...   0          1\n",
       "1       False       False  ...   0          0\n",
       "2       False       False  ...   0          1\n",
       "3       False       False  ...   1          0\n",
       "4       False       False  ...   1          0\n",
       "...       ...         ...  ...  ..        ...\n",
       "3232    False        True  ...   0          0\n",
       "3233    False       False  ...   0          1\n",
       "3234    False        True  ...   0          0\n",
       "3235    False       False  ...   1          0\n",
       "3236    False        True  ...   1          0\n",
       "\n",
       "[3237 rows x 11 columns]"
      ]
     },
     "execution_count": 56,
     "metadata": {
      "tags": []
     },
     "output_type": "execute_result"
    }
   ],
   "source": [
    "labels = gm.predict(x_test_b_new_scaled)\n",
    "labels = labels.reshape(-1, 1)\n",
    "cols = test_b.columns.tolist()\n",
    "cols.append('Cluster ID')\n",
    "check = pd.DataFrame(np.concatenate((test_b, labels), axis=1), columns=cols)\n",
    "check"
   ]
  },
  {
   "cell_type": "code",
   "execution_count": null,
   "metadata": {
    "colab": {
     "base_uri": "https://localhost:8080/"
    },
    "id": "hBdYwwfARHyc",
    "outputId": "883e440d-13da-42fd-8388-f68bc6bee8ca"
   },
   "outputs": [
    {
     "name": "stdout",
     "output_type": "stream",
     "text": [
      "-----------------------------------\n",
      "Testing Accuracy score: 0.6570898980537535\n",
      "Testing Precision score: 0.9993868792152054\n",
      "Testing Recall score: 0.5951077035414385\n",
      "Testing F1 score: 0.7459954233409611\n",
      "-----------------------------------\n",
      "\n"
     ]
    }
   ],
   "source": [
    "labels = np.uint(gm.predict(x_test_b_new_scaled))\n",
    "# flip the labels since the random assignment got them backwards\n",
    "labels_flipped = np.logical_not(labels).astype(int)\n",
    "print_analysis(labels_flipped, y_test_b, 'Testing')"
   ]
  },
  {
   "cell_type": "code",
   "execution_count": null,
   "metadata": {
    "id": "F-ilDZu1RMxO"
   },
   "outputs": [],
   "source": []
  }
 ],
 "metadata": {
  "colab": {
   "collapsed_sections": [],
   "name": "cluster.ipynb",
   "provenance": [],
   "toc_visible": true
  },
  "kernelspec": {
   "display_name": "Python 3",
   "language": "python",
   "name": "python3"
  },
  "language_info": {
   "codemirror_mode": {
    "name": "ipython",
    "version": 3
   },
   "file_extension": ".py",
   "mimetype": "text/x-python",
   "name": "python",
   "nbconvert_exporter": "python",
   "pygments_lexer": "ipython3",
   "version": "3.8.5"
  }
 },
 "nbformat": 4,
 "nbformat_minor": 1
}
